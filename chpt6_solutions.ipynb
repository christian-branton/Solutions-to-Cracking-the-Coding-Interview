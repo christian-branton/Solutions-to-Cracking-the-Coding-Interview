{
 "cells": [
  {
   "cell_type": "markdown",
   "metadata": {},
   "source": [
    "####  1) \n",
    "\n",
    "The way to solve this is to take 1 pill from bottle 1, 2 pills from bottle 2, 3 from bottle 3 etc... and weigh all of these pills.  The total weight will be $W = w_1 +2w_2+3w_3+\\ldots +20w_{20}$.  Notice that if $W$ is 20.1, the 1.1 gram pill must be in bottle 1.  If it is 20.2 it must be in bottle 2, etc...  If the weight is 21 it must be in bottle 10, 21.1 is bottle 11, ..., 21.9 is bottle 19 and 22 is bottle 20.  In general $10\\cdot(W-20)$ gives the appropriate bottle."
   ]
  },
  {
   "cell_type": "markdown",
   "metadata": {},
   "source": [
    "#### 2)\n",
    "\n",
    "The probability of winning the first game is $p$, while the probability of winning the second game is $\\binom{3}{2}p^2(1-p)+p^3 = 3p^2-2p^3$.  Therefore, at high values of $p$, the second game will dominate and we would prefer that game.  The cross over point is where the 2 probabilities are equal:\n",
    "\n",
    "\\begin{equation}\n",
    "p_c = 3p_c^2- 2 p_c^3,\n",
    "\\end{equation}\n",
    "and when solving results in $p_c=p/2.$"
   ]
  },
  {
   "cell_type": "markdown",
   "metadata": {},
   "source": [
    "#### 3)\n",
    "After removing the corners, since the diagonally opposite corners of the the chess board will be of the same color, we will be left with a board of 30 red squares and 32 black squares (or vice versa).  Since, in either a vertical or horizontal orientation, one domino takes of a red and a black square, we can only possibly covers boards with the same number of reds/blacks.  It is therefore impossible to cover the board with dominos when opposite disagonal corners are excluded."
   ]
  },
  {
   "cell_type": "markdown",
   "metadata": {},
   "source": [
    "#### 4)\n",
    "Each ant can either travel clockwise or counterclockwise with equal probability.  Therefore, the sample space is all triples (with all equal probability) indicating the direction of the 3 ants, so that $|S| = 2^3$=8.  The probability of collision is 1 - probability of no collision.  No collision occurs if all the ants are traveling clockwise or all of them are traveling counterclockwise: = $1- 2/8 = 3/4$.  In general, for an n-vertex polygon, the formula is $1-2/2^n=1-\\frac{1}{2^{n-1}}$."
   ]
  },
  {
   "cell_type": "markdown",
   "metadata": {},
   "source": [
    "#### 5)\n",
    "Let $(\\cdot, \\cdot)$ be a tuple where the first slot represens the volume of water in the 3 gallon container and the second represents the volume in the 5 gallon container.\n",
    "\n",
    "Fill 3 (3, 0), pour 3 to 5 (0, 3), fill 3 (3, 3), pour 3 to five (1, 5), empty 5 (1, 0), pour 3 to 5 (0, 1), fill 3, (3, 1), pour 3 to five (0, 4)."
   ]
  },
  {
   "cell_type": "markdown",
   "metadata": {},
   "source": [
    "#### 6)\n",
    "Let's first consider the case of only 1 person having blue eyes.\n",
    "\n",
    "n = 1:\n",
    "\n",
    "All non-blues see exactly 1 blue, and so they don't immediately assume they are blue.  The one blue sees exactly zero blues.  Since the one blue knows there exists at least 1 pair of blue eyes, and he doesn't see any, he knows immediately he is the blue eyed person.  He therefore leaves on the first flight.  After this, all remaining people realize what he saw; namely that there were no other blue eyes, and the remaining people now know they do not have blue eyes.  Therefore, in this case, 1 person leaves on day 1.\n",
    "\n",
    "n = 2:\n",
    "\n",
    "All non-blues see exactly 2 blues, and so they don't immediately assume they are blue.  The 2 blues see exactly 1 blue.  In this case, the 2 blues do not assume they are blue immediately because they see a blue and therefore 0 people leave on day 1.  Since the 2 blues observed zero people leave on day one, they realize they are not in the n = 1 case, and therefore must be in the n = 2 case.  Since the 2 blues observe only 1 other blue, they must realize they are blue and therefore both leave on day 2.   After this, all remaining people realize what they knew, namely that that the island has n = 2, and therefore no other people leave after day 2.\n",
    "\n",
    "n = 3:\n",
    "\n",
    "All non-blues see exactly 3 blues, and so they don't immediately assume they are blue.  The 3 blues see exactly 2 blues.  In this case, the 3 blues do not assume they are blue immediately because they see 2 other blues and therefore the blues assume (at worst) that the island is in the n = 2 case, while the non-blues assume (at worst) that the island is in the n = 3 case.  Therfore, no one leaves on day 1 or 2.  After day 2, since no one left, all blues realize they are not in the n = 2 case, and must therefore be in the n = 3 case, and therefore all blues leave on day 3.  After this, all remaining people realize what they knew, namely that that the island has n = 3, and therefore no other people leave after day 3.\n",
    "\n",
    "In general for an island with n blues, all n blues leave on day n, and zero people leave on all other days.\n"
   ]
  },
  {
   "cell_type": "markdown",
   "metadata": {},
   "source": [
    "#### 7)\n",
    "\n",
    "If the world has $n$ families, then the ratio of boys to girls, $R$ (a random variable) is:\n",
    "\\begin{equation}\n",
    "R = \\frac{B_1+B_2+\\ldots+B_n}{1+1+\\ldots+1} = \\frac{B_1+B_2+\\ldots+B_n}{n}.\n",
    "\\end{equation}\n",
    " \n",
    "Under this strategy of having children, we know that the total number of children for family, $i$, $X_i$, is a random variable with a geometric distribution: $X_i\\sim Geom(0.5)$, which has expectation $E[X_i] = 1/.5 = 2$.  Therefore, $E[X_i] = E[B_i+1]=E[B_i]+1$, so that $E[B_i] = 1$.  Thus, the expected ratio is:\n",
    "\n",
    "\\begin{equation}\n",
    "E[R] = \\frac{nE[B_1]}{n} = 1.\n",
    "\\end{equation}\n",
    "\n",
    "The result might seem counter-intuitive because a family will continuously have boys until they have a girl, so one might expect a higher ratio of boys in this society.  However, consider the possible outcomes of a single family: G, BG, BBG, BBBG, ...  The outcome G happens with much higher probability (0.5 vs. 0.25 at most) than the rest of the outcomes. Therefore, even though there are many more outcomes with more boys than girls, they have much lower probability.  That is, there are many families with only a single girl.\n",
    "\n",
    "\n",
    "I write a quick simulation for a society of 1000 families below to compute the ratio."
   ]
  },
  {
   "cell_type": "code",
   "execution_count": 92,
   "metadata": {},
   "outputs": [
    {
     "name": "stdout",
     "output_type": "stream",
     "text": [
      "1.004\n"
     ]
    }
   ],
   "source": [
    "import numpy as np\n",
    "\n",
    "cnt_boys = 0\n",
    "cnt_girls = 0\n",
    "\n",
    "for _ in range(1000):\n",
    "    C = np.random.binomial(1, .5, 1)[0]\n",
    "    while C != 1:\n",
    "        cnt_boys +=1\n",
    "        C = np.random.binomial(1, .5, 1)[0]\n",
    "    cnt_girls += 1\n",
    "    \n",
    "    \n",
    "print(cnt_boys/cnt_girls)\n"
   ]
  },
  {
   "cell_type": "markdown",
   "metadata": {},
   "source": [
    "#### 8)\n",
    "\n",
    "One obvious, but not optimal strategy to solve this problem is the break up the floors into intervals of size $\\Delta f$.  With the first egg, procede to drop it at floor $\\Delta f$, $2 \\Delta f$, $\\ldots$.  Say this egg breaks at $k \\Delta f$.  Then, with the remaining egg, do a linear scan from $(k-1) \\Delta f +1$ to $k\\Delta f -1$. In the worst case, we must do $\\Delta f -1$ drops for the first egg and $\\Delta f - 1$ drops for the second egg.  For example, if $\\Delta f = 8$, then, in the worst case, the egg will break on the 12th toss of the first egg at floor 96.  We must then try floors 89, 90, ..., 95 with the second egg for a total of 18 drops.\n",
    "\n",
    "We must also be careful that in the worst case, the egg does not break at $\\textrm{floor} f/\\Delta f$.  In this case, under this strategy, we would need to do a linear scan for the remaining $f \\textrm{mod } \\Delta f$ floors.  In any case, since we would like the worst case scenario, we choose the max out of those 2 scenarios and pick $\\Delta f$ so as to minimize the number of drops, $n^\\star$:\n",
    "\n",
    "\\begin{equation}\n",
    "n^\\star = \\textrm{min}_{\\Delta_f \\in \\{ 1, 2, 3, \\ldots f \\} } \\left \\{\\max \\left \\{ \\textrm{floor}\\left( \\frac{f}{\\Delta f}\\right ) +f \\textrm{mod}~ \\Delta f, ~\\textrm{floor}\\left( \\frac{f}{\\Delta f}\\right ) -1 +\\Delta f-1\\right \\} \\right \\}.\n",
    "\\end{equation}\n",
    "\n",
    "This equation can be solved numerically, which I implement below with the function MinDrops_2eggs1(f).  For $f=100$, this evaluates to 18 drops.\n",
    "\n",
    "The optimized solution must be computed with dynamic programming.  Suppose that, in the optimized solution, for a given strength egg, the first drop occurs at floor $i$.  In the optimized solution, the egg will either break, or it will not break.  If it breaks, we must check the remaining floors $i-1$ remaining floors below i in a linear scan.  If it does not break, we have another $f-i$ floors to check above with 2 eggs.  Since we are considering the worst case scenario in terms of the threshold floor of the egg, we choose the worst out of the 2 scenarios (breaking or not breaking) to compute the total number of required drops.  The first floor with which to throw egg, $i$, is not known.  This is something we get to choose, so, since we are trying to minimize the number of drops, we pick $i$ so as to minimixze the total number of drops.  The solution can be written recursively as:\n",
    "\n",
    "\\begin{equation}\n",
    "  MinDrops(f, e)=\\begin{cases}\n",
    "    0 & \\text{for $f=0$}\\\\\n",
    "    f & \\text{for $f>0, e = 1$}\\\\\n",
    "     \\min_{i \\in \\{1, 2, \\ldots, f \\}} \\left \\{ \\max \\{ i-1, MinDrops(f-i, 2)\\}+1 \\right \\}&  \\text{$f>0, e = 2$}.\n",
    "  \\end{cases}\n",
    "\\end{equation}\n",
    "\n",
    "This function gives us the minimum number of drops required for $f$ floors with $e$ eggs (for the cases only of $e=0, 1$, or 2). Within the max, the first argument corresponds to case of the first egg breaking.  The second argument corresponds to case of the first egg not breaking, in which case we have another instance of the same exact problem with a smaller amount of floors, so we can solve this case recursively.  A 1 is added to either case, because we have tossed 1 egg in this trial.  The value $i$, is chosen so as to minimize the total number of drops.  The base cases are not too difficult to think through.\n",
    "\n",
    "I use both methods to solve this problem and compare the solutions in the graph below.  In the first, non-optimized version, for $f=100$, the solution is 18 drops, while for $f=100$, the optimized solution gives 14 drops."
   ]
  },
  {
   "cell_type": "code",
   "execution_count": 61,
   "metadata": {},
   "outputs": [],
   "source": [
    "from math import floor\n",
    "\n",
    "\n",
    "def MinDrops_2eggs1(f):\n",
    "    curr_min = inf\n",
    "\n",
    "    for df in range(1, f+1):\n",
    "        x1 = floor(f/df)+df-2\n",
    "        x2 = floor(f/df) + f % df\n",
    "        x= max(x1, x2)\n",
    "        \n",
    "        if x< curr_min:\n",
    "            curr_min = x\n",
    "\n",
    "    return curr_min \n",
    "\n",
    "\n",
    "min_drops1 = []\n",
    "for f in range(1, 101):\n",
    "    min_drops1.append(MinDrops_2eggs1(f))"
   ]
  },
  {
   "cell_type": "code",
   "execution_count": 62,
   "metadata": {},
   "outputs": [],
   "source": [
    "from math import inf\n",
    "\n",
    "\n",
    "def MinDrops_2eggs2(f, e):\n",
    "    if (f,e) in memo:\n",
    "        return memo[(f,e)]\n",
    "    if f == 0:\n",
    "        return 0\n",
    "    if f>0 and e==1:\n",
    "        return f\n",
    "    \n",
    "    curr_min = inf\n",
    "    for i in range(1, f+1):\n",
    "        x = max(MinDrops_2eggs2(i-1, 1)+1, MinDrops_2eggs2(f-i, 2)+1)\n",
    "        if x<curr_min:\n",
    "            curr_min = x\n",
    "    \n",
    "    memo[(f, e)] = curr_min\n",
    "    return curr_min\n",
    "\n",
    "memo = {}\n",
    "min_drops2 = []\n",
    "for f in range(1, 101):\n",
    "    min_drops2.append(MinDrops(f, 2))\n",
    "\n"
   ]
  },
  {
   "cell_type": "code",
   "execution_count": 64,
   "metadata": {},
   "outputs": [
    {
     "data": {
      "image/png": "[encoded data removed]",
      "text/plain": [
       "<Figure size 432x288 with 1 Axes>"
      ]
     },
     "metadata": {},
     "output_type": "display_data"
    }
   ],
   "source": [
    "%matplotlib inline\n",
    "import matplotlib\n",
    "import numpy as np\n",
    "import matplotlib.pyplot as plt\n",
    "\n",
    "    \n",
    "plt.scatter(list(range(1, 101)), min_drops2)\n",
    "plt.scatter(list(range(1, 101)), min_drops1)\n",
    "plt.ylabel('Minimum Number of Drops')\n",
    "plt.xlabel('Number of floors')\n",
    "plt.ylim((1, 19));\n",
    "\n"
   ]
  },
  {
   "cell_type": "markdown",
   "metadata": {},
   "source": [
    "#### 9)\n",
    "\n",
    "On the first pass, all lockers which are a multiple of 1 get toggled.  On the second, all lockers which are a multiple of 2 get toggled.  On the third, all lockers which are a multiple of 3 get toggled and so forth.  If we consider any individual locker $i$, we know that all divisors of that locker number come in pairs about $sqrt(i)$.  For example for $i=78$, the pairs are $(1, 78), (2, 39), (5, 26), (6, 13)$.  Thus, for every toggle, there is an \"untoggle\" that undoes that action.  The only exception is when $i$ is a perfect square.  In this case, there is 1 divisor namely $\\sqrt{i}$ which does not have a partner.  For example, for $i=36$, the divisors are $(1, 36), (2, 18), (3, 4), (6, 6)$.  Thus, for the first 3 tuples I have enumerated, the locker gets toggled then untoggled.  But for the last, it gets toggled only once.  Therefore, the only lockers that are open in the end are those which are perfect squares: $1, 4, 9, 16, 25, 36, 49, 64, 81$ and $100$."
   ]
  },
  {
   "cell_type": "markdown",
   "metadata": {},
   "source": [
    "#### 10)\n",
    "\n",
    "We can get the results back in 1 week.  Take an easy example of 6 bottles and 3 test strips.  Convert the bottle number to it binary representation (001, 010, 011, 100, 101, 110) and assign strip 1 to the first (rightmost) bit, strip 2 to the second bit and strip 3 to the leftmost bit.  For all bottles, if the bit is a 1, but a drop on the corresponding strip.  Under this strategy, the table below summarizes the test results for strip 1, 2 and 3 if the poisned bottle is bottle 1, 2, etc...  In the table, I have indicated a positive result with a 1 and a negative result with a zero.  For example if the poisson is in bottle 4, then the fact that we have dropped bottles 1-3, and 5-6 onto the strips will not affect the outcome (they will be negative).  For bottle 4, we have only dropped it on strip 3, and therefore strips 2 and 1 will be negative, while strip 3 will be positive.  Note that the result code corresponds exactly to the bottle code which contains the poisson, so that we can identify immediately which bottle is poisned.   \n",
    "\n",
    "     s3,s2,s1\n",
    "     ________\n",
    "\n",
    "bottle 1:        0, 0, 1\n",
    "\n",
    "bottle 2:        1, 1, 0\n",
    "\n",
    "bottle 3:       0, 1, 1\n",
    "       \n",
    "bottle 4:        1, 0, 0\n",
    "\n",
    "bottle 5:       1, 0, 1\n",
    "\n",
    "bottle 6:       1, 1, 0\n",
    "\n",
    "\n",
    "For this strategy, the number of test strips we will need is at least the number of bits of the largest number.  The number of bits needed to represent 1000 is $\\mathrm{floor}(\\log_2(1000))+1 =10$ which is exactly the number of test strips we have. "
   ]
  }
 ],
 "metadata": {
  "kernelspec": {
   "display_name": "Python 3",
   "language": "python",
   "name": "python3"
  }
 },
 "nbformat": 4,
 "nbformat_minor": 2
}
