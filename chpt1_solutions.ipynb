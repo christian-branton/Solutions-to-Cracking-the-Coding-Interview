{
 "cells": [
  {
   "cell_type": "markdown",
   "metadata": {},
   "source": [
    "#### 1)\n",
    "\n",
    "For this problem, I can iterate through the string, checking if the character is in a hash table.  If not, I put it in the hash table.  If I make it all the way through the string without finding a character in the hashtable, the string has unique characters.  This should take O(n) time.\n"
   ]
  },
  {
   "cell_type": "code",
   "execution_count": 3,
   "metadata": {},
   "outputs": [
    {
     "name": "stdout",
     "output_type": "stream",
     "text": [
      "False\n",
      "True\n",
      "True\n"
     ]
    }
   ],
   "source": [
    "def IsUnique(x):\n",
    "    my_hash = {}\n",
    "    for char in x:\n",
    "        if char in my_hash:\n",
    "            return False\n",
    "        else: \n",
    "            my_hash[char] = None\n",
    "        \n",
    "    return True\n",
    "\n",
    "print(IsUnique('hello'))\n",
    "print(IsUnique('helo'))\n",
    "print(IsUnique('h'))"
   ]
  },
  {
   "cell_type": "markdown",
   "metadata": {},
   "source": [
    "If I cannot use an additional data structure, I can use 2 pointers, p1, p2.  I first point to the first element in the list with p1, and iterate through the rest of the list with p2 to see if there is a match.  If not, I then point p1 to the second element and iterate through the rest of the list with p2.  This should take O($ n^2$) time."
   ]
  },
  {
   "cell_type": "code",
   "execution_count": 4,
   "metadata": {},
   "outputs": [
    {
     "name": "stdout",
     "output_type": "stream",
     "text": [
      "False\n",
      "True\n",
      "True\n"
     ]
    }
   ],
   "source": [
    "def IsUnique_no_hash(x):\n",
    "    \n",
    "    if len(x) <=1:\n",
    "        return True\n",
    "\n",
    "    for i in range(len(x)-1):\n",
    "        for j in range(i+1, len(x)):\n",
    "            if x[i] == x[j]:\n",
    "                return False\n",
    "\n",
    "    return True\n",
    "\n",
    "print(IsUnique('hello'))\n",
    "print(IsUnique('helo'))\n",
    "print(IsUnique('h'))"
   ]
  },
  {
   "cell_type": "markdown",
   "metadata": {},
   "source": [
    "#### 2) \n",
    "\n",
    "I iterate through the strings, keeping a count of the characters in their own hash table, then I check whether the hash tables are the same.  This should take O($|s|$) (where $|s|$ is the size of the larger string) time and O($|s|$) space.  If I wanted to avoid using extra space, I could use an inplace sorting algorithm, like quick sort, to sort both strings and then iterate through each string simultaneously to compare each character.  This would take $O\\left (|s|\\cdot \\log|s|\\right)$ time and O(1) space."
   ]
  },
  {
   "cell_type": "code",
   "execution_count": 11,
   "metadata": {},
   "outputs": [
    {
     "name": "stdout",
     "output_type": "stream",
     "text": [
      "True\n",
      "False\n",
      "False\n"
     ]
    }
   ],
   "source": [
    "def is_perm(x1, x2):\n",
    "    \n",
    "    if len(x1) != len(x2):\n",
    "        return False\n",
    "    \n",
    "    my_hash1 = {}\n",
    "    my_hash2 = {}\n",
    "    for i in range(len(x1)):\n",
    "        char1 = x1[i]\n",
    "        char2 = x2[i]\n",
    "        \n",
    "        if char1 in my_hash1:\n",
    "            my_hash1[char1] += 1\n",
    "        else:\n",
    "            my_hash1[char1] = 1 \n",
    "            \n",
    "        if char2 in my_hash2:\n",
    "            my_hash2[char2] += 1\n",
    "        else:\n",
    "            my_hash2[char2] = 1\n",
    "            \n",
    "    \n",
    "    return my_hash1 == my_hash2\n",
    "    \n",
    "    \n",
    "print(is_perm('hello', 'olelh'))\n",
    "print(is_perm('hello', 'oleh'))\n",
    "print(is_perm('hello', 'olell'))"
   ]
  },
  {
   "cell_type": "code",
   "execution_count": 4,
   "metadata": {},
   "outputs": [
    {
     "name": "stdout",
     "output_type": "stream",
     "text": [
      "1\n",
      "2\n"
     ]
    }
   ],
   "source": [
    "D= {'l':1, 'd':2}\n",
    "for k in D:\n",
    "    print(D[k])"
   ]
  },
  {
   "cell_type": "markdown",
   "metadata": {},
   "source": [
    "#### 4) \n",
    "The easiest way to implement this is probably to recognize that a for a palindrome the counts of all unique characters in the string will all either be even (if the string has an even length), or the counts will all be even with the exception of one character, which will have an odd count (if the string has an odd length).  To keep track of the counts I can use a hash table and then do a linear scan through the hash table to see if it conforms to either of the 2 possibilities mentioned above.  This will take $O(n)$ time and $O(n)$ space."
   ]
  },
  {
   "cell_type": "code",
   "execution_count": 7,
   "metadata": {},
   "outputs": [
    {
     "name": "stdout",
     "output_type": "stream",
     "text": [
      "True\n",
      "True\n",
      "False\n"
     ]
    }
   ],
   "source": [
    "def IsPalPerm(s):\n",
    "    if len(s) == 0: return True\n",
    "    if len(s) == 1: return True\n",
    "    \n",
    "    D={}\n",
    "    for char in s:\n",
    "        if char in D: D[char] += 1\n",
    "        else: D[char] = 1\n",
    "    \n",
    "    odd_cnt = 0\n",
    "    for key in D:\n",
    "        if D[key]%2 != 0:\n",
    "            odd_cnt +=1\n",
    "        if odd_cnt == 2:\n",
    "            return False\n",
    "\n",
    "    return True\n",
    "     \n",
    "print(IsPalPerm('radar'))\n",
    "print(IsPalPerm('arard'))\n",
    "print(IsPalPerm('Douglas'))"
   ]
  },
  {
   "cell_type": "markdown",
   "metadata": {},
   "source": [
    "#### 5)\n",
    "There are 3 cases I must consider:\n",
    "\n",
    "1) If $|s_1|$ > $|s_2| +1 $ or $|s_2|$ > $|s_1| +1 $, then there is no way the get from one string to the other in only 1 edit, so return False.\n",
    "\n",
    "1) If $|s_1|$ = $|s_2|$ then the only way we could have an edit of 1 away is with a replacement in one of the strings.  To check this, I can loop through both strings simultaneously and keep a count of the number of replacements.  If this exceeds 1, I return False.  This will take $O(|s|)$ time.\n",
    "\n",
    "2) Let $s_1$ be the larger string, if $|s_1|$ = $|s_2| +1 $ then to if $s_1$ is only 1 edit away from $s_2$, to make the strings the same, I could equivalently delete one character from $s_1$ or insert 1 character into $s_2$.  The code to take care of this case is shown below, and will take $O(|s_1|)$ time."
   ]
  },
  {
   "cell_type": "code",
   "execution_count": 16,
   "metadata": {},
   "outputs": [
    {
     "name": "stdout",
     "output_type": "stream",
     "text": [
      "True\n",
      "True\n",
      "True\n",
      "True\n",
      "False\n"
     ]
    }
   ],
   "source": [
    "def OneAway(s1, s2):\n",
    "    \n",
    "    if len(s1) > len(s2) + 1: return False\n",
    "    if len(s2) > len(s1) + 1: return False\n",
    "\n",
    "    if len(s1) == len(s2):\n",
    "        cnt = 0\n",
    "        for i in range(len(s1)):\n",
    "            if s1[i] != s2[i]:\n",
    "                cnt += 1\n",
    "            if cnt > 1:\n",
    "                return False\n",
    "        return True\n",
    "\n",
    "    elif len(s1) > len(s2): \n",
    "        cnt = 0\n",
    "        i, j = 0, 0\n",
    "        while j <= len(s2)-1:\n",
    "            if s1[i] != s2[j]:\n",
    "                cnt += 1\n",
    "                i += 1\n",
    "            else:\n",
    "                i += 1\n",
    "                j += 1\n",
    "            if cnt > 1:\n",
    "                return False\n",
    "        return True\n",
    "\n",
    "    else: \n",
    "        cnt = 0\n",
    "        i, j = 0, 0\n",
    "        while j <= len(s1)-1:\n",
    "            if s2[i] != s1[j]:\n",
    "                cnt += 1\n",
    "                i +=1\n",
    "            else:\n",
    "                i += 1\n",
    "                j += 1\n",
    "            if cnt > 1:\n",
    "                return False   \n",
    "        return True\n",
    "    \n",
    "print(OneAway('pale', 'ple'))\n",
    "print(OneAway('ple', 'pale'))\n",
    "print(OneAway('pales', 'pale'))\n",
    "print(OneAway('pale', 'bale'))\n",
    "print(OneAway('pale', 'bake'))"
   ]
  },
  {
   "cell_type": "markdown",
   "metadata": {},
   "source": [
    "#### 6)\n",
    "This problem is a simple nested while loop, keeping a count of the current character and incrementing it by 1 if the next character is the same, or resetting it to 1 if the next character is different.  Note, that string concatentation by repeatedly using the \"+\" sign is costly in both time and space, and I therefore save all strings generated in the loop in an array and do the concatenation later with the .join() method.  The loop takes $O(|s|)$ time, and the concatentation with the join method has a time complexity that is linear in the size of the total characters of the concatenated string.  The total size is maximum when each character has a count of one (and there has $2|s|$ total characters).  Thus, the time complexity of this opperation is $O(|s|)$, so the total time complexity is $O(|s|)$, and the total space complexity is also $O(|s|)$.\n"
   ]
  },
  {
   "cell_type": "code",
   "execution_count": 38,
   "metadata": {},
   "outputs": [
    {
     "name": "stdout",
     "output_type": "stream",
     "text": [
      "a2b1c5a3\n",
      "d1o1u1g1\n",
      "d1o4g1\n"
     ]
    }
   ],
   "source": [
    "def CompressString(s):\n",
    "    arr = []\n",
    "    i = 0\n",
    "    while i <= len(s)-1:\n",
    "        char = s[i]\n",
    "        cnt = 1\n",
    "        while i+1 <= len(s)-1 and s[i+1] == char:\n",
    "            i += 1\n",
    "            cnt += 1\n",
    "        arr.append(char + str(cnt))\n",
    "        i += 1\n",
    "    return \"\".join(arr)\n",
    "\n",
    "print(CompressString(\"aabcccccaaa\"))\n",
    "print(CompressString(\"doug\"))\n",
    "print(CompressString(\"doooog\"))"
   ]
  },
  {
   "cell_type": "markdown",
   "metadata": {},
   "source": [
    "#### 7)\n",
    "Let $A^R$ be the rotated matrix and $A$ be the input matrix.  It is not difficult to work out that the proper transformation is $A^R_{i,j} = A_{m-j-1, i}$, where $m$ is the number of rows of $A$.  This function is implemented below and takes $O(mn)$ time and $O(mn)$ space."
   ]
  },
  {
   "cell_type": "code",
   "execution_count": 40,
   "metadata": {},
   "outputs": [
    {
     "data": {
      "text/plain": [
       "[[9, 5, 1], [10, 6, 2], [11, 7, 3], [12, 8, 4]]"
      ]
     },
     "execution_count": 40,
     "metadata": {},
     "output_type": "execute_result"
    }
   ],
   "source": [
    "def Rotate(A):\n",
    "    m = len(A)\n",
    "    n = len(A[0])\n",
    "    \n",
    "    AR = [[None]*m for _ in range(n)]\n",
    "    for i in range(n):\n",
    "        for j in range(m):\n",
    "            AR[i][j] = A[m - j - 1][i]\n",
    "    return AR\n",
    "\n",
    "A=[[1, 2, 3, 4], \n",
    "   [5, 6, 7, 8], \n",
    "   [9, 10, 11, 12]]\n",
    "\n",
    "Rotate(A)"
   ]
  },
  {
   "cell_type": "markdown",
   "metadata": {},
   "source": [
    "For square matrices, the function can also be implemented inplace in $O(n^2)$ time an $O(1)$ space by making a sequence of 4 swaps in a diamond shape within the matrix for every element of row $i$ from column $i$ to $n-i$ inclusive.  To make these swaps, I iterate over the first $floor(n/2)$ rows, and then the $i$ to $n-i$ columns, making 4 swaps per iteration."
   ]
  },
  {
   "cell_type": "code",
   "execution_count": 1,
   "metadata": {},
   "outputs": [
    {
     "name": "stdout",
     "output_type": "stream",
     "text": [
      "[[3, 1], [4, 2]]\n",
      "[[7, 4, 1], [8, 5, 2], [9, 6, 3]]\n",
      "[[13, 9, 5, 1], [14, 10, 6, 2], [15, 11, 7, 3], [16, 12, 8, 4]]\n"
     ]
    }
   ],
   "source": [
    "def RotateMatrix(M):\n",
    "    first_col = 0\n",
    "    last_col = len(M[0])-1\n",
    "    for first_row in range(len(M)//2):\n",
    "        i=0\n",
    "        last_row = len(M)-1-first_row\n",
    "        for col in range(first_col, last_col):\n",
    "            # SWAP 1\n",
    "            tmp1 = M[first_row+i][last_col]\n",
    "            M[first_row+i][last_col] = M[first_row][col]\n",
    "            # SWAP 2\n",
    "            tmp2 = M[last_row][last_col-i]\n",
    "            M[last_row][last_col-i] = tmp1\n",
    "            #SWAP 3\n",
    "            tmp3 = M[last_row-i][first_col]\n",
    "            M[last_row-i][first_col] = tmp2\n",
    "            #SWAP 4\n",
    "            M[first_row][col] = tmp3\n",
    "            \n",
    "            i += 1\n",
    "            \n",
    "            # 4 swaps\n",
    "        first_col += 1\n",
    "        last_col -= 1\n",
    "    return M\n",
    "        \n",
    "print(RotateMatrix([[1, 2], [3, 4]]))\n",
    "print(RotateMatrix([[1, 2, 3], [4, 5, 6], [7, 8, 9]]))\n",
    "print(RotateMatrix([[1, 2, 3, 4], [5, 6, 7, 8], [9, 10, 11, 12], [13, 14, 15, 16]]))"
   ]
  },
  {
   "cell_type": "markdown",
   "metadata": {},
   "source": [
    "#### 8)\n",
    "\n",
    "To set all rows/colums to zero, I iterate through the whole matrix and record all rows which contain a 0 in a hashtable and all columns which contain zero in another hash table.  I then iterate through the row hash table and zero out all rows in the matrix which are in that hash table.  I do the same for the columns.\n",
    "\n",
    "Since the maximum size of the row hash table is $m$, I would have to zero out at most $m$ rows for a total time of $O(mn)$.  An analgous argument can be made for the column hash table.  The original iteration throughout the whole matrix takes $O(mn)$ time, and thus the whole algorithm takes $O(mn)$ time. \n",
    "\n",
    "As for space, the hash tables take $O(m+n)$ space.  Note, that this algorithm, with a little trick as outlined in the solution in the book can be made to take $O(1)$ auxilliary space."
   ]
  },
  {
   "cell_type": "code",
   "execution_count": 44,
   "metadata": {},
   "outputs": [
    {
     "data": {
      "text/plain": [
       "[[0, 0, 0, 0], [5, 0, 7, 0], [0, 0, 0, 0], [13, 0, 15, 0], [0, 0, 0, 0]]"
      ]
     },
     "execution_count": 44,
     "metadata": {},
     "output_type": "execute_result"
    }
   ],
   "source": [
    "def ZeroMat(M):\n",
    "    \n",
    "    m = len(M)\n",
    "    n = len(M[0])\n",
    "    \n",
    "    Hrows = {}\n",
    "    Hcols = {}\n",
    "    \n",
    "    ### record rows and cols with 0s\n",
    "    for i in range(m):\n",
    "        for j in range(n):\n",
    "            if M[i][j] == 0:\n",
    "                Hrows[i] = True\n",
    "                Hcols[j] = True\n",
    "    \n",
    "    ### zero out the rows\n",
    "    for row in Hrows:\n",
    "        for j in range(n):\n",
    "            M[row][j] = 0\n",
    "    \n",
    "    ### zero out the cols\n",
    "    for col in Hcols:\n",
    "        for i in range(m):\n",
    "            M[i][col] = 0\n",
    "    \n",
    "    return M\n",
    "\n",
    "M = [[1, 2, 3, 0], \n",
    "     [5, 6, 7, 8], \n",
    "     [9, 0, 11, 12], \n",
    "     [13, 14, 15, 16], \n",
    "     [17, 18, 19, 0]]\n",
    "\n",
    "ZeroMat(M)"
   ]
  },
  {
   "cell_type": "markdown",
   "metadata": {},
   "source": [
    "#### 9)\n",
    "Notice that if I concatenate $s_1$ to itself, if $s_2$ is a rotation of $s_1$, then $s_2$ will be a substring of the concatenated string.  For example, let $s_1$ = 'water' and $s_2$ = 'erwat', then the concatenation is 'waterwater' and $s_2$ is certainly present in this concatenated string (as would any rotation of 'water').\n",
    "\n",
    "With this in mind the time complexity is $O(|s_1|+|s_1|) = O(|s_1|)$ (the time taken to concatenate string 1) plus TC_$ss(|s_1|+|s_1|)$, the time complexity of the isSubstring routine. The space complexity is $O(|s_1|+|s_1|)$ for the concatenated string."
   ]
  },
  {
   "cell_type": "code",
   "execution_count": 46,
   "metadata": {},
   "outputs": [],
   "source": [
    "def StringRot(s1, s2):\n",
    "    if len(s1) != len(s2): return False\n",
    "    \n",
    "    tmp = s1+s1\n",
    "    return isSubstring(tmp, s2)"
   ]
  }
 ],
 "metadata": {
  "kernelspec": {
   "display_name": "Python 3",
   "language": "python",
   "name": "python3"
  },
  "language_info": {
   "codemirror_mode": {
    "name": "ipython",
    "version": 3
   },
   "file_extension": ".py",
   "mimetype": "text/x-python",
   "name": "python",
   "nbconvert_exporter": "python",
   "pygments_lexer": "ipython3",
   "version": "3.6.5"
  }
 },
 "nbformat": 4,
 "nbformat_minor": 2
}
