{
 "cells": [
  {
   "cell_type": "markdown",
   "metadata": {},
   "source": [
    "#### 1)\n",
    "BFS and DFS both explore every possible conected neighbor from the source point.  We could therefore implement either of these algorithms to find if there is a path between $s$ and $t$, noting that, if $t$ actually gets visited, then there is a path."
   ]
  },
  {
   "cell_type": "markdown",
   "metadata": {},
   "source": [
    "#### 2)\n",
    "\n",
    "To implement this algorithm, I first write a binary tree node class, $BTNode(\\cdot)$ which stores the data at the node and pointers to the left and right children.  I also write a function, $PrintTree(root)$, which prints out a binary tree, level by level, printing out tuples for each node, where the tuple is $(data, parent, level)$.\n",
    "\n",
    "To get the minimal height BST, the middle element must be at the root.  This is because, for a balanced tree, we need roughly half the elements to the left and half to the right.  At the second level, the element that is the midpoint between $i = 0$ and $j = len(A)/2$ (give or take an element) must be the left child (for the same reason; namely that 1/4 of the elements must be to the left of this child, and 1/4 must be to the right).  For the same reason, the element that is the midpoint between $i=len(A)/2$ and $j = len(A)$ (give or take an element) must be the right child.  I can thus easily write a recursive function $MinHeightBSTRec(i, j, A)$,  to construct this tree:\n",
    "\n",
    "1) mid = (i+j)//2\n",
    "\n",
    "2) Left = MinHeightBSTRec(i, mid-1, A)\n",
    "\n",
    "3) Right = MinHeightBSTRec(mid+1, j, A)\n",
    "\n",
    "4) return BTNode(A[mid], Left, Right),\n",
    "\n",
    "with an appropriate base case.  To save the results for the entire tree, I simply append the nodes to a list in the right places in the algorithm.  Note that the root node for the entire tree is the last element of this list \n",
    "\n",
    "The space complexity of this algo is thus $O(\\log n)$ and the time complexity satisfies: $T(n) = 2 T(n/2)+O(1) = O(n)$."
   ]
  },
  {
   "cell_type": "code",
   "execution_count": 223,
   "metadata": {},
   "outputs": [],
   "source": [
    "class BTNode():\n",
    "    def __init__(self, data=None, left=None, right=None):\n",
    "        self.data, self.left, self.right = data, left, right\n",
    "        "
   ]
  },
  {
   "cell_type": "code",
   "execution_count": 224,
   "metadata": {},
   "outputs": [
    {
     "name": "stdout",
     "output_type": "stream",
     "text": [
      "(1, None, None, 2)\n",
      "(2, 1, 3, 1)\n",
      "(3, None, None, 2)\n",
      "(4, 2, 6, 0)\n",
      "(5, None, None, 2)\n",
      "(6, 5, 7, 1)\n",
      "(7, None, None, 2)\n"
     ]
    }
   ],
   "source": [
    "def MinHeightBSTRec(A, i, j):\n",
    "    if i>j:\n",
    "        return None\n",
    "   # if i+1==j:\n",
    "      #  return BTNode(A[i], left=None, right=BTNode(A[j]))\n",
    "    \n",
    "    mid = (i+j)//2\n",
    "    \n",
    "    Left = MinHeightBSTRec(A, i, mid-1)\n",
    "    Right = MinHeightBSTRec(A, mid+1, j)    \n",
    "    return BTNode(A[mid], Left, Right)\n",
    "\n",
    "def MinHeightBST(A):\n",
    "    return MinHeightBSTRec(A, 0, len(A)-1)\n",
    "    \n",
    "mhbst = MinHeightBST([1, 2, 3, 4, 5, 6, 7])\n",
    "\n",
    "### print each node of the tree in tuples for visual verification (data, left.data, right.data, level)\n",
    "def InOrderPrint(n, level):\n",
    "    if n is not None:\n",
    "    \n",
    "        InOrderPrint(n.left, level+1)\n",
    "       \n",
    "        if n.left == n.right == None:\n",
    "            print((n.data, None, None, level))\n",
    "      \n",
    "        elif n.left == None and n.right != None:\n",
    "            print((n.data, None, n.right.data, level))\n",
    "            \n",
    "        elif n.left != None and n.right == None:\n",
    "            print((n.data, n.left.data, None, level))\n",
    "            \n",
    "        else:\n",
    "            print((n.data, n.left.data, n.right.data, level))\n",
    "        \n",
    "        InOrderPrint(n.right, level+1)\n",
    "\n",
    "InOrderPrint(mhbst, 0)\n",
    "    "
   ]
  },
  {
   "cell_type": "markdown",
   "metadata": {},
   "source": [
    "#### 3)\n",
    "\n",
    "To implement this algorithm, I modify the in order traversal slightly.  I provide an argument, $level$, which indicates the level in the tree.  Also, instead of printing out the value, I save the value in a list in a dictionary with the key being the level.  Note that, on a level-by-level basis, an in order traversal visits the nodes from left to right, so that the list for each level is in left-to-right order.\n",
    "\n",
    "For a completely unbalanced tree, the time complexity is $T(n) = T(n-1)+O(1) = O(n)$, while for a perfectly balanced tree, the time complexity is $T(n) = 2T(n/2)+O(1) = O(n)$.  The complexity $O(n)$ could also simply be gotten just by considering the we need to visit each node once, so we have $n$ function calls with $O(c)$ per call (not including recursive calls).  For the unblanced tree, the space complexity is $O(n)$, while for the balanced tree, the space complexity is $O(\\log n)$ (both of which come from saving the function calls on the stack).  However, since I must return a dictionary of size $n$ in both cases, the space complexity is actually $O(n)$."
   ]
  },
  {
   "cell_type": "code",
   "execution_count": 225,
   "metadata": {},
   "outputs": [
    {
     "name": "stdout",
     "output_type": "stream",
     "text": [
      "{2: ['d', 'e', 'f', 'g'], 1: ['b', 'c'], 0: ['a']}\n"
     ]
    }
   ],
   "source": [
    "def InOrderDepth(n, level, D):\n",
    "    if n is not None:\n",
    "        InOrderDepth(n.left, level+1, D)\n",
    "        if level in D:\n",
    "            D[level].append(n.data)\n",
    "        else:\n",
    "            D[level] = [n.data]\n",
    "        InOrderDepth(n.right, level+1, D)\n",
    "        \n",
    "def GetDepthLists(root):\n",
    "    D = {}\n",
    "    InOrderDepth(root, 0, D)\n",
    "    return D\n",
    "\n",
    "BTNode1 = BTNode('d')\n",
    "BTNode2 = BTNode('e')\n",
    "BTNode3 = BTNode('f')\n",
    "BTNode4 = BTNode('g')\n",
    "BTNode5 = BTNode('b', BTNode1, BTNode2)\n",
    "BTNode6 = BTNode('c', BTNode3, BTNode4)\n",
    "BTNode7 = BTNode('a', BTNode5, BTNode6)\n",
    "print(GetDepthLists(BTNode7))"
   ]
  },
  {
   "cell_type": "markdown",
   "metadata": {},
   "source": [
    "#### 4)\n",
    "To see if this is a balanced BT, I first write a method to get the depth of a tree.  This works recursively by returning the max of the depth of the left child and right child (plus 1).  I then write a method, IsBalanced to check if the current left and right subtrees have height plus or minus one of each other.  I then recursively check all left and subtrees of each node.\n",
    "\n",
    "The time complexity of the first method is given by: $T(n) = T(n-1)+O(c) = O(n)$ for a completely linear tree, and $T(n) = 2T(n/2)+c = O(n)$ for a completely binary tree.  Any tree will be somewhere in between these 2, so the algorithm is $O(n)$ for any tree.  The space complexity for the former scenario is $O(n)$ while in the latter it is $O(\\log n)$ when considering how the function calls are executed on the stack.\n",
    "\n",
    "I implement an $IsBalanced(node)$ method which:\n",
    "\n",
    "1) checks whether $abs(Depth(node.left) - Depth(node.right)) > 1$\n",
    "\n",
    "and \n",
    "\n",
    "2) checks $IsBalanced(node.left)$ and $IsBalanced(node.right)$ recursively.\n",
    "\n",
    "The time complexity of this function is $T(n) = 2T(n/2) + O(n) = O(n \\log n)$ for a balanced tree and $T(n) = T(n-1) + O(n) = O(n^2)$ for a perfectly unbalanced tree.  Thus, for any tree, the runtime is bounded below by $O(n \\log n)$ and above by $O(n^2)$.  The space complexities are also $O(n)$ for the linear structure and $O(\\log n)$ for the binary structure.\n",
    "\n",
    "I implement a more efficient algorithm below:\n"
   ]
  },
  {
   "cell_type": "code",
   "execution_count": 58,
   "metadata": {},
   "outputs": [
    {
     "name": "stdout",
     "output_type": "stream",
     "text": [
      "3\n",
      "4\n"
     ]
    }
   ],
   "source": [
    "def Depth(node):\n",
    "    if node is None:\n",
    "        return 0\n",
    "    \n",
    "    return max(Depth(node.left), Depth(node.right))+1\n",
    "\n",
    "\n",
    "BTNode1 = BTNode('d')\n",
    "BTNode2 = BTNode('e')\n",
    "BTNode3 = BTNode('f')\n",
    "BTNode4 = BTNode('g')\n",
    "BTNode5 = BTNode('b', BTNode1, BTNode2)\n",
    "BTNode6 = BTNode('c', BTNode3, BTNode4)\n",
    "BTNode7 = BTNode('a', BTNode5, BTNode6)\n",
    "print(Depth(BTNode7))\n",
    "\n",
    "BTNode1 = BTNode('e')\n",
    "BTNode2 = BTNode('d', BTNode1)\n",
    "BTNode3 = BTNode('b', BTNode2)\n",
    "BTNode4 = BTNode('c')\n",
    "BTNode5 = BTNode('a', BTNode3, BTNode4)\n",
    "print(Depth(BTNode5))"
   ]
  },
  {
   "cell_type": "code",
   "execution_count": 59,
   "metadata": {},
   "outputs": [
    {
     "name": "stdout",
     "output_type": "stream",
     "text": [
      "True\n",
      "False\n"
     ]
    }
   ],
   "source": [
    "def IsBalanced(node):\n",
    "    if node is None:\n",
    "        return True\n",
    "    \n",
    "    if abs(Depth(node.left) - Depth(node.right)) > 1:\n",
    "        return False\n",
    "    \n",
    "    return IsBalanced(node.left) and IsBalanced(node.right)\n",
    "    \n",
    "BTNode1 = BTNode('d')\n",
    "BTNode2 = BTNode('e')\n",
    "BTNode3 = BTNode('f')\n",
    "BTNode4 = BTNode('g')\n",
    "BTNode5 = BTNode('b', BTNode1, BTNode2)\n",
    "BTNode6 = BTNode('c', BTNode3, BTNode4)\n",
    "BTNode7 = BTNode('a', BTNode5, BTNode6)\n",
    "print(IsBalanced(BTNode7))\n",
    "\n",
    "BTNode1 = BTNode('e')\n",
    "BTNode2 = BTNode('d', BTNode1)\n",
    "BTNode3 = BTNode('b', BTNode2)\n",
    "BTNode4 = BTNode('c')\n",
    "BTNode5 = BTNode('a', BTNode3, BTNode4)\n",
    "print(IsBalanced(BTNode5))"
   ]
  },
  {
   "cell_type": "markdown",
   "metadata": {},
   "source": [
    "This method is somewhat inneficient, because, within this routine we make mutiple calls to $Depth(node)$ for the same node.  This brings to mind, memoization.  I know I will need the depth of every node, and I want to avoid excessive calls to $Depth(n)$.  Therefore I can precomputure a hash table of the depths of each node by calling $Depth(root)$ (which will visit each node in the tree), and memoize the results along the way.  As noted above, this will take $O(n)$ time.  I can then use this hash table to compute the $IsBalanced(node)$ function, where the work per recursive call is now simply $O(1)$ for the hash table lookup.  Therefore, for the linear structure: $T(n) = T(n-1)+O(1)=O(n)$, and for binary tree structure $T(n) = 2T(n/2)+O(1)=O(n)$.  The space complexities are as before, except, now I get $O(n)$ extra space from the hashtable."
   ]
  },
  {
   "cell_type": "code",
   "execution_count": 74,
   "metadata": {},
   "outputs": [
    {
     "name": "stdout",
     "output_type": "stream",
     "text": [
      "True\n",
      "False\n"
     ]
    }
   ],
   "source": [
    "def DepthMemo(node, memo):\n",
    "    if node in memo:\n",
    "        return memo[node]\n",
    "    \n",
    "    if node is None:\n",
    "        memo[node] = 0\n",
    "        return 0\n",
    "    \n",
    "    res = max(DepthMemo(node.left, memo), DepthMemo(node.right, memo))+1\n",
    "    memo[node] = res\n",
    "    \n",
    "    return res\n",
    "\n",
    "def IsBalancedRec(node, memo):\n",
    "    if node is None:\n",
    "        return True\n",
    "    \n",
    "    if abs(memo[node.left] - memo[node.right]) > 1:\n",
    "        return False\n",
    "    \n",
    "    return IsBalancedRec(node.left, memo) and IsBalancedRec(node.right, memo)\n",
    "\n",
    "def IsBalancedMemo(node):\n",
    "    memo={}\n",
    "    DepthMemo(node, memo)\n",
    "    return IsBalancedRec(node, memo)\n",
    "\n",
    "BTNode1 = BTNode('d')\n",
    "BTNode2 = BTNode('e')\n",
    "BTNode3 = BTNode('f')\n",
    "BTNode4 = BTNode('g')\n",
    "BTNode5 = BTNode('b', BTNode1, BTNode2)\n",
    "BTNode6 = BTNode('c', BTNode3, BTNode4)\n",
    "BTNode7 = BTNode('a', BTNode5, BTNode6)\n",
    "print(IsBalancedMemo(BTNode7))\n",
    "\n",
    "BTNode1 = BTNode('e')\n",
    "BTNode2 = BTNode('d', BTNode1)\n",
    "BTNode3 = BTNode('b', BTNode2)\n",
    "BTNode4 = BTNode('c')\n",
    "BTNode5 = BTNode('a', BTNode3, BTNode4)\n",
    "print(IsBalancedMemo(BTNode5))"
   ]
  },
  {
   "cell_type": "markdown",
   "metadata": {},
   "source": [
    "#### 5)\n",
    "\n",
    "I can test whether a binary tree is a BST or not by checking whether each value in the left subtree is smaller than or equal to root and whether each value in the right subtree is greater than the root.  I can then check this for the entire tree recursively, as given by the recursion below.\n",
    "\n",
    "\\begin{equation}\n",
    "  IsBST(n)=\\begin{cases}\n",
    "    True & \\text{if $n.left=n.right=Null$}\\\\\n",
    "    IsGreater(n.data, n.right)\\wedge IsBST(n.right) & \\text{if $n.left = Null \\wedge \\neg(n.right = Null)$} \\\\\n",
    "    IsSmaller(n.data, n.left)\\wedge IsBST(n.left) & \\text{if $\\neg(n.left = Null) \\wedge n.right = Null$} \\\\\n",
    "    IsGreater(n.data, n.right)\\wedge IsBST(n.right) \\wedge IsSmaller(n.data, n.left)\\wedge IsBST(n.left)  & \\text{otherwise} \n",
    "  \\end{cases}\n",
    "\\end{equation}\n",
    "\n",
    "The $IsSmaller(\\cdot)$ and $IsGreater(\\cdot)$ functions can also be implemented recursively.  For the $IsSmaller(\\cdot)$ function, this can be done by checking if the root is smaller than or equal to the value.  I can then check the entire tree recursively by running this function on the left and right subtrees recursively.  The proper recursion is:\n",
    "\n",
    "\\begin{equation}\n",
    "  IsSmaller(val, n)=\\begin{cases}\n",
    "    n.data \\le val & \\text{if $n.left=n.right=Null$}\\\\\n",
    "    IsSmaller(val, n.right)\\wedge (n.data \\le val) & \\text{if $n.left = Null \\wedge \\neg(n.right = Null)$} \\\\\n",
    "    IsSmaller(val, n.left)\\wedge (n.data \\le val) & \\text{if $\\neg(n.left = Null) \\wedge n.right = Null$} \\\\\n",
    "    IsSmaller(val, n.left) \\wedge IsSmaller(val, n.right)\\wedge (n.data \\le val) & \\text{otherwise} \n",
    "  \\end{cases}\n",
    "\\end{equation}\n",
    "\n",
    "The time complexities for the $IsSmaller(val, n)$ and $IsGreater(val, n)$ functions are $O(n)$ since the functions recursively call each node once with a constant amount of work per call (ignoring recursive calls).  The space complexity is $O(\\log n)$ for a perfectly balanced tree and $O(n)$ for a perfectly unbalanced tree.\n",
    "\n",
    "As for the time complexity for the $IsBST(n)$ function, for a perfectly balanced tree $T(n) = 2 T(n/2)+O(n) = O(n\\log n)$, where the $O(n)$ work per call comes from the $IsSmaller(val, n)$ and $IsGreater(val, n)$ calls.  For a perfectly unbalanced tree $T(n) = T(n-1)+O(n) = O(n^2)$.  The space complexities are still $O(\\log n)$ and $O(n)$.\n",
    "\n",
    "I implement this algorithm below."
   ]
  },
  {
   "cell_type": "code",
   "execution_count": 152,
   "metadata": {},
   "outputs": [
    {
     "name": "stdout",
     "output_type": "stream",
     "text": [
      "True\n",
      "False\n",
      "True\n",
      "False\n"
     ]
    }
   ],
   "source": [
    "def IsSmaller(val, n):\n",
    "    if n.left == n.right == None:\n",
    "        return n.data <= val\n",
    "    \n",
    "    elif n.left == None and n.right != None:\n",
    "        return IsSmaller(val, n.right) and n.data <= val\n",
    "    \n",
    "    elif n.left != None and n.right == None:\n",
    "        return IsSmaller(val, n.left) and n.data <= val\n",
    "    \n",
    "    else:\n",
    "        return IsSmaller(val, n.left) and IsSmaller(val, n.right) and n.data <= val\n",
    "    \n",
    "def IsGreater(val, n):\n",
    "    if n.left == n.right == None:\n",
    "        return n.data > val\n",
    "    \n",
    "    elif n.left == None and n.right != None:\n",
    "        return IsSmaller(val, n.right) and n.data > val\n",
    "    \n",
    "    elif n.left != None and n.right == None:\n",
    "        return IsSmaller(val, n.left) and n.data > val\n",
    "    \n",
    "    else:\n",
    "        return IsSmaller(val, n.left) and IsSmaller(val, n.right) and n.data > val\n",
    "    \n",
    "def IsBST(n):\n",
    "    if n.left == n.right == None:\n",
    "        return True\n",
    "    \n",
    "    elif n.left == None and n.right != None:\n",
    "        return IsGreater(n.data, n.right) and IsBST(n.right)\n",
    "    \n",
    "    elif n.left != None and n.right == None:\n",
    "        return IsSmaller(n.data, n.left) and IsBST(n.left)\n",
    "    \n",
    "    else:\n",
    "        return IsGreater(n.data, n.right) and IsBST(n.right) and IsSmaller(n.data, n.left) and IsBST(n.left)\n",
    "    \n",
    "    \n",
    "BTNode1 = BTNode(3)\n",
    "BTNode2 = BTNode(7)\n",
    "BTNode3 = BTNode(20)\n",
    "BTNode4 = BTNode(6, BTNode1, BTNode2)\n",
    "BTNode5 = BTNode(10, BTNode4, BTNode3)\n",
    "print(IsBST(BTNode5))\n",
    "\n",
    "BTNode1 = BTNode(7)\n",
    "BTNode2 = BTNode(3)\n",
    "BTNode3 = BTNode(20)\n",
    "BTNode4 = BTNode(6, BTNode1, BTNode2)\n",
    "BTNode5 = BTNode(10, BTNode4, BTNode3)\n",
    "print(IsBST(BTNode5))\n",
    "\n",
    "BTNode1 = BTNode(5)\n",
    "BTNode2 = BTNode(10, BTNode1)\n",
    "BTNode3 = BTNode(10, BTNode2)\n",
    "print(IsBST(BTNode3))\n",
    "\n",
    "BTNode1 = BTNode(4)\n",
    "BTNode2 = BTNode(13)\n",
    "BTNode3 = BTNode(14)\n",
    "BTNode4 = BTNode(10, BTNode1, BTNode2)\n",
    "BTNode5 = BTNode(12, BTNode4, BTNode3)\n",
    "print(IsBST(BTNode5))"
   ]
  },
  {
   "cell_type": "markdown",
   "metadata": {},
   "source": [
    "A better implementation can be made by noting that the $IsSmaller(\\cdot)$ and $IsGreater(\\cdot)$ functions get called many times (unecessarily on the same node) and we get a nested recursion.  We can avoid these repetitive function calls by passing lower and upper limits on what the node is allowed to be to satisfy the BST criterion given the values of the nodes above.  The following recursion checks if the node is within these bounds, then recursively calls this function to check the nodes below in the left subtree and right subtree, adjusting the bounds in the recursive calls as appropriate.\n",
    "\n",
    "\\begin{equation}\n",
    "  IsBST(n,m ,M)=\\begin{cases}\n",
    "    (m<n.data\\le M) & \\text{if $n.left=n.right=Null$}\\\\\n",
    "    IsBST(n.right, n.data, M) \\wedge (m<n.data\\le M)& \\text{if $n.left = Null \\wedge \\neg(n.right = Null)$} \\\\\n",
    "    IsBST(n.left, m, n.data) \\wedge (m<n.data\\le M)& \\text{if $n.left = Null \\wedge \\neg(n.right = Null)$} \\\\\n",
    "    IsBST(n.left, m, n.data) \\wedge IsBST(n.right, n.data, M) \\wedge (m<n.data\\le M)&  \\text{otherwise} \n",
    "  \\end{cases}\n",
    "\\end{equation}\n",
    "\n",
    "Since each node in the tree gets visited exactly once with a constant amount of work per call (ignoring recursive calls) the time complexity of this algorithm is $O(n)$.  The space complexity is $O(\\log n)$ for a perfectly balanced tree and $O(n)$ for a perfectly imbalanced tree."
   ]
  },
  {
   "cell_type": "code",
   "execution_count": 162,
   "metadata": {},
   "outputs": [
    {
     "name": "stdout",
     "output_type": "stream",
     "text": [
      "True\n",
      "False\n",
      "True\n",
      "False\n",
      "True\n"
     ]
    }
   ],
   "source": [
    "from math import inf\n",
    "\n",
    "def IsBST2rec(n, m, M):\n",
    "    if n.left == n.right == None:\n",
    "        return m < n.data <= M\n",
    "    \n",
    "    elif n.left == None and n.right != None:\n",
    "        return IsBST2rec(n.right, n.data, M) and (m<n.data <= M)\n",
    "    \n",
    "    elif n.left != None and n.right == None:\n",
    "        return IsBST2rec(n.left, m, n.data) and (m<n.data <= M)\n",
    "    \n",
    "    else:\n",
    "        return IsBST2rec(n.left, m, n.data) and IsBST2rec(n.right, n.data, M) and (m<n.data <= M)\n",
    "    \n",
    "def IsBST2(n):\n",
    "    return IsBST2rec(n, -inf, inf)\n",
    "    \n",
    "BTNode1 = BTNode(3)\n",
    "BTNode2 = BTNode(7)\n",
    "BTNode3 = BTNode(20)\n",
    "BTNode4 = BTNode(6, BTNode1, BTNode2)\n",
    "BTNode5 = BTNode(10, BTNode4, BTNode3)\n",
    "print(IsBST2(BTNode5))\n",
    "\n",
    "BTNode1 = BTNode(7)\n",
    "BTNode2 = BTNode(3)\n",
    "BTNode3 = BTNode(20)\n",
    "BTNode4 = BTNode(6, BTNode1, BTNode2)\n",
    "BTNode5 = BTNode(10, BTNode4, BTNode3)\n",
    "print(IsBST2(BTNode5))\n",
    "\n",
    "BTNode1 = BTNode(5)\n",
    "BTNode2 = BTNode(10, BTNode1)\n",
    "BTNode3 = BTNode(10, BTNode2)\n",
    "print(IsBST2(BTNode3))\n",
    "\n",
    "BTNode1 = BTNode(4)\n",
    "BTNode2 = BTNode(13)\n",
    "BTNode3 = BTNode(14)\n",
    "BTNode4 = BTNode(10, BTNode1, BTNode2)\n",
    "BTNode5 = BTNode(12, BTNode4, BTNode3)\n",
    "print(IsBST2(BTNode5))\n",
    "\n",
    "BTNode1 = BTNode(5)\n",
    "BTNode2 = BTNode(6)\n",
    "BTNode3 = BTNode(5, BTNode1, BTNode2)\n",
    "print(IsBST2(BTNode3))"
   ]
  },
  {
   "cell_type": "markdown",
   "metadata": {},
   "source": [
    "#### 6)\n",
    "\n",
    "To solve this problem, I could simply code an in-order traversal, and print out the next element during the traversal after finding the input value.  This, however, in worst case, would take $O(n)$.  I can implement a better algorithm, though, which takes $O(h)$, where $h$ is the height of the tree. \n",
    "\n",
    "Recall that in an inorder traversal, we first traverse the left subtree of a node, then print the node, then traverse the right subtree.  Therefore, the successor of a given node will be the minimum elmenent of the right subtree.  Thus to find the successor, we would need to walk down the tree until we got to the desired value, go to the right node of this value, then continue walking left as far as possible.  This would take $O(h)$ time and $O(1)$ space.\n",
    "\n",
    "However, it is possible that there is no subtree to the right of the input value.  In this case we would need to keep returning the parent of the node until the node is the parent's left child.  The proper value to return is then the parent.  There is one edge case when we are asked to return the successor of the greatest value.  In this case we do not find any parent that satisfies this condition and we return None.  Again, this takes $O(h)$ time and $O(1)$ space."
   ]
  },
  {
   "cell_type": "code",
   "execution_count": 254,
   "metadata": {},
   "outputs": [],
   "source": [
    "class BTNode2():\n",
    "    def __init__(self, data=None, left=None, right=None):\n",
    "        self.data, self.left, self.right = data, left, right\n",
    "        self.parent = None\n",
    "       \n",
    "        if self.left:\n",
    "            self.left.parent = self\n",
    "        if self.right:\n",
    "            self.right.parent = self"
   ]
  },
  {
   "cell_type": "code",
   "execution_count": 255,
   "metadata": {},
   "outputs": [
    {
     "name": "stdout",
     "output_type": "stream",
     "text": [
      "6\n",
      "7\n",
      "10\n",
      "20\n",
      "None\n"
     ]
    }
   ],
   "source": [
    "def BSTSuccessor(root, val):\n",
    "    ### find node with value val\n",
    "    n = root\n",
    "    while n.data != val:\n",
    "        if val < n.data:\n",
    "            n = n.left\n",
    "        else:\n",
    "            n = n.right\n",
    "    \n",
    "### find sucessor\n",
    "    #case I (there is a right subtree)\n",
    "    if n.right != None:\n",
    "        n = n.right\n",
    "        while n != None:\n",
    "            prev = n\n",
    "            n = n.left\n",
    "    \n",
    "        return prev.data\n",
    "    \n",
    "    else:\n",
    "        #case II (there is a right subtree)\n",
    "        while n.parent != None and n.parent.left != n :\n",
    "            n = n.parent\n",
    "\n",
    "        if n.parent != None:\n",
    "            return n.parent.data\n",
    "        else:\n",
    "            return None\n",
    "    \n",
    "    \n",
    "#3, 6, 7, 10, 20    \n",
    "    \n",
    "n1 = BTNode2(3)\n",
    "n2 = BTNode2(7)\n",
    "n3 = BTNode2(20)\n",
    "n4 = BTNode2(6, n1, n2)\n",
    "root = BTNode2(10, n4, n3)\n",
    "\n",
    "print(BSTSuccessor(root, 3))\n",
    "print(BSTSuccessor(root, 6))\n",
    "print(BSTSuccessor(root, 7))\n",
    "print(BSTSuccessor(root, 10))\n",
    "print(BSTSuccessor(root, 20))"
   ]
  },
  {
   "cell_type": "markdown",
   "metadata": {},
   "source": [
    "#### 8)\n",
    "\n",
    "If each node has a link to a parent, then I can find the depth of the 2 nodes and follow the path of parent nodes on the deeper node until the 2 depths are the same.  I can then trace both nodes back simultaneously, one parent at a time, until I converge to the same node.  This will be the lowest common ancestor.  Letting $D_1$ be the depth of the deeper node and $D_2$ be the depth of the shalllower node, looking at the code below, the time complexity of this algorithm will be: $O(D_1)+O(D_2)+O(D_1-D_2)+O(D_2) =O(D_1)$, where the first and second terms come from the depth function, the 3rd time comes from pushing up the deeper node until the depths are the same and the last term comes from tracing both nodes up until the algorithm converges to the LCA.  In the worst case, $D = n$ (this is the case of a completely unbalanced binary tree), so that the time complexity is $O(n)$.  For a perfectly balanced tree, in the worst case $D = \\log n$, so the time complexity would be $O(\\log n)$. The space complexity is $O(1)$ in either case since this algorithm is not implemented recursively and only uses constant extra space."
   ]
  },
  {
   "cell_type": "code",
   "execution_count": 105,
   "metadata": {},
   "outputs": [
    {
     "name": "stdout",
     "output_type": "stream",
     "text": [
      "a\n",
      "a\n",
      "b\n",
      "c\n",
      "a\n"
     ]
    }
   ],
   "source": [
    "def LCA(p,q):\n",
    "    delta = depth(p) - depth(q)\n",
    "    \n",
    "    if delta < 0:\n",
    "        for _ in range(1, abs(delta)+1):\n",
    "            q = q.parent\n",
    "        \n",
    "    if delta > 0:\n",
    "        for _ in range(1, abs(delta)+1):\n",
    "            p = p.parent\n",
    "    \n",
    "    while p != q:\n",
    "        p = p.parent\n",
    "        q = q.parent\n",
    "    \n",
    "    return p.data\n",
    "    \n",
    "def depth(n):\n",
    "    cnt = 0\n",
    "    while n is not None:\n",
    "        cnt += 1\n",
    "        n = n.parent\n",
    "    return cnt\n",
    "    \n",
    "    \n",
    "node1 = BTNode2('d')\n",
    "node2 = BTNode2('e')\n",
    "node3 = BTNode2('f')\n",
    "node4 = BTNode2('h')\n",
    "node5 = BTNode2('g', node4)\n",
    "node6 = BTNode2('b', node1, node2)\n",
    "node7 = BTNode2('c', node3, node5)\n",
    "node8 = BTNode2('a', node6, node7)\n",
    "print(LCA(node1, node4))\n",
    "print(LCA(node2, node3))\n",
    "print(LCA(node1, node2))\n",
    "print(LCA(node3, node4))\n",
    "print(LCA(node1, node8))\n",
    "\n"
   ]
  },
  {
   "cell_type": "markdown",
   "metadata": {},
   "source": [
    "If there are no links to parents, I can start at the root of the tree.  If both nodes are in the left subtree, I recurse on this subtree.  If both nodes are in the right subtree, I recurse on this subtree.  If one node is in the left subtree, and one node is in the right subtree, I have found the LCA and I return the root.  \n",
    "\n",
    "To implement this algorithm, I define $InTree(\\cdot)$, which, for a perfectly balanced tree has time complexity, $O(n)$ (the node is in the lower rightmost node of the tree so that I must visit each node until it is found) and space complexity, $O(\\log n)$.  For a completely unbalanced tree (a linear chain), the worst case time complexity is the same and the space complexity is now $O(n)$.\n",
    "\n",
    "Therefore, the time complexity of $LCANoParents(\\cdot)$, in the worst case for a completely balanced tree is $T(n) = T(n/2)+O(n) = O(n)$ and the space complexity is $O(\\log n)$.  For a completely ubalanced tree, the time complexity is $T(n) = T(n-1)+O(n) = O(n^2)$ and the space complexity is $O(n)$."
   ]
  },
  {
   "cell_type": "code",
   "execution_count": 256,
   "metadata": {},
   "outputs": [
    {
     "name": "stdout",
     "output_type": "stream",
     "text": [
      "a\n",
      "a\n",
      "b\n",
      "c\n",
      "a\n"
     ]
    }
   ],
   "source": [
    "def InTree(root, x):\n",
    "    if root is None:\n",
    "        return False\n",
    "    if root == x:\n",
    "        return True\n",
    "    return InTree(root.left, x) or InTree(root.right, x)\n",
    "\n",
    "def LCANoParents(p, q, n):\n",
    "    ### edge case, (p or q is the oldest ancestor, i.e., the root)\n",
    "    if p == n or q == n:\n",
    "        return n.data\n",
    "    \n",
    "    res = InTree(n.left, p)\n",
    "    if (res or InTree(n.left, q)) and (InTree(n.right, p) or InTree(n.right, q)):\n",
    "        return n.data\n",
    "    if res:\n",
    "        return LCANoParents(p, q, n.left)\n",
    "    \n",
    "    return LCANoParents(p, q, n.right)\n",
    "\n",
    "node1 = BTNode2('d')\n",
    "node2 = BTNode2('e')\n",
    "node3 = BTNode2('f')\n",
    "node4 = BTNode2('h')\n",
    "node5 = BTNode2('g', node4)\n",
    "node6 = BTNode2('b', node1, node2)\n",
    "node7 = BTNode2('c', node3, node5)\n",
    "node8 = BTNode2('a', node6, node7)\n",
    "print(LCA_No_Parents(node1, node4, node8))\n",
    "print(LCA_No_Parents(node2, node3, node8))\n",
    "print(LCA_No_Parents(node1, node2, node8))\n",
    "print(LCA_No_Parents(node3, node4, node8))\n",
    "print(LCA_No_Parents(node1, node8, node8))"
   ]
  },
  {
   "cell_type": "markdown",
   "metadata": {},
   "source": [
    "#### 9)\n",
    "\n",
    "To solve this problem, note that the very first element in the list must be the root of the tree.  The next elements in the list can be any permutation of the elements in the second level of the tree.  The next elements can be any permutation of the elements in the third level and so forth ... \n",
    "\n",
    "For example, take the following BST:\n",
    "\n",
    "         10\n",
    "\n",
    "       /    \\\n",
    "\n",
    "     8       12\n",
    " \n",
    "      \\     /   \\\n",
    "\n",
    "       9   11   13\n",
    "       \n",
    "The first element in the list will be 10.  The next 2 elements will be a permutation of $\\{8, 12\\}$, and the next 3 elements will be a permuation of $\\{9, 11, 13\\}$.  In all, all possibles can be generated from $\\{(10)\\} \\times \\{(8, 12), (12, 8) \\} \\times \\{(9, 11, 13), (9, 13, 11), (11, 9, 13), (11, 13, 9), (13, 9, 11), (13, 11, 9)\\} $, where $\\times$ denotes the Cartesian cross product.  I will therefore need a function to generate lists of the values at each level in the tree (which I have implemented above in problem 3), a function to generate permutations of a list (which I can implement recursively, as I have done in Chapter 8 of this book) and a final function to compute the lists for the values of each level, the permutations and then to continuously take the cartesian cross product.  I implement this below.  \n",
    "\n",
    "In the example that I use, the result is $\\{perms((50))\\} \\times \\{perms((20, 60)) \\} \\times \\{perms((10, 25, 70)) \\} $.  The final answer should therefore have $1\\cdot 2 \\cdot 6 = 12$ sequences, which is indeed the case."
   ]
  },
  {
   "cell_type": "code",
   "execution_count": 290,
   "metadata": {},
   "outputs": [
    {
     "name": "stdout",
     "output_type": "stream",
     "text": [
      "[[50, 20, 60, 10, 25, 70], [50, 20, 60, 10, 70, 25], [50, 20, 60, 25, 10, 70], [50, 20, 60, 25, 70, 10], [50, 20, 60, 70, 10, 25], [50, 20, 60, 70, 25, 10], [50, 60, 20, 10, 25, 70], [50, 60, 20, 10, 70, 25], [50, 60, 20, 25, 10, 70], [50, 60, 20, 25, 70, 10], [50, 60, 20, 70, 10, 25], [50, 60, 20, 70, 25, 10]]\n",
      "__________\n",
      "[[50, 20]]\n"
     ]
    }
   ],
   "source": [
    "def InOrderDepth(n, level, D):\n",
    "    if n is not None:\n",
    "        InOrderDepth(n.left, level+1, D)\n",
    "        if level in D:\n",
    "            D[level].append(n.data)\n",
    "        else:\n",
    "            D[level] = [n.data]\n",
    "        InOrderDepth(n.right, level+1, D)\n",
    "        \n",
    "def GetDepthLists(root):\n",
    "    D = {}\n",
    "    InOrderDepth(root, 0, D)\n",
    "    return D\n",
    "\n",
    "def perms(A):\n",
    "    \n",
    "    ### check base\n",
    "    if len(A) == 1:\n",
    "        return [A]\n",
    "    \n",
    "    ### compute recursively\n",
    "    result = []\n",
    "    for k in range(len(A)):\n",
    "        el = A[k]\n",
    "        AA = A.copy()\n",
    "        AA.pop(k)\n",
    "        result += [[el] + x for x in perms(AA)]\n",
    "     \n",
    "    return result\n",
    "\n",
    "\n",
    "### takes $O(|A| |B| (|a|+|b|))$ time, and $O(|A||a|+|B||b|)$ space\n",
    "def CartCross(A, B):\n",
    "    res = []\n",
    "    for i in range(len(A)):\n",
    "        for j in range(len(B)):\n",
    "            res.append(A[i]+B[j])\n",
    "    \n",
    "    return res\n",
    "\n",
    "\n",
    "def BSTSequence(root):\n",
    "    ### take care of edge case of only 1 level\n",
    "    if root.left==None and root.right==None:\n",
    "        return [root.data]\n",
    "    \n",
    "    D = GetDepthLists(root)\n",
    "\n",
    "    res = CartCross(perms(D[0]), perms(D[1]))\n",
    "    i=2\n",
    "    while i <= len(D)-1:\n",
    "        res = CartCross(res, perms(D[i]))\n",
    "        i += 1\n",
    "\n",
    "    return res\n",
    "\n",
    "BTNode1 = BTNode(10)\n",
    "BTNode2 = BTNode(25)\n",
    "BTNode3 = BTNode(70)\n",
    "BTNode4 = BTNode(20, BTNode1, BTNode2)\n",
    "BTNode5 = BTNode(60, None, BTNode3)\n",
    "root = BTNode(50, BTNode4, BTNode5)\n",
    "print(BSTSequence(root))\n",
    "\n",
    "print('__________')\n",
    "\n",
    "BTNode1 = BTNode(20)\n",
    "root = BTNode(50, BTNode1, None)\n",
    "print(BSTSequence(root))"
   ]
  },
  {
   "cell_type": "markdown",
   "metadata": {},
   "source": [
    "#### 10)\n",
    "An easy way to implement this algorithm is to first write a recursive subroutine which checks whether 2 trees are the same or not by explicity navigating through both trees simultaneously and comparing each node along the way.  I write this in the $CheckTrees(\\cdot, \\cdot)$ function.  This function will check through each node exactly once with a constant amount of work per call, and therefore the running time is $O(min\\{|\\mathcal T_1|, |\\mathcal T_2| \\})$.  The space complexity will be $O(\\min \\{ \\log |\\mathcal T_1|, \\log |\\mathcal T_2|\\})$ for perfectly balanced trees, $O(\\min \\{ \\log |\\mathcal T_1|, |\\mathcal T_2|\\})$ if $\\mathcal T_1$ is perfectly balanced and $\\mathcal T_2$ is not and $O(\\min \\{|\\mathcal T_1|, \\log |\\mathcal T_2|\\})$ if $ \\mathcal T_2$ is perfectly balanced and $\\mathcal T_1$ is not.\n",
    "\n",
    "I can then iterate through the bigger tree, node by node (recursively) and check whether the subtree starting at that note is the same as the second tree with the $CheckTrees(\\cdot, \\cdot)$ subroutine.  The total running time will therefore be $O(|T_1||T_2|)$.  The space complexity will be $O(|\\log T_1|)$ for a perfectly balanced tree and $O(|T_1|)$ for a perfectly imbalanced tree."
   ]
  },
  {
   "cell_type": "code",
   "execution_count": 307,
   "metadata": {},
   "outputs": [
    {
     "name": "stdout",
     "output_type": "stream",
     "text": [
      "True\n",
      "False\n",
      "False\n",
      "True\n"
     ]
    }
   ],
   "source": [
    "def CheckTrees(n1, n2):\n",
    "    if n1 == n2 == None:\n",
    "        return True\n",
    "    \n",
    "    if n1.data == n2.data:\n",
    "        return CheckTrees(n1.left, n2.left) and CheckTrees(n1.right, n2.right)\n",
    "    else:\n",
    "        return False\n",
    "\n",
    "node1 = BTNode('d')\n",
    "node2 = BTNode('e')\n",
    "node3 = BTNode('f')\n",
    "node4 = BTNode('h')\n",
    "node5 = BTNode('g', node4)\n",
    "node6 = BTNode('b', node1, node2)\n",
    "node7 = BTNode('c', node3, node5)\n",
    "node8 = BTNode('a', node6, node7)\n",
    "\n",
    "print(CheckTrees(node8, node8))\n",
    "print(CheckTrees(node8, node3))\n",
    "print(CheckTrees(node2, node6))\n",
    "print(CheckTrees(node3, node3))"
   ]
  },
  {
   "cell_type": "code",
   "execution_count": 309,
   "metadata": {},
   "outputs": [
    {
     "name": "stdout",
     "output_type": "stream",
     "text": [
      "True\n",
      "True\n",
      "False\n",
      "True\n"
     ]
    }
   ],
   "source": [
    "def IsSubTree(n1, n2):\n",
    "    if n1 == None:\n",
    "        return False\n",
    "    \n",
    "    if CheckTrees(n1, n2):\n",
    "        return True\n",
    "    else:\n",
    "        return IsSubTree(n1.left, n2) or IsSubTree(n1.right, n2)\n",
    "   \n",
    "node1 = BTNode('d')\n",
    "node2 = BTNode('e')\n",
    "node3 = BTNode('f')\n",
    "node4 = BTNode('h')\n",
    "node5 = BTNode('g', node4)\n",
    "node6 = BTNode('b', node1, node2)\n",
    "node7 = BTNode('c', node3, node5)\n",
    "node8 = BTNode('a', node6, node7)\n",
    "\n",
    "print(IsSubTree(node8, node8))\n",
    "print(IsSubTree(node8, node3))\n",
    "print(IsSubTree(node2, node6))\n",
    "print(IsSubTree(node3, node3))"
   ]
  },
  {
   "cell_type": "markdown",
   "metadata": {},
   "source": [
    "#### 11)\n",
    "\n",
    "A simple solution would be to write a class that keeps the total number of nodes in the tree as an attribute.  To generate a random node, I could generate a random integer, $X$, from 1 to size(Tree), perform an inorder traversal and stop when I have reached the $X^{th}$ node and return this node,  This would take a worst case time of $O(n)$.\n",
    "\n",
    "A better running time, which is typically the best achievable running time in binary tree algos would be $O(d)$ where \n",
    "$d$ is the height of the tree.  For a perfectly balanced tree, this would be $O(\\log n)$.\n",
    "\n",
    "At each node, I must maintain $N _{left}$ and $N_{right}$, counts of the number of nodes in the subtree to the left of this node and to the right of this node respectively.  I can do this by simply adding these attributes to my node class (for example, $self.N_left = self.left.N_left + self.left.N_right + 1$, and $self.N_right$ is defined analogously).\n",
    "\n",
    "The probabilities, then of picking the root, descending left of descending right are given by:\n",
    "\n",
    "\\begin{equation}\n",
    "P_{root} = \\frac{1}{N _{left}+N _{right} +1},\n",
    "\\end{equation}\n",
    "\\begin{equation}\n",
    "P_{left} = \\frac{N _{left}}{N _{left}+N _{right} +1},\n",
    "\\end{equation}\n",
    "\\begin{equation}\n",
    "P_{right} = \\frac{N _{right}}{N _{left}+N _{right} +1}.\n",
    "\\end{equation}\n",
    "\n",
    "Thus, in my $GetRandomNode(root)$ function, I compute these probabilities and randomly pick these 3 options with the appropriate probability.  If the root is chosen, I return the value of the root, if descending left is chosen I make a recursive call to $GetRandomNode(\\cdot)$ on the left node and if descending right is chosen, I make a recursive call to $GetRandomNode(\\cdot)$ on the right node.  Note that I do not need to explicity program a base case, because the base case is when the node has no children, in which case it has 100 percent probability of returning.\n",
    "\n",
    "To check whether my code results in equal probability amongst the nodes in a BST, I run a simulation on an example BST.\n",
    "\n",
    "The runtime of this algorithm is $O(d)$ and the space complexity is also $O(d)$ from the recursive calls.  "
   ]
  },
  {
   "cell_type": "code",
   "execution_count": 368,
   "metadata": {},
   "outputs": [
    {
     "name": "stdout",
     "output_type": "stream",
     "text": [
      "6\n"
     ]
    },
    {
     "data": {
      "text/plain": [
       "[0.2022, 0.1999, 0.2012, 0.1987, 0.198]"
      ]
     },
     "execution_count": 368,
     "metadata": {},
     "output_type": "execute_result"
    }
   ],
   "source": [
    "from numpy.random import choice\n",
    "\n",
    "class BTNode3():\n",
    "    def __init__(self, data=None, left=None, right=None):\n",
    "        self.data, self.left, self.right = data, left, right\n",
    "        \n",
    "        if self.left:\n",
    "            self.N_left = self.left.N_left + self.left.N_right + 1\n",
    "        else:\n",
    "            self.N_left = 0\n",
    "            \n",
    "        if self.right:\n",
    "            self.N_right = self.right.N_left + self.right.N_right + 1\n",
    "        else:\n",
    "            self.N_right = 0\n",
    "        \n",
    "\n",
    "def GetRandomNode(root):\n",
    "    P_root = 1./(root.N_left+root.N_right+1)\n",
    "    P_left = root.N_left/(root.N_left+root.N_right+1)\n",
    "    P_right = root.N_right/(root.N_left+root.N_right+1)\n",
    "    \n",
    "    X = choice(['L', 'N', 'R'], p = [P_left, P_root, P_right])\n",
    "    \n",
    "    if X == 'L':\n",
    "        return GetRandomNode(root.left)\n",
    "    \n",
    "    elif X == 'R':\n",
    "        return GetRandomNode(root.right)\n",
    "    \n",
    "    else: \n",
    "        return root.data\n",
    "    \n",
    "node1 = BTNode3(3)\n",
    "node2 = BTNode3(7)\n",
    "node3 = BTNode3(20)\n",
    "node4 = BTNode3(6, node1, node2)\n",
    "node5 = BTNode3(10, node4, node3)\n",
    "print(GetRandomNode(node5))\n",
    "\n",
    "\n",
    "arr = [0, 0, 0, 0, 0]\n",
    "\n",
    "for _ in range(10000):\n",
    "    rn = GetRandomNode(node5)\n",
    "    \n",
    "    if rn == 3:\n",
    "        arr[0] += 1\n",
    "    elif rn == 7:\n",
    "        arr[1] += 1\n",
    "    elif rn == 20:\n",
    "        arr[2] += 1\n",
    "    elif rn == 6:\n",
    "        arr[3] += 1\n",
    "    elif rn == 10:\n",
    "        arr[4] += 1\n",
    "        \n",
    "[x/10000 for x in arr]\n"
   ]
  },
  {
   "cell_type": "markdown",
   "metadata": {},
   "source": [
    "#### 12)\n",
    "To solve this problem, one solution I could implement is to start at a node and compute all paths from that node that result in the sum of the desired value.  I implement this function recursively in $CountPaths(\\cdot, \\cdot, \\cdot)$.  This function will take $O(n)$ time, where $n$ is the number of nodes reachable at the input node and it will take $O(d_{node})$ time, where $d_{node}$ is the height of the input node.\n",
    "\n",
    "I can then iterate throught the whole tree, recursively and run this function for each node and return the sum of all results, which I do in $CountAllPaths(\\cdot, \\cdot)$.  For a perfectly balanced tree, this function runs in time complexity $T(n) = 2T(n/2)+O(n) = O(n\\log n)$ and for a perfectly imbalanced tree this function runs in time complexity $T(n) = T(n-1)+O(n) = O(n^2)$.  The space complexity is still $O(d_{node})$."
   ]
  },
  {
   "cell_type": "code",
   "execution_count": 391,
   "metadata": {},
   "outputs": [
    {
     "name": "stdout",
     "output_type": "stream",
     "text": [
      "0\n",
      "0\n",
      "0\n",
      "0\n",
      "0\n",
      "0\n",
      "2\n",
      "1\n",
      "0\n"
     ]
    }
   ],
   "source": [
    "def CountPaths(n, s, val):\n",
    "    \n",
    "    if n == None:\n",
    "        return 0 \n",
    "    \n",
    "    if s + n.data == val:\n",
    "        return 1 + CountPaths(n.left, s + n.data, val) + CountPaths(n.right, s + n.data, val)\n",
    "    else:\n",
    "        return CountPaths(n.left, s + n.data, val) + CountPaths(n.right, s + n.data, val)    \n",
    "    \n",
    "n1 = BTNode(3)\n",
    "n2 = BTNode(-2)\n",
    "n3 = BTNode(1)\n",
    "n4 = BTNode(11)\n",
    "n5 = BTNode(3, n1, n2)\n",
    "n6 = BTNode(2, None, n3)\n",
    "n7 = BTNode(5, n5, n6)\n",
    "n8 = BTNode(-3, None, n4)\n",
    "n9 = BTNode(10, n7, n8)\n",
    "\n",
    "\n",
    "print(CountPaths(n1, 0, 8))\n",
    "print(CountPaths(n2, 0, 8))\n",
    "print(CountPaths(n3, 0, 8))\n",
    "print(CountPaths(n4, 0, 8))\n",
    "print(CountPaths(n5, 0, 8))\n",
    "print(CountPaths(n6, 0, 8))\n",
    "print(CountPaths(n7, 0, 8))\n",
    "print(CountPaths(n8, 0, 8))\n",
    "print(CountPaths(n9, 0, 8))\n"
   ]
  },
  {
   "cell_type": "code",
   "execution_count": 393,
   "metadata": {},
   "outputs": [
    {
     "data": {
      "text/plain": [
       "3"
      ]
     },
     "execution_count": 393,
     "metadata": {},
     "output_type": "execute_result"
    }
   ],
   "source": [
    "def CountAllPaths(n, val):\n",
    "    if n == None:\n",
    "        return 0\n",
    "    \n",
    "    return CountPaths(n, 0, val)+CountAllPaths(n.left, val)+CountAllPaths(n.right, val)\n",
    "\n",
    "CountAllPaths(n9, 8)"
   ]
  }
 ],
 "metadata": {
  "kernelspec": {
   "display_name": "Python 3",
   "language": "python",
   "name": "python3"
  },
  "language_info": {
   "codemirror_mode": {
    "name": "ipython",
    "version": 3
   },
   "file_extension": ".py",
   "mimetype": "text/x-python",
   "name": "python",
   "nbconvert_exporter": "python",
   "pygments_lexer": "ipython3",
   "version": "3.6.5"
  }
 },
 "nbformat": 4,
 "nbformat_minor": 2
}
