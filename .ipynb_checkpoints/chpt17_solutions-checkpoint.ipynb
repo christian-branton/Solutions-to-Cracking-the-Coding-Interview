{
 "cells": [
  {
   "cell_type": "markdown",
   "metadata": {},
   "source": [
    "#### 1) \n",
    "\n",
    "To solve this problem, it is convenient to add in binary because I can then take advantage of bit operations.  Notice that I can add the 2 numbers with a bitwise XOR (call this z).  This does not take into account the carry.  I can compute the carry with an AND, then a left shift and then add this (XOR this) to z.  This might cause another carry, in which case I perform this operation over and over again until carry becomes 0.  I implement this recursively."
   ]
  },
  {
   "cell_type": "code",
   "execution_count": 14,
   "metadata": {},
   "outputs": [
    {
     "name": "stdout",
     "output_type": "stream",
     "text": [
      "20\n",
      "28\n",
      "3479\n"
     ]
    }
   ],
   "source": [
    "def AddNums(x, y):\n",
    "    if y == 0:\n",
    "        return x\n",
    "    \n",
    "    summ = x^y\n",
    "    carry = (x & y) << 1\n",
    "    \n",
    "    return AddNums(summ, carry)\n",
    "\n",
    "print(AddNums(5, 15))\n",
    "print(AddNums(13, 15))\n",
    "print(AddNums(234, 3245))"
   ]
  },
  {
   "cell_type": "markdown",
   "metadata": {},
   "source": [
    "#### 2)\n",
    "\n",
    "Any permutation can be defined recursively by choosing the first position in the sequence, and then recursing on the remaining elements to choose the remaining positions.  Therefore, a random permutation of a set, $\\mathcal S$, can be easily be defined recursively as:\n",
    "\n",
    "\\begin{equation}\n",
    "  RandPerm(\\mathcal S)=\\begin{cases}\n",
    "    [] & \\text{for $|\\mathcal S|=0$}\\\\\n",
    "    [q] + RandPerm(\\mathcal S - \\{q \\})& \\text{otherwise},\n",
    "  \\end{cases}\n",
    "\\end{equation}\n",
    "where $q$ is a randomly selected element from $\\mathcal S$.  The logic is that we randomly choose the first card, then randomly choose the second from those remaining, then randomly choose the third from those remaining $\\ldots$.  I implement this function iteratively below and test if it is unbiased.  Assuming that it takes constant time to choose an integer uniformly, the time complexity of this algorithm is $O(n^2)$ (from the loop and the pop() within the loop) and $O(n)$ in space.\n",
    "\n",
    "This code can be optimized first chosing a random position within $\\mathcal S$, $k$ then swapping $S[0]$ with $S[k]$ (so that the whole algo can be done inplace).  The sample to chose randomly from is now $S[1:]$ and the first position of the random permutation is in $S[0]$.  I repeat this process until I have iterated through the whole list.  This essentially replicates the logic above but with the advantage of doing everything inplace.  The time complexity is $O(n)$ and the space complexity is $O(1)$.\n",
    "\n"
   ]
  },
  {
   "cell_type": "code",
   "execution_count": 221,
   "metadata": {},
   "outputs": [
    {
     "name": "stdout",
     "output_type": "stream",
     "text": [
      "[0.16701 0.16686 0.16542 0.16565 0.1681  0.16696]\n"
     ]
    },
    {
     "data": {
      "image/png": "[encoded data removed]",
      "text/plain": [
       "<Figure size 432x288 with 1 Axes>"
      ]
     },
     "metadata": {},
     "output_type": "display_data"
    }
   ],
   "source": [
    "def RandomPerm(S):\n",
    "\n",
    "    perm = []\n",
    "    while len(S) > 0:\n",
    "        i = randint(0, len(S)-1)\n",
    "        perm += S[i]\n",
    "        S.pop(i)\n",
    "    \n",
    "    return perm\n",
    "\n",
    "deck = ['A', 'B', 'C']\n",
    "RandomPerm(deck)\n",
    "\n",
    "### plot a histogram of probabilities\n",
    "n = 100000\n",
    "cnt_arr = np.array([0, 0, 0, 0, 0, 0])\n",
    "for _ in range(n):\n",
    "    \n",
    "    rs = RandomPerm(['A', 'B', 'C'])\n",
    "    if rs == ['A', 'B', 'C']:\n",
    "        cnt_arr[0] += 1\n",
    "    elif rs == ['A', 'C', 'B']:\n",
    "        cnt_arr[1] += 1\n",
    "    elif rs == ['B', 'A', 'C']:\n",
    "        cnt_arr[2] += 1\n",
    "    elif rs == ['B', 'C', 'A']:\n",
    "        cnt_arr[3] += 1\n",
    "    elif rs == ['C', 'A', 'B']:\n",
    "        cnt_arr[4] += 1\n",
    "    else:\n",
    "        cnt_arr[5] += 1\n",
    "        \n",
    "\n",
    "plt.bar([0, 1, 2, 3, 4, 5], cnt_arr/n);\n",
    "print(cnt_arr/n)\n",
    "plt.ylim(.14, .17);"
   ]
  },
  {
   "cell_type": "code",
   "execution_count": 198,
   "metadata": {},
   "outputs": [
    {
     "name": "stdout",
     "output_type": "stream",
     "text": [
      "['7H', '5D', '4D', 'JD', '6H', '10D', 'KC', '9D', '5C', 'QC', '4S', '9S', 'KD', '10C', '2S', '6C', '9H', '6D', '3S', 'JS', '2H', '7C', '6S', '10S', 'AD', '8S', 'JC', '3C', 'JH', '8C', 'QH', '3D', 'AC', '5H', '7D', '9C', '8H', '7S', 'QS', '2D', 'KH', 'AH', 'QD', '10H', '2C', 'KS', '4H', '5S', '8D', '3H', 'AS', '4C']\n"
     ]
    }
   ],
   "source": [
    "def RandomPerm2(S):\n",
    "\n",
    "    for i in range(len(S)):\n",
    "        k = randint(i, len(S)-1)\n",
    "        S[i], S[k] = S[k], S[i]\n",
    "\n",
    "    return S\n",
    "\n",
    "def RandShuffle():\n",
    "    ### create deck\n",
    "    deck = []\n",
    "    for value in ['2', '3', '4', '5', '6', '7', '8', '9', '10', 'J', 'Q', 'K', 'A']:\n",
    "        for suit in ['H', 'S', 'C', 'D']:\n",
    "            deck.append(value+suit)\n",
    "    ### return random permutation     \n",
    "    return RandomPerm2(deck)\n",
    "\n",
    "\n",
    "print(RandShuffle())"
   ]
  },
  {
   "cell_type": "markdown",
   "metadata": {},
   "source": [
    "#### 3)\n",
    "\n",
    "To generate a random subset of size $m$ from $\\mathcal S$, I can do something very similar to the algorithm above.  The only difference is that I run the loop up until $i=m-1$.  The subset is then the first $m$ elements of the list (where order doesn't matter).  The time complexity is $O(m)$ and the space complexity is $O(m)$.  In this case, I randomly choose the first element to be in the subset.  Then I randomly choose the 2nd from the remaining to be in the subset, etc $\\ldots$\n",
    "\n",
    "I also test whether is method is biased or not below."
   ]
  },
  {
   "cell_type": "code",
   "execution_count": 218,
   "metadata": {},
   "outputs": [
    {
     "name": "stdout",
     "output_type": "stream",
     "text": [
      "{'D', 'A'}\n",
      "[0.16794 0.16705 0.16655 0.16757 0.16514 0.16575]\n"
     ]
    },
    {
     "data": {
      "image/png": "[encoded data removed]",
      "text/plain": [
       "<Figure size 432x288 with 1 Axes>"
      ]
     },
     "metadata": {},
     "output_type": "display_data"
    }
   ],
   "source": [
    "def RandomSubset(S, m):\n",
    "\n",
    "    for i in range(m):\n",
    "        k = randint(i, len(S)-1)\n",
    "        S[i], S[k] = S[k], S[i]\n",
    "        \n",
    "    subset = S[0:m]\n",
    "\n",
    "    return set(subset)\n",
    "\n",
    "print(RandomSubset(['A', 'B', 'C', 'D'], 2))\n",
    "\n",
    "### plot a histogram of probabilities\n",
    "n = 100000\n",
    "cnt_arr = np.array([0, 0, 0, 0, 0, 0])\n",
    "for _ in range(n):\n",
    "    rs = RandomSubset(['A', 'B', 'C', 'D'], 2)\n",
    "    if rs == {'A', 'B'}:\n",
    "        cnt_arr[0] += 1\n",
    "    elif rs == {'A', 'C'}:\n",
    "        cnt_arr[1] += 1\n",
    "    elif rs == {'A', 'D'}:\n",
    "        cnt_arr[2] += 1\n",
    "    elif rs == {'B', 'C'}:\n",
    "        cnt_arr[3] += 1\n",
    "    elif rs == {'B', 'D'}:\n",
    "        cnt_arr[4] += 1\n",
    "    else:\n",
    "        cnt_arr[5] += 1\n",
    "        \n",
    "plt.bar([0, 1, 2, 3, 4, 5], cnt_arr/n);\n",
    "print(cnt_arr/n)\n",
    "plt.ylim(.14, .17);"
   ]
  },
  {
   "cell_type": "markdown",
   "metadata": {},
   "source": [
    "#### 4) \n",
    "\n",
    "An algorithm to solve this would be to access all digits of an element in $A$ (this will take $O(\\log n)$ time since there are $O(\\log n)$ bits in each element and since accessing each bit takes $O(1)$ time).  Accessing all $n$ elements will thus take $O(n \\log n)$.  I can keep a running sum of all numbers and finally subtract this from $\\sum_{i = 0}^n i = n(n+1)/2$ to find this missing number.  Overall this will take $O(n\\log n)$ time and $O(1)$ space."
   ]
  },
  {
   "cell_type": "markdown",
   "metadata": {},
   "source": [
    "#### 5)\n",
    "\n",
    "For this problem, the brute force algorithm would be to iterate over all $i<j$ pairs and then to iterate over $A[i:j+1]$ to check the count of the numbers and letters in this range.  The algorithm would this take $O(n^3)$.\n",
    "\n",
    "A better solution is to iterate from left to right and to keep track of the cumulative number count and the cumulative letter count and well as the difference between these 2 (in linear time).  Note that if the difference at $i$ and $j$ is the same, this means an equal number of letters and numbers were added between $i+1$ and $j$ inclusive, and thus this interval has an equal number of letters and numbers.  All that is left to do is to find the maximum such interval, which can be done in a linear scan through this difference array.  A hash table is kept to keep track of the maximum interval for each difference, and then the max interval is extracted after.\n",
    "\n",
    "The whole algorithm takes linear time and linear space."
   ]
  },
  {
   "cell_type": "code",
   "execution_count": 108,
   "metadata": {},
   "outputs": [
    {
     "name": "stdout",
     "output_type": "stream",
     "text": [
      "['A', 'B', '5', '6', '5', 'D', '4', '4', 'A', 'E', 'F', '3']\n",
      "[]\n",
      "['A', '4']\n",
      "[]\n"
     ]
    }
   ],
   "source": [
    "from math import inf\n",
    "\n",
    "def LargestSub(A):\n",
    "\n",
    "    cumul_letter = 0\n",
    "    cumul_number = 0\n",
    "    diff = [0]*len(A)\n",
    "\n",
    "    if A[0].isdigit():\n",
    "        cumul_number = 1\n",
    "    else:\n",
    "        cumul_letter = 1\n",
    "        \n",
    "    diff[0] = cumul_number - cumul_letter\n",
    "    for i in range(1, len(A)):\n",
    "        if A[i].isdigit():\n",
    "            cumul_number = cumul_number + 1\n",
    "            \n",
    "        else:\n",
    "            cumul_letter = cumul_letter + 1\n",
    "        diff[i] = cumul_number - cumul_letter\n",
    "\n",
    "\n",
    "    H = {}\n",
    "    for i in range(len(diff)):\n",
    "        d = diff[i]\n",
    "        if d in H:\n",
    "            if i < H[d][0]:\n",
    "                H[d][0] = i\n",
    "            elif i > H[d][1]:\n",
    "                H[d][1] = i\n",
    "        else:\n",
    "            H[d] = [i, i]\n",
    "\n",
    "\n",
    "    largest_diff = -inf\n",
    "    largest_diff_i = None\n",
    "    largest_diff_j = None\n",
    "    for h in H:\n",
    "        if H[h][1] - H[h][0] > largest_diff:\n",
    "            largest_diff = H[h][1] - H[h][0]\n",
    "            largest_diff_i = H[h][0]\n",
    "            largest_diff_j = H[h][1]\n",
    "\n",
    "    return A[largest_diff_i+1: largest_diff_j+1]\n",
    "    \n",
    "    \n",
    "A = ['3', 'A', 'B', '5', '6', '5', 'D', '4', '4', 'A', 'E', 'F', '3']\n",
    "B = ['3', 'A']\n",
    "C = ['3', 'A', '4']\n",
    "D = ['3']\n",
    "\n",
    "print(LargestSub(A))\n",
    "print(LargestSub(B))\n",
    "print(LargestSub(C))\n",
    "print(LargestSub(D))\n"
   ]
  },
  {
   "cell_type": "markdown",
   "metadata": {},
   "source": [
    "#### 6)\n",
    "\n",
    "A simple method to compute the total number of 2s between 0 and $n$ (inclusive) is to loop through all numbers from 0 to $n$ and check each digit in the number and increment a count if the digit is 2.  This will take $O(n \\log n)$ time and $O(1)$ space (O($n$) for the loop and $O(\\log n)$ to go through each digit).\n",
    "\n",
    "An easier method is to realize that the number of 2s in any range can most likely be computed analytically.  This is because the 2s occuring in a very formulaic manner since counting numbers is very neat and formulaic.  \n",
    "\n",
    "Consider the number of 2s between 0 and 100.  The number of 2s in this range are the number of 2s between 0 and 9 and the number of 2s between 10 and 99.  However, note that the number of 2s in the units place between 10 and 99 is the number of 2s between 0 and 9 times 9.  We then must add 10 more 2s from all of the first digits in the 20s.  Finally we must add the number of 2s between 0 and 9.  This leads to a nice recursive formula:\n",
    "\n",
    "\\begin{equation}\n",
    "  f(n)=\\begin{cases}\n",
    "    0 & \\text{for $n=1$}\\\\\n",
    "    10 \\cdot f \\left ( \\frac{n}{10} \\right ) +\\frac{n}{10}& \\text{otherwise};\n",
    "  \\end{cases}\n",
    "\\end{equation}\n",
    "where $n$ is some factor of 10; $10^{k}$.  This formula has an easy solution which can be found by unrolling the recurrance: $f(n) = (n/10)\\log_{10}n = k10^{k-1}$.\n",
    "\n",
    "This formula, however, only works for $n$ being a power of 10, and we'd like to find a formula for general $n$.  To do this, it will be more convenient if I express $n$ as a string, $s$.  This problem can be solved recursively.  Let $f(i)$ be the number of 2s between 0 and $s[i:]$.  Also, let $k = len(s[i:])-1$. If $s[i:] = 0$, then I simply return $f(i+1)$ (the number of 2s between 0 and $s[i+1:]$).  If $s[i:] = 1$ I return the number of 2s between 0 and $10^k$ plus the number of 2s between 0 and $s[i+1:]$.  This is $k10^{k-1}+f(i+1)$ (where the first time was computed above).  There are 2 other cases, which can be found similarly, and the base cases are straight forward.  The recursion is given as:\n",
    "\n",
    "\\begin{equation}\n",
    "  f(i)=\\begin{cases}\n",
    "  1 & \\text{for $i=len(s)-1$ and $s[i] \\in \\{2, 3, \\ldots, 9 \\}$}\\\\\n",
    "    0 & \\text{for $i=len(s)-1$ and $s[i] \\in \\{0, 1 \\}$}\\\\\n",
    "    f(i+1) & \\text{for $s[i] = 0$} \\\\\n",
    "    k\\cdot 10^{k-1}+f(i+1)& \\text{for $s[i] = 1$}\\\\\n",
    "    2k\\cdot 10^{k-1}+f(i+1)+s[i+1:]+1& \\text{for $s[i] = 2$}\\\\\n",
    "    s[i]\\cdot k\\cdot 10^{k-1}+f(i+1)+10^k & \\text{otherwise}.\n",
    "  \\end{cases}\n",
    "\\end{equation}\n",
    "\n",
    "To compute the time complexity of this algorithm, let $d$ be the number of digits in $n$.  Then, inspecting the recursion above the time complexity is given by $T(d) = T(d-1)+O(1) = O(d)$.  Since the number of digits in a number is $O(\\log n)$, expressed as a function of $n$, this algorithm runs in $O(\\log n)$ time.  The space complexity is also $O(\\log n)$ (from the stack), which could be reduced to $O(1)$ if it were implemented iteratively."
   ]
  },
  {
   "cell_type": "code",
   "execution_count": 485,
   "metadata": {},
   "outputs": [],
   "source": [
    "def method1(n):\n",
    "    \n",
    "    cnt = 0\n",
    "    for i in range(n+1):\n",
    "        while i > 0:\n",
    "            if i % 10 == 2:\n",
    "                cnt += 1\n",
    "            i //= 10\n",
    "        \n",
    "    return cnt"
   ]
  },
  {
   "cell_type": "code",
   "execution_count": 502,
   "metadata": {},
   "outputs": [
    {
     "name": "stdout",
     "output_type": "stream",
     "text": [
      "1 1\n",
      "1 1\n",
      "20 20\n",
      "63553 63553\n",
      "105079248399060559569926373102761739481413985242743568518420771424412413280032338903154\n"
     ]
    }
   ],
   "source": [
    "def f(i, s):\n",
    "    if i == len(s)-1:\n",
    "        if s[i] in ['1', '0']:\n",
    "            return 0\n",
    "        else:\n",
    "            return 1\n",
    "    \n",
    "    if s[i] in ['3', '4', '5', '6', '7', '8', '9']:\n",
    "        k = len(s[i:]) - 1\n",
    "        return f(i+1, s) + int(s[i])*k*10**(k-1)+10**k\n",
    "    \n",
    "    elif s[i]=='2':\n",
    "        k = len(s[i:]) - 1\n",
    "        return f(i+1, s) + 2*k*10**(k-1)+int(s[i+1:]) + 1\n",
    "    \n",
    "    elif s[i]=='1':\n",
    "        k = len(s[i:]) - 1\n",
    "        return f(i+1, s) + k*10**(k-1)\n",
    "    else:\n",
    "        return f(i+1, s)\n",
    "        \n",
    "\n",
    "def method2(n):\n",
    "    s = str(n)\n",
    "    return f(0, s)\n",
    "\n",
    "\n",
    "print(method1(2), method2(2))\n",
    "print(method1(10), method2(10))\n",
    "print(method1(100), method2(100))\n",
    "print(method1(123456), method2(123456))\n",
    "print(method2(12341234123428347209384720924385702398543918293234523458742093847472123242323423432234))"
   ]
  },
  {
   "cell_type": "markdown",
   "metadata": {},
   "source": [
    "#### 7)\n",
    "\n",
    "To solve this problem, I iterate through the synonymsm, $S$, array and create a hash table $H$, which takes a name and points to the standardized name for that group of names (in my implementation, the first instance of that name within the group of names is the standardized name).  \n",
    "\n",
    "I next iterate through the names, $N$ array, look up the standardized name in my hash table, $H$, and increment a count for that standardized name in another hash table. \n",
    "\n",
    "The total time complexity is $O(|S|+|N|)$ (from the two loops through those arrays) and the space complexity is $O(|S|)$."
   ]
  },
  {
   "cell_type": "code",
   "execution_count": 115,
   "metadata": {},
   "outputs": [
    {
     "data": {
      "text/plain": [
       "{'Jon': 27, 'Chris': 36}"
      ]
     },
     "execution_count": 115,
     "metadata": {},
     "output_type": "execute_result"
    }
   ],
   "source": [
    "def BabyNames(N, S):\n",
    "\n",
    "    H={}\n",
    "    #### create hash table mapping\n",
    "    for tup in S:\n",
    "        if tup[0] in H:\n",
    "            if tup[1] not in H:\n",
    "                H[tup[1]] = H[tup[0]]\n",
    "        elif tup[1] in H:\n",
    "            if tup[0] not in H:\n",
    "                H[tup[0]] = H[tup[1]]\n",
    "        else:\n",
    "            H[tup[0]] = tup[0]\n",
    "            H[tup[1]] = tup[0]\n",
    "\n",
    "    final_count = {}\n",
    "    for tup in N:\n",
    "        actual_name = H[tup[0]]\n",
    "        if actual_name in final_count:\n",
    "            final_count[actual_name] += tup[1]\n",
    "        else:\n",
    "            final_count[actual_name] = tup[1]\n",
    "    return final_count\n",
    "\n",
    "\n",
    "N = [('John', 15), ('Jon', 12), ('Chris', 13), ('Kris', 4), ('Christopher', 19)]\n",
    "S = [('Jon', 'John'), ('John', 'Johnny'), ('Chris', 'Kris'), ('Chris', 'Christopher')]\n",
    "\n",
    "BabyNames(N, S)"
   ]
  },
  {
   "cell_type": "markdown",
   "metadata": {},
   "source": [
    "#### 8)\n",
    "\n",
    "This problem is very similar to the maximum block height problem.  This can be solved using DP with the following recurence:\n",
    "\n",
    "\\begin{equation}\n",
    "  MaxP(i)=\\begin{cases}\n",
    "    1 & \\text{for $|\\mathcal{R}_i| = 0$}\\\\\n",
    "    \\max_{j \\in \\mathcal{R}_i} \\{ 1 + MaxP(j) \\}& \\text{otherwise},\n",
    "  \\end{cases}\n",
    "\\end{equation}\n",
    "where $MaxP(i)$ is the maximum number of people with person $i$ as the base.  Here,\n",
    "\n",
    "\\begin{equation}\n",
    "\\mathcal{R}_i \\equiv \\left \\{p \\in \\mathcal{P}~: h_p < h_i, w_p < w_i\\right \\}.\n",
    "\\end{equation}\n",
    "\n",
    "Here, $\\mathcal{P}$ is the set of people in the circus and $MH(i)$ is the maximum height of the tower if person $i$ is at the base.  I can iterate through all $i$ people, run this formula and memoize the results.  I can then iterate through the memo table to find the maximum.  This will take $O(n^2)$ time and it will take $O(n)$ space."
   ]
  },
  {
   "cell_type": "markdown",
   "metadata": {},
   "source": [
    "#### 9)\n",
    "\n",
    "There are several ways to approach this problem.  Here are a few:\n",
    "\n",
    "1) The $k^{th}$ number will be at most $3^k5^k7^k$.  Construct all values $3^a5^b7^c$ such that $(a, b, c) \\in \\{1, 2, \\ldots, k \\} \\times \\{1, 2, \\ldots, k \\} \\times \\{1, 2, \\ldots, k \\}$, sort the result and take the $k^{th}$ element.  This will take $O(k^3)$ to construct the list, and then $O(k^3 \\log k^3) = O(k^3 \\log k)$ to sort the list.  This will also take $O(k^3)$ space.\n",
    "\n",
    "2)  The next method is run a while loop, and to check if each number is only factorized by 3, 5, 7 (by continuously dividing by these values).  The while loop keeps a count of each number that is only factorized by these 3 numbers and terminates at the $k^{th}$ value.\n",
    "\n",
    "3) The 3rd method is to realized that for $\\mathcal L_k =  (L_1, L_2, \\ldots L_k)$, $L_{k+1}$ is 3 or 5 or 7 times some previous number in $\\mathcal L_k$ such that this new number is not in $\\mathcal L_k$ (and is the minimum such number).  To implement this, I use a hash table for quick lookup that keeps track of all possible new values of $L_k$.  In a loop up until $k$, I continuously return the min in this hash table, remove it and add to the hash table 3, 5, 7 times the number just removed.  Because of the loop and the $\\min$ in the loop, this will take $O(k^2)$ time and $O(k)$ space.  A more efficient solution would be to use a min heap to keep instead of a hash.  Finding the min would take $O(1)$ and the inserts and deletes would take $O(\\log k)$, so that the new time complexity would be $O(k \\log k)$\n",
    "\n",
    "4) There exists a more efficient $O(n)$ solution, but I do not explore that here."
   ]
  },
  {
   "cell_type": "code",
   "execution_count": 122,
   "metadata": {},
   "outputs": [
    {
     "name": "stdout",
     "output_type": "stream",
     "text": [
      "77175\n",
      "77175\n",
      "77175\n",
      "77175\n"
     ]
    }
   ],
   "source": [
    "def method1(k):\n",
    "    candidates = [(3**a)*(5**b)*(7**c) for a in range(k+1) for b in range(k+1) for c in range(k+1)]\n",
    "    candidates = sorted(candidates)\n",
    "    return candidates[k-1]\n",
    "\n",
    "def method2(k):\n",
    "\n",
    "    n = 1\n",
    "    cnt = 0\n",
    "    while cnt < k:\n",
    "\n",
    "        x = n\n",
    "        \n",
    "        while x % 3 == 0:\n",
    "            x //= 3\n",
    "        while x % 5 == 0:\n",
    "            x //= 5\n",
    "        while x % 7 == 0:\n",
    "            x //= 7\n",
    "\n",
    "        if x == 1:\n",
    "            cnt += 1\n",
    "        \n",
    "        n += 1\n",
    "    \n",
    "    return n-1\n",
    "\n",
    "\n",
    "def method3(k):\n",
    "    \n",
    "    n = 1\n",
    "    L_n = 1\n",
    "    L = {3, 5, 7}\n",
    "    \n",
    "    while n < k:\n",
    "        n += 1\n",
    "        L_n = min(L)\n",
    "        L.remove(L_n)\n",
    "        L.add(3*L_n); L.add(5*L_n); L.add(7*L_n)\n",
    "\n",
    "        \n",
    "    return L_n\n",
    "                \n",
    "\n",
    "k = 120\n",
    "print(method1(k))\n",
    "print(method2(k))\n",
    "print(method3(k))\n",
    "print(method4(k))\n",
    "    \n"
   ]
  },
  {
   "cell_type": "markdown",
   "metadata": {},
   "source": [
    "#### 10)\n",
    "\n",
    "For an input array, $A$, there are several ways to implement this with varying time and space complexities:\n",
    "\n",
    "1) Use a hash table to keep a count of all values.  Return the element that has a count $\\ge$ $|A|$ (if it exists). This will take $O(n)$ time and $O(n)$ space.\n",
    "\n",
    "2) Use 2 nested for loops where the first pointer at position $i$ points to the value to be counted and the 2nd, loops through the array counting all occurences of $A[i]$.  If a count is found that is $\\ge$ $|A|$ then return it.  This will take $O(n^2)$ time and $O(1)$ space.\n",
    "\n",
    "3) Presort the array and iterate from left to right, keeping a count of the number $A[i]$.  If the value at $i$ every changes, finish the count and reture $A[i]$ if it is a majority; otherwise reset the count to zero and continue.  This will take $O(n \\log n)$ time and $O(1)$ space (if we use an inpace sorting algorithm).\n"
   ]
  },
  {
   "cell_type": "code",
   "execution_count": null,
   "metadata": {},
   "outputs": [],
   "source": [
    "def method1(A):\n",
    "    H = {}\n",
    "    for a in A:\n",
    "        if a in H:\n",
    "            H[a] += 1\n",
    "        else:\n",
    "            H[a] = 1\n",
    "    \n",
    "    for h in H:\n",
    "        if H[h] >= len(A)/2:\n",
    "            return h\n",
    "        \n",
    "    return -1\n",
    "\n",
    "def method2(A):\n",
    "    A.sort()\n",
    "    val = A[0]\n",
    "    cnt = 1\n",
    "    for i in range(1, len(A)):\n",
    "        if A[i] == val:\n",
    "            count += 1\n",
    "            if count >= len(A)/2:\n",
    "                return A[i]\n",
    "        else:\n",
    "            val = A[i]\n",
    "            count = 1\n",
    "    \n",
    "    return -1\n",
    "        \n",
    "A = [1, 4, 6, 7, 4, 4]\n",
    "B = [1, 4, 6, 7, 4, 8]\n",
    "\n",
    "print(method1(A))\n",
    "print(method2(A))\n",
    "print(method1(B))\n",
    "print(method2(B))"
   ]
  },
  {
   "cell_type": "markdown",
   "metadata": {},
   "source": [
    "#### 11)\n",
    "\n",
    "Assuming the input comes in an array where each element is a word, to find the shortest distance between words, I can iterate from left to right in the input document, $D$, until I reach the first occurance of either $w_1$ or $w_2$, call it $w$.  Let $W[w]$ be equal to $w_2$ if $w = w_1$ and $w_1$ if $w = w_2$.  If the first word is $w_1$, I note the index location of this occuracne and continue iteration through $D$ until I get to either $w_1$ or $w_2$.  If this word is $w_1$, I restart the index location at this value.  If this word is $w_2$ I compute the distance of this value from the previous occurance of $w_1$ using the saved start value.  If this distance is smaller than a current minimum, I update this minimum and restart the location index at this index and let $w=w_2$. I iterate through the array until the end. \n",
    "\n",
    "\n",
    "This strategy will take $O(n)$ time and $O(1)$ space.  If $D$ is very big I could consider precomputing a distance matrix in $O(n^3)$ time, so that in the future I could look up all minimum distances in $O(1)$ time.  This would take $O(n^2)$ space."
   ]
  },
  {
   "cell_type": "code",
   "execution_count": 131,
   "metadata": {},
   "outputs": [
    {
     "data": {
      "text/plain": [
       "2"
      ]
     },
     "execution_count": 131,
     "metadata": {},
     "output_type": "execute_result"
    }
   ],
   "source": [
    "def ShortestDist(D, w1, w2):\n",
    "    \n",
    "    ### find first occurence of either w1 or w2\n",
    "    for i in range(len(D)):\n",
    "        if D[i] == w1:\n",
    "            w = w1\n",
    "            break\n",
    "        if D[i] == w2:\n",
    "            w = w2\n",
    "            break\n",
    "    \n",
    "    ### if neither word is in file then return infinity\n",
    "    if i == len(D)-1:\n",
    "        return inf\n",
    "    \n",
    "    W = {w1:w2, w2:w1}    \n",
    "    curr_min = inf\n",
    "    start = i\n",
    "    for j in range(i + 1, len(D)):\n",
    "        if D[j] == w:\n",
    "            start = j\n",
    "        elif D[j] == W[w]:\n",
    "            curr_min = min(curr_min, j - start - 1)\n",
    "            start = j\n",
    "            w = W[w]\n",
    "    return curr_min\n",
    "    \n",
    "    \n",
    "            \n",
    "D = ['c', 'a', 'c', 'c', 'c', 'a', 'c', 'c', 'b', 'c', 'c', 'a', 'c']\n",
    "ShortestDist(D, 'a', 'b')"
   ]
  },
  {
   "cell_type": "markdown",
   "metadata": {},
   "source": [
    "#### 13)\n",
    "\n",
    "To solve this problem by brute force, I would need to check every possible $2^{n-1}$ partitions of the string and then run through each segment of each partition to see if it is in the dictionary.  This would take $O(n2^n)$ time which is not acceptable. \n",
    "\n",
    "This problem can be solved much more quickly with DP.  The following recurrence gives the proper DP solution.\n",
    "\n",
    "\\begin{equation}\n",
    "  MinErr(k)=\\begin{cases}\n",
    "    0 & \\text{for $k=-1$}\\\\\n",
    "    \\min_{0\\le j \\le k} \\{ MinErr(j-1)+\\cdot \\mathbf{I}\\{d[j:k+1] \\notin \\mathcal D \\} \\}& \\text{otherwise}\n",
    "  \\end{cases}\n",
    "\\end{equation}\n",
    "In this equation I choose the last word of the document, then the problem restarts for a smaller segment of the document.  This algorithm will take $O(n^3)$ time since there are $O(n)$ unique problems, each of which take $O(n^2)$ time to solve from the loop over the min and from slicing the string from $j$ to $k$.  This will also take $O(n)$ space from the memo table.\n",
    "\n",
    "Precomputing $\\mathbf{I}\\{d[j:k+1] \\notin \\mathcal D \\}$ for all pairs $j<k$ and saving the results in a matrix would bring down the time complexity to $O(n^2)$ but would increase the space complexity to $O(n^2)$."
   ]
  },
  {
   "cell_type": "code",
   "execution_count": 155,
   "metadata": {},
   "outputs": [
    {
     "data": {
      "text/plain": [
       "7"
      ]
     },
     "execution_count": 155,
     "metadata": {},
     "output_type": "execute_result"
    }
   ],
   "source": [
    "def I(j, k, D, d):\n",
    "    if d[j:k+1] not in D:\n",
    "        return k-j + 1\n",
    "    else:\n",
    "        return 0\n",
    "\n",
    "def MinErr(k, memo, d, D):\n",
    "    \n",
    "    if k in memo:\n",
    "        return memo[k]\n",
    "    if k == -1:\n",
    "        return 0\n",
    "    \n",
    "    curr_min= inf\n",
    "    for j in range(0, k+1):\n",
    "        res = MinErr(j-1, memo, d, D)+I(j, k, D, d)\n",
    "        curr_min = min(curr_min, res)\n",
    "    \n",
    "    memo[k] = curr_min\n",
    "    return curr_min\n",
    "\n",
    "d='jesslookedjustliketimherbrother'\n",
    "D={'looked', 'just', 'like', 'her', 'brother'}\n",
    "\n",
    "memo={}\n",
    "MinErr(len(d)-1, memo, d, D)"
   ]
  },
  {
   "cell_type": "markdown",
   "metadata": {},
   "source": [
    "#### 14)\n",
    "\n",
    "1) Sort the values and return the smallest $k$.  TC: $O(n\\log n)$, SC: $O(k)$ (if sorting done in place).\n",
    "\n",
    "2) Do $k$ linear scans to get the $k$ smallest.  TC: $O(nk)$, SC: $O(k)$.\n",
    "\n",
    "3) Build a min heap out of all data and extract top $k$ values: TC: $O(n) +O(k \\log n)$, SC: $O(n)$\n",
    "\n",
    "4) Build a max heap out of first $k$ values.  Scan through rest of array and extract root and replace with element : TC: $O(k)$ +$O(n \\log k)$, SC: $O(k)$"
   ]
  },
  {
   "cell_type": "markdown",
   "metadata": {},
   "source": [
    "#### 15)\n",
    "\n",
    "This problem can be solved with DP by noting that, before we can even get the maximum length of a word composed of other words in the dictionary, we need to check if it actually can be composed of other words in the dictionary.\n",
    "\n",
    "To do this, I write an $IsValid(\\cdot)$ program which checks this condition given a word $w$.  I then loop through the whole list, check each word, and if the program returns True, I check if the length of the word is greater than the current max.\n",
    "\n",
    "The proper recurrance for this DP problem is given below.\n",
    "\n",
    "\\begin{equation}\n",
    "  IsValid(i)=\\begin{cases}\n",
    "    False & \\text{for $|\\mathcal K_i| = 0$ and $ i\\ge 0$}\\\\\n",
    "    True & \\text{for $ i=-1$}\\\\\n",
    "    \\bigvee \\limits_{ k \\in \\mathcal K_i} IsValid(k-1)& \\text{otherwise}\n",
    "  \\end{cases}\n",
    "\\end{equation}\n",
    "where $\\mathcal K_i = \\{ 0\\le k \\le i:  w[k:i+1] \\in \\mathcal D \\}$.  Here $i$ is an index in the word, $w$ and $\\mathcal D$ is the dictionary of words.\n",
    "\n",
    "This program will be $O(n^3)$ time and $O(n)$ space.  There are $n$ unique subproblems with $O(n^2)$ work per subproblem (iterating over $k$ and then slicing the string with $w[k:i+1]$).  This slicing part can be avoided with precoputation by running over all pairs of $k<i$, checking if $w[k:i+1]$ is in the dictionary and saving $True$ or $False$ in a matrix or dictionary which can be accessed in constant time during the DP algorithm.  This would add, additional space complexity of $O(n^2)$.   Overall, to get the maximum length, I will need to iterate over all words in the dictionary, so the total running time will be $O(|\\mathcal D|n^3)$, where $n$ is the maximum word size in the dictionary.\n",
    "\n"
   ]
  },
  {
   "cell_type": "code",
   "execution_count": 159,
   "metadata": {},
   "outputs": [
    {
     "name": "stdout",
     "output_type": "stream",
     "text": [
      "True\n",
      "True\n",
      "False\n",
      "False\n"
     ]
    },
    {
     "data": {
      "text/plain": [
       "(13, 'TigerDougDoug')"
      ]
     },
     "execution_count": 159,
     "metadata": {},
     "output_type": "execute_result"
    }
   ],
   "source": [
    "def IsValid(i, memo, w):\n",
    "    if i in memo:\n",
    "        return memo[i]\n",
    "    if i == -1:\n",
    "        return True\n",
    "    \n",
    "    res = False\n",
    "    cnt = 0\n",
    "    \n",
    "    for k in range(0, i+1):\n",
    "        if w[k:i+1] in D:\n",
    "            cnt +=1\n",
    "            if IsValid(k-1, memo, w):\n",
    "                res = True\n",
    "    \n",
    "    if cnt == 0:\n",
    "        memo[i] = False\n",
    "        return False\n",
    "    else:\n",
    "        memo[i] = res\n",
    "        return res\n",
    " \n",
    "D = {'Cab', 'Tiger', 'Doug'}\n",
    "w1 ='Tiger' \n",
    "w2 ='TigerDougDoug'  \n",
    "w3 ='TigerJenya' \n",
    "w4 ='Hi'  \n",
    "print(IsValid(len(w1)-1, {}, w1))\n",
    "print(IsValid(len(w2)-1, {}, w2))\n",
    "print(IsValid(len(w3)-1, {}, w3))\n",
    "print(IsValid(len(w4)-1, {}, w4))\n",
    "\n",
    "\n",
    "def LongestWord(D):\n",
    "    current_max = -inf\n",
    "    current_word = None\n",
    "    for w in D:\n",
    "        if IsValid(len(w)-1, {}, w) and len(w)>current_max:\n",
    "            current_max = len(w)\n",
    "            current_word = w\n",
    "        \n",
    "    return (current_max, current_word)\n",
    "\n",
    "D2 = {'Cab', 'Tiger', 'Doug', 'TigerDougDoug', 'TigerJenya', 'Hi'}\n",
    "\n",
    "LongestWord(D2)"
   ]
  },
  {
   "cell_type": "markdown",
   "metadata": {},
   "source": [
    "#### 16)\n",
    "\n",
    "This is a simple DP problem.  Either appointment $i$ is in the maximal solution or it is not.  If it is in the solution, we must take $M[i]$ and add this to the maximal solution for $i-2$ (since no 2 appointments may be adjacent).  If it is not in the solution, we must return the maximal solution for $i-1$.  The optimal solution is the max of these 2 options.  The time complexity of this algo is $O(n)$ and the space complexity is $O(n).$\n",
    "\n",
    "\\begin{equation}\n",
    "  MaxMins(i)=\\begin{cases}\n",
    "    M[0] & \\text{for $i=0$}\\\\\n",
    "    max \\{M[0], M[1] \\} & \\text{for $i=1$}\\\\\n",
    "    \\max \\{MaxMins(i-1), MaxMins(i-2)+M[i] \\}& \\text{otherwise}\n",
    "  \\end{cases}\n",
    "\\end{equation}\n",
    "\n",
    "The algorithm can also be implemented iteratively with constant space."
   ]
  },
  {
   "cell_type": "code",
   "execution_count": 538,
   "metadata": {},
   "outputs": [
    {
     "name": "stdout",
     "output_type": "stream",
     "text": [
      "180\n",
      "180\n"
     ]
    }
   ],
   "source": [
    "def MaxMins(i, memo, M):\n",
    "    if i in memo:\n",
    "        return memo[i]\n",
    "    \n",
    "    if i == 0:\n",
    "        return M[0]\n",
    "    \n",
    "    if i == 1:\n",
    "        return max(M[0], M[1])\n",
    "    \n",
    "    memo[i] = max(MaxMins(i-1, memo, M), MaxMins(i-2, memo, M)+M[i])\n",
    "    return memo[i]\n",
    "\n",
    "def MaxMins2(M):\n",
    "    MM2 = M[0]\n",
    "    MM1 = max(M[1], M[0])\n",
    "    \n",
    "    for i in range(2, len(M)):\n",
    "        temp = max(MM1, MM2+M[i])\n",
    "        MM2 = MM1\n",
    "        MM1 = temp\n",
    "    \n",
    "    return MM1\n",
    "\n",
    "M = [30, 15, 60, 75, 45, 15 ,15, 45]\n",
    "print(MaxMins(len(M)-1, {}, M))\n",
    "\n",
    "print(MaxMins2(M))"
   ]
  },
  {
   "cell_type": "markdown",
   "metadata": {},
   "source": [
    "#### 17)\n",
    "A simple, but probably not optimal solution is to simply iterate the smaller word through the bigger word to find a match, and do this for each word in $T$.  The time complexity will be $O(|T|(|w_1|-|w_{max}|)|w_{max}|)$ and the space complexity will be $O(1)$."
   ]
  },
  {
   "cell_type": "code",
   "execution_count": 172,
   "metadata": {},
   "outputs": [
    {
     "data": {
      "text/plain": [
       "[1, 4]"
      ]
     },
     "execution_count": 172,
     "metadata": {},
     "output_type": "execute_result"
    }
   ],
   "source": [
    "def StringSearch(s1, s2):\n",
    "    m = len(s2)\n",
    "    i = 0\n",
    "    occurances=[]\n",
    "    while i + m <= len(s1) - 1:\n",
    "        if s1[i:i + m ] == s2:\n",
    "            occurances.append(i)\n",
    "        i += 1\n",
    "    return occurances\n",
    "        \n",
    "s1 = 'mississippi'\n",
    "s2 = 'is'\n",
    "\n",
    "StringSearch(s1, s2)"
   ]
  },
  {
   "cell_type": "markdown",
   "metadata": {},
   "source": [
    "#### 19)\n",
    "\n",
    "This problem can be solved by noting that the sum of the array, without any numbers missing, should be $S = \\sum_{i}^{len(A)+1} i = (len(A)+1)\\cdot(len(A)+2)/2$.  Therefore, I can compute the actual sum in linear time and $O(1)$ space, $S_act$, so that the missing number should be $S-S_{act}$.\n",
    "\n",
    "If 2 numbers are missing I can do something similar.  Without any numbers missing, the product of the array should be $F = (len(A)+2)!$, which I can compute in linear time.  I can also compute the prodcut of the array in linear time, so that the missing numbers, $A_1$ and $A_2$ satisfy the equation $A_1A_2 = F/F_{act}$l. This pair of numbers also satisfies $A_1+A_2 = S-S_{act}$.  Using the quadratric formula, I have:\n",
    "\n",
    "\\begin{equation}\n",
    "A_2 = \\frac{-(S_{act} - S) \\pm \\sqrt{(S_{act} - S)^2 - 4 (F/F_{act})}}{2},\n",
    "\\end{equation}\n",
    "and\n",
    "\\begin{equation}\n",
    "A_1 = \\frac{F}{F_{act}A_2}.\n",
    "\\end{equation}\n",
    "I choose the sign in the numerator such that $1 < A_1 \\le len(A)+2$ and $1 < A_2 <= len(A)+2$ and $A_1 \\neq A_2$.  This algorithm takes linear time and constant space."
   ]
  },
  {
   "cell_type": "code",
   "execution_count": 557,
   "metadata": {},
   "outputs": [
    {
     "name": "stdout",
     "output_type": "stream",
     "text": [
      "6\n",
      "(6, 10)\n"
     ]
    }
   ],
   "source": [
    "from math import sqrt\n",
    "\n",
    "def OneMissing(A):\n",
    "\n",
    "    S = (len(A)+1)*(len(A)+2)//2\n",
    "\n",
    "    S_act = 0\n",
    "    for el in A:\n",
    "        S_act += el\n",
    "\n",
    "    return S - S_act\n",
    "\n",
    "def TwoMissing(A):\n",
    "\n",
    "    S = (len(A)+2)*(len(A)+3)//2\n",
    "    F = 1\n",
    "    for i in range(1, len(A)+3):\n",
    "        F *= i\n",
    "\n",
    "    F_act = 1\n",
    "    S_act = 0\n",
    "    for el in A:\n",
    "        S_act += el\n",
    "        F_act *= el\n",
    "        \n",
    "   \n",
    "    a = 1\n",
    "    b = S_act - S\n",
    "    c = F/F_act\n",
    "    \n",
    "    A2 = (-b + sqrt(b**2 -4*a*c))/(2*a)\n",
    "    A1 = c/A2\n",
    "    \n",
    "    if (1 < A1 <= len(A)+2) and (1 < A2 <= len(A)+2) and A1 != A2:\n",
    "        return (int(A1), int(A2))\n",
    "    else:\n",
    "        A2 = (-b - sqrt(b**2 -4*a*c))/(2*a)\n",
    "        A1 = c/A2\n",
    "        return (int(A1), int(A2))\n",
    "\n",
    "A=[1, 2, 3, 4, 5, 7, 8, 9, 10, 11]\n",
    "print(OneMissing(A))\n",
    "A=[1, 2, 3, 4, 5, 7, 8, 9, 11]\n",
    "print(TwoMissing(A))"
   ]
  },
  {
   "cell_type": "markdown",
   "metadata": {},
   "source": [
    "#### 20)\n",
    "\n",
    "One possibility is to use a sorted array to store the data points.  To access the median the time complexity would be $O(1)$ and to insert a new data point the time complexity would be $O(n)$ (a linear scan to find the appropriate position and $O(n)$ work to shift all data points down).\n",
    "\n",
    "A better data structure is to maintain 2 heaps, a min heap which contains all values less than or equal to the median ($\\mathcal T_<$) and a max heap which contains all values greater than or equal to the median ($\\mathcal T_>$).  The insert operation can be constructed such that for an even number of data points it is gauranteed that $|\\mathcal T_>| = |\\mathcal T_>|$, in which case the median is the average of the 2 roots.  It can also be gauranteed that for an odd number of data points $|\\mathcal T_<| +1 =|\\mathcal T_>|$ (that is the max heap has exactly one more data point).  In this case the median is the root of $\\mathcal T_>$.\n",
    "\n",
    "The insert opertation is as follows.  If the current number of data points in the trees is odd and the median value is $M$ then there are 3 possibilities for the new data point, $N$: $N<M$ (1), $N=M$ (2), or $N>M$ (3).\n",
    "\n",
    "1) Put $N$ in $\\mathcal T_<$\n",
    "\n",
    "2) Put $N$ in $\\mathcal T_<$\n",
    "\n",
    "3) Put $M$ in $\\mathcal T_<$, Put $N$ in $\\mathcal T_>$\n",
    "\n",
    "If the current number of data points in the trees is even and the two roots of the trees are $M_<$ nd $M>$ then there are 5 possibilities for the new data point, $N$: $N<M_<$ (1), $N=M_<$ (2), or $M_< <N<M_>$(3), $N=M_>$ (4), $N> M_>$ (5).\n",
    "\n",
    "1) Put $M_<$ in $\\mathcal T_>$. Put $N$ in $\\mathcal T_<$.\n",
    "\n",
    "2) Put $M_<$ in $\\mathcal T_>$. Put $N$ in $\\mathcal T_<$.\n",
    "\n",
    "3) Put $N$ in $\\mathcal T_>$.\n",
    "\n",
    "4) Put $N$ in $\\mathcal T_>$.\n",
    "\n",
    "5) Put $N$ in $\\mathcal T_>$.\n",
    "\n",
    "If $M_> = M_<$ then the steps will be the same. \n",
    "\n",
    "The time complexity for an insert is thus $O(\\log n)$ and the time complexity to get the median is $O(1)$.\n"
   ]
  },
  {
   "cell_type": "code",
   "execution_count": 609,
   "metadata": {},
   "outputs": [
    {
     "name": "stdout",
     "output_type": "stream",
     "text": [
      "26\n",
      "15\n"
     ]
    }
   ],
   "source": [
    "def FindMax(i, A):\n",
    "    curr_max = A[len(A)-1]\n",
    "    curr_max_ind = len(A)-1\n",
    "    for j in range(i+1, len(A)):\n",
    "        \n",
    "        if A[j] >= A[i]:\n",
    "            curr_max = A[j]\n",
    "            curr_max_ind = j\n",
    "            break\n",
    "        elif A[j]> curr_max:\n",
    "            curr_max = A[j]\n",
    "            curr_max_ind = j\n",
    "        \n",
    "    vol_of_bars_in_between = 0  \n",
    "    for k in range(i+1, curr_max_ind):\n",
    "        vol_of_bars_in_between += A[k]\n",
    "            \n",
    "    return (curr_max_ind, vol_of_bars_in_between)\n",
    "\n",
    "def GetVol(A):\n",
    "    i = 0\n",
    "    water = 0\n",
    "    while i < len(A) - 1:        \n",
    "        res = FindMax(i, A)\n",
    "        j = res[0]\n",
    "        vol_of_bars_in_between = res[1]\n",
    "        \n",
    "        water_level = min(A[i], A[j])\n",
    "        water = water + water_level*(j-i-1) - vol_of_bars_in_between\n",
    "        i = j\n",
    "    return water\n",
    "\n",
    "A = [0, 0, 4, 0, 0, 6, 0, 0, 3, 0, 5, 0, 1, 0, 0, 0]\n",
    "print(GetVol(A))\n",
    "\n",
    "A = [3, 1, 4, 0, 0, 6, 0, 3, 0, 2]\n",
    "print(GetVol(A))"
   ]
  },
  {
   "cell_type": "markdown",
   "metadata": {},
   "source": [
    "#### 22)\n",
    "\n",
    "This question can be answered by putting each word into an undirected graph, where nodes are connected if the words are different by only 1 letter.  I can then search the graph from source word to destination word with a standard graph search algorithm to determine a path from the source to the destination.  The algorithm I use is depth first search.  \n",
    "\n",
    "I implement depth first search below and modify it slightly to save a dictionary of the parent of each node.  I can then use this dictionary in a while loop to traverse backwards from the destination to the source to print out the path from destination to source (which I reverse to print so that it prints out source to destination path).\n",
    "\n",
    "The time complexity for DFS is $O(V+E)$ where $V$ is the number of vertices in the graph and $E$ is the number of edges. "
   ]
  },
  {
   "cell_type": "code",
   "execution_count": 49,
   "metadata": {},
   "outputs": [],
   "source": [
    "from collections import defaultdict \n",
    "\n",
    "class Graph: \n",
    "  \n",
    "    # Constructor \n",
    "    def __init__(self): \n",
    "  \n",
    "        # default dictionary to store graph \n",
    "        self.graph = defaultdict(list) \n",
    "  \n",
    "    # function to add an edge to graph (undirected graph) \n",
    "    def addEdge(self,u,v): \n",
    "        self.graph[u].append(v) \n",
    "        self.graph[v].append(u) \n",
    "  \n",
    "    # A function used by DFS \n",
    "    def _DFSUtil(self, v, visited, parent): \n",
    "  \n",
    "        # Mark the current node as visited and print it \n",
    "        visited[v]= True\n",
    "  \n",
    "        # Recur for all the vertices adjacent to this vertex \n",
    "        for i in self.graph[v]: \n",
    "            if i not in visited: \n",
    "                parent[i] = v\n",
    "                self._DFSUtil(i, visited, parent) \n",
    "  \n",
    "  \n",
    "    # The function to do DFS traversal. It uses \n",
    "    # recursive DFSUtil() \n",
    "    def DFS(self,v, dest): \n",
    "  \n",
    "        # Mark all the vertices as not visited \n",
    "        visited = {} \n",
    "  \n",
    "        # Call the recursive helper function to print \n",
    "        # DFS traversal\n",
    "        parent = {}\n",
    "        parent[v] = None\n",
    "        self._DFSUtil(v,visited, parent) \n",
    "        \n",
    "        return self._RetraceSteps(parent, v, dest)\n",
    "    \n",
    "\n",
    "    def _RetraceSteps(self, parent, source, dest):\n",
    "        arr= [dest]\n",
    "        dest = parent[dest]\n",
    "        while dest != source:\n",
    "            arr.append(dest + '--> ')\n",
    "            dest = parent[dest]\n",
    "        \n",
    "        arr.append(dest + '--> ')\n",
    "        \n",
    "        return \"\".join(list(reversed(arr)))\n",
    "        "
   ]
  },
  {
   "cell_type": "code",
   "execution_count": 50,
   "metadata": {},
   "outputs": [
    {
     "data": {
      "text/plain": [
       "'fool--> cool--> pool--> poll--> pall--> pale--> sale--> sage'"
      ]
     },
     "execution_count": 50,
     "metadata": {},
     "output_type": "execute_result"
    }
   ],
   "source": [
    "mygraph = Graph()\n",
    "mygraph.addEdge('fail', 'fall')\n",
    "mygraph.addEdge('fall', 'pall')\n",
    "mygraph.addEdge('pall', 'poll')\n",
    "mygraph.addEdge('poll', 'pool')\n",
    "mygraph.addEdge('pool', 'cool')\n",
    "mygraph.addEdge('cool', 'fool')\n",
    "mygraph.addEdge('fool', 'foul')\n",
    "mygraph.addEdge('foul', 'foil')\n",
    "mygraph.addEdge('foil', 'fail')\n",
    "mygraph.addEdge('fool', 'foil')\n",
    "mygraph.addEdge('fool', 'pool')\n",
    "mygraph.addEdge('poll', 'pole')\n",
    "mygraph.addEdge('pall', 'pale')\n",
    "mygraph.addEdge('pole', 'pope')\n",
    "mygraph.addEdge('pole', 'pale')\n",
    "mygraph.addEdge('pale', 'sale')\n",
    "mygraph.addEdge('sale', 'sage')\n",
    "mygraph.addEdge('sage', 'page')\n",
    "mygraph.addEdge('page', 'pale')\n",
    "\n",
    "mygraph.DFS('fool', 'sage')\n"
   ]
  },
  {
   "cell_type": "markdown",
   "metadata": {},
   "source": [
    "#### 23)\n",
    "\n",
    "Let $MaxSubSq(i, j)$ be the size of the maximum size subsquare matrix of all \"B\"s whose lower right hand corner starts at $(i, j)$ in the given matrix.  If $M[i, j] = W$, it is clear the $MaxSubSq(i, j) = 0$.  However, if If $M[i, j] = B$, then the maximum size subsquare matrix of all 'B's starting at $(i,j)$ is the minimum of the 3 neighbors, $MaxSubSq(i-1, j)$, $MaxSubSq(i, j-1)$, $MaxSubSq(i-1, j-1)$ plus one.  The base cases must be handled appropriately as well.  The get the largest subsquare matrix of all ones, I can then iterate through the memo table and return the max.\n",
    "\n",
    "In a top down manner, the time and space complexity of this algorithm are both $O(n^2)$.  Implementing this in a bottom up manner can reduce the space complexity to $O(n)$.\n",
    "\n",
    "\\begin{equation}\n",
    "  MaxSubSq(i, j)=\\begin{cases}\n",
    "    0 & \\text{for $M[i,j]=`W$'}\\\\\n",
    "    0 & \\text{for $i$ or $j=0$ and $M[i,j]=W$}\\\\\n",
    "    1 & \\text{for $i$ or $j=0$ and $M[i,j]=B$}\\\\\n",
    "    \\min \\{MaxSubSq(i-1, j), MaxSubSq(i, j-1), MaxSubSq(i-1, j-1) \\}+1 & \\text{otherwise}\n",
    "  \\end{cases}\n",
    "\\end{equation}"
   ]
  },
  {
   "cell_type": "code",
   "execution_count": 53,
   "metadata": {},
   "outputs": [
    {
     "name": "stdout",
     "output_type": "stream",
     "text": [
      "   0  1\n",
      "0  B  W\n",
      "1  B  W\n",
      "1\n",
      "   0  1  2  3\n",
      "0  B  W  W  W\n",
      "1  W  B  B  W\n",
      "2  B  B  B  W\n",
      "3  B  B  B  B\n",
      "2\n",
      "   0  1  2  3\n",
      "0  B  W  W  W\n",
      "1  W  B  B  B\n",
      "2  B  B  B  B\n",
      "3  B  B  B  B\n",
      "3\n"
     ]
    }
   ],
   "source": [
    "import pandas as pd\n",
    "from math import inf\n",
    "\n",
    "def I(x):\n",
    "    if x == 'B':\n",
    "        return 1\n",
    "    else:\n",
    "        return 0\n",
    "\n",
    "def MaxSquareRec(i,j, memo):\n",
    "    if (i,j) in memo:\n",
    "        return memo[i,j]\n",
    "    \n",
    "    if M[i][j] == 'W':\n",
    "        memo[(i,j)] = 0\n",
    "        return 0\n",
    "    \n",
    "    if i==0 or j==0:\n",
    "        memo[(i,j)] = I(M[i][j])\n",
    "        return memo[(i,j)]\n",
    "\n",
    "    r1 = MaxSquareRec(i-1,j, memo) + 1\n",
    "    r2 = MaxSquareRec(i,j-1, memo) + 1\n",
    "    r3 = MaxSquareRec(i-1,j-1, memo) + 1\n",
    "    \n",
    "    res = min(r1, r2, r3)\n",
    "    \n",
    "    memo[(i,j)] = res \n",
    "    return res\n",
    "\n",
    "def MaxSquare(M):\n",
    "    memo={}\n",
    "    for i in range(len(M)):\n",
    "        for j in range(len(M)):\n",
    "            MaxSquareRec(i, j, memo)\n",
    "    curr_max = -inf\n",
    "    for i in memo:\n",
    "        curr_max = max(curr_max, memo[i])\n",
    "    \n",
    "    return curr_max\n",
    "\n",
    "\n",
    "M = [['B', 'W'], ['B', 'W']]\n",
    "print(pd.DataFrame(M))\n",
    "print(MaxSquare(M))\n",
    "\n",
    "M = [['B', 'W', 'W', 'W'], ['W', 'B', 'B', 'W'], ['B', 'B', 'B', 'W'], ['B', 'B', 'B', 'B']]\n",
    "print(pd.DataFrame(M))\n",
    "print(MaxSquare(M))\n",
    "\n",
    "M = [['B', 'W', 'W', 'W'], ['W', 'B', 'B', 'B'], ['B', 'B', 'B', 'B'], ['B', 'B', 'B', 'B']]\n",
    "print(pd.DataFrame(M))\n",
    "print(MaxSquare(M))\n"
   ]
  },
  {
   "cell_type": "markdown",
   "metadata": {},
   "source": [
    "#### 24)\n",
    "\n",
    "To solve this problem, I first compute a brute force solution by iterating over all possible left hand corners, $(i, j)$ of the submatrix ($0\\le i\\le m-1$ and $0\\le j\\le n-1$, where the dimensions of the input matrix are $m\\times n$) and iterating over all possible right hand corners, $(k, l)$, ($i\\le k\\le m-1$ and $j\\le l\\le n-1$).  I then iterate through this submatrix to compute the sum in this submatrix and keep a running variable which gives me the maximum sum submatrix. This algorithm has 6 nested loops and can be computed in $O(m^3 n^3)$ time and $O(1)$ space.\n",
    "\n",
    "A better algorithm is to save a precomputed matrix to avoid having to explicitly compute the sum for each sub matrix.  This will get rid of the 2 inner loops.  To do this, let $S$ be and $m \\times n$ matrix, where $S[i, j]$ contains the sum of the values in a rectangular region of the input matrix, where the upper left hand corner is the origin and the lower right hand corner is the point $(i,j)$.  This matrix can be computed in $O(mn)$ time with the following relation:\n",
    "\n",
    "\\begin{equation}\n",
    "S[i,j] = S[i-1,j]+S[i,j-1]-S[i-1,j-1]+A[i, j],\n",
    "\\end{equation}\n",
    "where $A$ is the input matrix.\n",
    "\n",
    "For a submatrix where the upper left hand corner is given by $(i, j)$ and the lower right hand corner is given by $(k, l)$, the sum within this matrix, $Sum(i, j, k, l)$ is given by:\n",
    "\\begin{equation}\n",
    "Sum(i, j, k, l) = S[k, l]-S[i-1,l]-S[k,j-1]+S[i-1, j-1].\n",
    "\\end{equation}\n",
    "Thus, to solve the problem, I can first precompute $S$ and then implement the modify the brute force solution to compute the sum for each submatrix in $O(1)$ time.  This results in an algorithm that overall takes $O(m^2 n^2)$ time and $O(mn)$ space."
   ]
  },
  {
   "cell_type": "code",
   "execution_count": 105,
   "metadata": {},
   "outputs": [
    {
     "name": "stdout",
     "output_type": "stream",
     "text": [
      "34\n",
      "23\n",
      "35\n"
     ]
    }
   ],
   "source": [
    "def BFMaxSum(A):\n",
    "\n",
    "    m = len(A)\n",
    "    n = len(A[0])\n",
    "\n",
    "\n",
    "\n",
    "    max_summ = -inf\n",
    "    for i in range(m):\n",
    "        for j in range(n):\n",
    "            for k in range(i, m):\n",
    "                for l in range(j, n):\n",
    "                    summ = 0\n",
    "                    for q in range(i, k+1):\n",
    "                        for r in range(j, l+1):\n",
    "                            summ += A[q][r]\n",
    "                    max_summ = max(summ, max_summ)\n",
    "    return max_summ\n",
    "    \n",
    "A = [[-5, -6, 3, 1, 0],[9, 7, 8, 3, 7], [-6, -2, -1, 2, -4], [-7, 5, 5, 2, -6], [3, 2, -9, -5, 1]]\n",
    "B = [[-5, -6, 3, 1, 0],[9, -7, 8, 3, 7], [-6, -2, -1, 2, -4], [-7, 5, 5, 2, -6], [3, 2, -9, -5, 1]]\n",
    "C = [[-5, -6, 3, 1, 0],[9, 7, 8, 3, 7], [-6, -2, -1, 2, -4], [-7, 5, 5, 2, -6], [3, 2, 9, -5, 1]]\n",
    "\n",
    "print(BFMaxSum(A))\n",
    "print(BFMaxSum(B))\n",
    "print(BFMaxSum(C))"
   ]
  },
  {
   "cell_type": "code",
   "execution_count": 106,
   "metadata": {},
   "outputs": [
    {
     "name": "stdout",
     "output_type": "stream",
     "text": [
      "34\n",
      "23\n",
      "35\n"
     ]
    }
   ],
   "source": [
    "def MaxSum(A):\n",
    "\n",
    "    m = len(A)\n",
    "    n = len(A[0])\n",
    "    \n",
    "    #### compute S matrix\n",
    "    S = [[0 for x in range(n)] for y in range(m)]\n",
    "    for j in range(n):\n",
    "        for i in range(m):\n",
    "            if (i-1 >= 0) and (j-1 >= 0):\n",
    "                S[i][j] = S[i-1][j] + S[i][j-1] - S[i-1][j-1] + A[i][j]\n",
    "            elif (i - 1 >= 0) and (j-1 < 0):\n",
    "                S[i][j] = S[i-1][j] + A[i][j]\n",
    "            elif (j - 1 >= 0) and (i-1 < 0):\n",
    "                S[i][j] = S[i][j-1] + A[i][j]\n",
    "            else:\n",
    "                S[i][j] = A[i][j]\n",
    "                \n",
    "\n",
    "    ### compute sum\n",
    "    max_summ = -inf\n",
    "    for i in range(m):\n",
    "        for j in range(n):\n",
    "            for k in range(i, m):\n",
    "                for l in range(j, n):\n",
    "                    if i-1 >= 0 and j-1 >= 0:\n",
    "                        summ = S[k][l] - S[i-1][l] - S[k][j-1] + S[i-1][j-1]\n",
    "                    elif i - 1 >= 0:\n",
    "                        summ = S[k][l] - S[i-1][l] \n",
    "                    elif j - 1 >= 0:\n",
    "                        summ = S[k][l] - S[k][j-1] \n",
    "                    else:\n",
    "                        summ = S[k][l] \n",
    "                    max_summ = max(summ, max_summ)\n",
    "\n",
    "    return max_summ\n",
    "\n",
    "\n",
    "print(MaxSum(A))\n",
    "print(MaxSum(B))\n",
    "print(MaxSum(C))   "
   ]
  }
 ],
 "metadata": {
  "kernelspec": {
   "display_name": "Python 3",
   "language": "python",
   "name": "python3"
  },
  "language_info": {
   "codemirror_mode": {
    "name": "ipython",
    "version": 3
   },
   "file_extension": ".py",
   "mimetype": "text/x-python",
   "name": "python",
   "nbconvert_exporter": "python",
   "pygments_lexer": "ipython3",
   "version": "3.6.5"
  }
 },
 "nbformat": 4,
 "nbformat_minor": 2
}
