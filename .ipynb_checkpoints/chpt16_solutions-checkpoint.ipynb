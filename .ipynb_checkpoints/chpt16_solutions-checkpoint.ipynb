{
 "cells": [
  {
   "cell_type": "markdown",
   "metadata": {},
   "source": [
    "#### 1)  \n",
    "\n",
    "The following exectutions will swap 2 numbers without extra space as the example input ($x=5, y=3$) shows.\n",
    "\n",
    "1) $x = x+y$;  ($x = 8, y=3$)\n",
    "\n",
    "2) $y=x-y$;  ($x=8, y=5$)\n",
    "\n",
    "3) $x=x-y$;  ($x=3, y=5$)\n"
   ]
  },
  {
   "cell_type": "code",
   "execution_count": 2,
   "metadata": {},
   "outputs": [
    {
     "name": "stdout",
     "output_type": "stream",
     "text": [
      "(7, 3)\n",
      "(3, 7)\n",
      "(3, 3)\n"
     ]
    }
   ],
   "source": [
    "def SwapNums(x,y):\n",
    "    x = x + y\n",
    "    y = x - y\n",
    "    x = x - y\n",
    "    return (x, y)\n",
    "\n",
    "print(SwapNums(3, 7))\n",
    "print(SwapNums(7, 3))\n",
    "print(SwapNums(3, 3))"
   ]
  },
  {
   "cell_type": "markdown",
   "metadata": {},
   "source": [
    "#### 2)\n",
    "\n",
    "To find the frequency of a given word in a book, there are several tactics we could use.  We could do a linear scan and keep a running count of the word in question ($O(n)$ time $O(1)$ space).  \n",
    "\n",
    "If we had to do this many times, we could first sort the book inplace ($O(n \\log n)$ time $O(1)$ space).  For every search of a word, we could then do a binary search to find the first occurence of the word and another binary search to find the last occurence of the word and subtract the 2 to find the count ($O(\\log n)$ time $O(1)$ space).\n",
    "\n",
    "The last method we could use if we had to do this several times is to do a linear scan through the book and save all the word counts in a hash table ($O(n)$ time $O(n)$ space).  To search for each given word we look up the word count in the hash table in $O(1)$ time."
   ]
  },
  {
   "cell_type": "markdown",
   "metadata": {},
   "source": [
    "#### 3)\n",
    "\n",
    "Let $p_1 = (x_1, y_1)$ and $p_2 = (x_2, y_2)$ be the points defining the first line and $p_1^\\star = (x_1^\\star, y_1^\\star)$ and $p_2^\\star = (x_2^\\star, y_2^\\star)$ be the points defining the second line.  It is not difficult to show that both lines are defined by the set of $(x, y)$ pairs such that $y = mx+b$, where $m = (y_2-y_1)/(x_2-x_1)$ and $b = y_2 - mx_2$.  Thus, the points cross where $y=y^\\star$, which occurs at:\n",
    "\\begin{equation}\n",
    "(x_{cross}, y_{cross}) =\\left (\\frac{b_2-b_1}{m_1 - m_2}, m_1\\left(\\frac{b_2-b_1}{m_1 - m_2}\\right) +b_1 \\right).\n",
    "\\end{equation}\n",
    "Note that the lines never cross if the are parallel, ($m_1 = m_2$), so the infinities due to the $m_1 - m_2$ terms in the denominators are avoided.  The following algorithm computes the cross over points."
   ]
  },
  {
   "cell_type": "code",
   "execution_count": 19,
   "metadata": {},
   "outputs": [
    {
     "name": "stdout",
     "output_type": "stream",
     "text": [
      "(0.0, 0.0)\n",
      "Never crosses\n",
      "(-0.2857142857142854, 0.8571428571428573)\n"
     ]
    }
   ],
   "source": [
    "def CrossOver(p1, p2, p1_2, p2_2):\n",
    "    m1 = (p1[1] - p2[1])/(p1[0] - p2[0])\n",
    "    m2 = (p1_2[1] - p2_2[1])/(p1_2[0] - p2_2[0])\n",
    "    \n",
    "    if m1 == m2:\n",
    "        return \"Never crosses\"\n",
    "    \n",
    "    b1 = p2[1]-m1*p2[0]\n",
    "    b2 = p2_2[1]-m2*p2_2[0]\n",
    "    \n",
    "    return ((b2-b1)/(m1-m2), m1*((b2-b1)/(m1-m2))+b1)\n",
    "\n",
    "print(CrossOver((0, 0), (1, 1), (0, 0), (-1, 1)))\n",
    "print(CrossOver((0, 0), (1, 1), (0, 2), (1, 3)))\n",
    "print(CrossOver((0, 1), (2, 2), (1, 3), (4, 8)))"
   ]
  },
  {
   "cell_type": "markdown",
   "metadata": {},
   "source": [
    "#### 4)\n",
    "\n",
    "Checking for a tic tac toe winner is simply a matter of checking the 3 rows, the 3 columns and the 2 diagonals.  I assume that the input is a valid tic tac toe board configuration."
   ]
  },
  {
   "cell_type": "code",
   "execution_count": 184,
   "metadata": {},
   "outputs": [
    {
     "name": "stdout",
     "output_type": "stream",
     "text": [
      "X  is the winner.\n",
      "O  is the winner.\n",
      "There is no winner.\n"
     ]
    }
   ],
   "source": [
    "def TicTacToe(Board):\n",
    "    \n",
    "    ### check rows\n",
    "    for i in [0, 1, 2]:\n",
    "        if Board[i][0] == Board[i][1] == Board[i][2]:\n",
    "            print(Board[i][0], ' is the winner.')\n",
    "            return \n",
    "    \n",
    "    ### check columns\n",
    "    for j in [0, 1, 2]:\n",
    "        if Board[0][j] == Board[1][j] == Board[2][j]:\n",
    "            print(Board[0][j], ' is the winner.')\n",
    "            return\n",
    "            \n",
    "    ### check diagonals\n",
    "    if Board[0][0] == Board[1][1] == Board[2][2]:\n",
    "        print(Board[0][0], ' is the winner.')\n",
    "        return\n",
    "        \n",
    "    if Board[0][2] == Board[1][1] == Board[2][0]:\n",
    "        print(Board[0][2], ' is the winner.')\n",
    "        return\n",
    "        \n",
    "    print('There is no winner.')\n",
    "    \n",
    "TicTacToe([['O', 'X', 'O'], [None, 'X', None], [None, 'X', None]])\n",
    "TicTacToe([['O', 'None', 'X'], [None, 'O', 'X'], ['X', None, 'O']])\n",
    "TicTacToe([['O', 'X', 'O'], ['X', 'O', 'X'], ['X', 'O', 'X']])"
   ]
  },
  {
   "cell_type": "markdown",
   "metadata": {},
   "source": [
    "#### 5) \n",
    "\n",
    "To count the number of zeros at the end of a factorial, I must simply count the number of pairs of $(2, 5)$ in the prime factorization of $n!$ (equivalently $\\min(\\mathrm{count_2}, \\mathrm{count_5})$).  This can be done by iterating over $i=1, 2, \\ldots, n$ and counting the number of 2s and 5s that evenly divide $i$ in a while loop.  The time complexity of this algorithm is $O(n\\log n)$.  The factor of $n$ comes from looping over $i$, and the $\\log n$ comes from the while loop which continuously divides by 5 (2) to count the factors of 5 (2) in $i$.\n",
    "\n",
    "Note, that I could simply have computed $n!$ first and then computed the number of 2s and 5s in this result.  This would take $O(n)$ to compute the factorial, then O($\\log n!$) = O($n \\log n$) (Stirling), and thus the time complexity would be the same.  However, For large values of $n$ explicitly computing $n!$ could lead to overflow."
   ]
  },
  {
   "cell_type": "code",
   "execution_count": 50,
   "metadata": {},
   "outputs": [
    {
     "name": "stdout",
     "output_type": "stream",
     "text": [
      "0 1\n",
      "0 1\n",
      "0 2\n",
      "0 6\n",
      "0 24\n",
      "1 120\n",
      "1 720\n",
      "1 5040\n",
      "1 40320\n",
      "1 362880\n",
      "2 3628800\n",
      "2 39916800\n",
      "2 479001600\n",
      "2 6227020800\n",
      "2 87178291200\n",
      "3 1307674368000\n",
      "3 20922789888000\n",
      "3 355687428096000\n",
      "3 6402373705728000\n",
      "3 121645100408832000\n",
      "4 2432902008176640000\n",
      "4 51090942171709440000\n",
      "4 1124000727777607680000\n",
      "4 25852016738884976640000\n",
      "4 620448401733239439360000\n",
      "6 15511210043330985984000000\n",
      "6 403291461126605635584000000\n",
      "6 10888869450418352160768000000\n",
      "6 304888344611713860501504000000\n",
      "6 8841761993739701954543616000000\n"
     ]
    }
   ],
   "source": [
    "def CountZeros(n):\n",
    "    \n",
    "    cnt5 = 0\n",
    "    cnt2 = 0\n",
    "    for i in range(1, n+1):\n",
    "        i2 = i\n",
    "        \n",
    "        while i > 0:\n",
    "            if i % 5 == 0:\n",
    "                cnt5 += 1\n",
    "                i //= 5\n",
    "            else:\n",
    "                break\n",
    "       \n",
    "        while i2 > 0:\n",
    "            if i2 % 2 == 0:\n",
    "                cnt2 += 1\n",
    "                i2 //= 2\n",
    "            else:\n",
    "                break\n",
    "    \n",
    "    return min(cnt5, cnt2)\n",
    "\n",
    "for i in range(30):\n",
    "    print(CountZeros(i), factorial(i))\n",
    "\n"
   ]
  },
  {
   "cell_type": "markdown",
   "metadata": {},
   "source": [
    "#### 6) \n",
    "\n",
    "This probem can obviously be done in $O(mn)$ (where $m$, $n$ are the sizes of the arrays) by considering all $(i,j)$ pairs in both arrays.  However, there is a faster method.  If I sort one of the arrays I can then perform a modified binary search to, given an input value $x$, that outputs the value in the array, $y$, with the smallest value of $|x-y|$.  Therefore if I sort the smaller array first $O(m \\log m)$, I can then iterate through the bigger array, performing this modified binary search each time to find the best pair $O(n \\log m)$.  The overall time complexity is thus $O(n \\log m)$.\n",
    "\n",
    "The modified binary search is simply to:\n",
    "\n",
    "1) if A[mid] = x: return A[mid]\n",
    "\n",
    "2) if |A[mid]-x| > |A[mid+1]-x|: look right\n",
    "\n",
    "3) else look left.\n",
    "\n",
    "Note that, in contrast to the ordinary BS, when looking right or looking left, I include mid in that search.  That is because, mid could very well be the position of the minimal absolute difference (in normal BS it is not, because we are looking for an exact match).\n",
    "\n",
    "The base case is when there are 1 or 2 elements in the search range left.  Note that this assumes that all elements in the search array are distinct.  If they are not, as a preprocessing step I could, in linear time with a hash table, make this so."
   ]
  },
  {
   "cell_type": "code",
   "execution_count": 193,
   "metadata": {},
   "outputs": [
    {
     "name": "stdout",
     "output_type": "stream",
     "text": [
      "(12, 11)\n",
      "(11, 8)\n"
     ]
    }
   ],
   "source": [
    "from math import inf\n",
    "\n",
    "def ModifiedBS(i, j, A, x):\n",
    "    if i + 1 == j:\n",
    "        if abs(A[i]-x) < abs(A[j]-x):\n",
    "            return A[i]\n",
    "        else:\n",
    "            return A[j]\n",
    "    \n",
    "    mid = (i+j)//2\n",
    "        \n",
    "    if A[mid] == x:\n",
    "        return A[mid]\n",
    "    \n",
    "    if abs(A[mid]-x) > abs(A[mid+1]-x):\n",
    "        return ModifiedBS(mid, j, A, x)\n",
    "    \n",
    "    else:\n",
    "        return ModifiedBS(i, mid, A, x)\n",
    "    \n",
    "def FindPair(A, B):\n",
    "    \n",
    "    if len(A) < len(B):\n",
    "        A, B = B, A\n",
    "        \n",
    "    B.sort()\n",
    "    curr_min = inf\n",
    "    current_min_pair = (None, None)\n",
    "        \n",
    "    for x in A:\n",
    "        partner = ModifiedBS(0, len(B)-1, B, x)\n",
    "        diff = abs(partner-x)\n",
    "        if diff < curr_min:\n",
    "            curr_min = diff\n",
    "            current_min_pair = (x, partner)\n",
    "    return current_min_pair\n",
    "\n",
    "print(FindPair([1, 2, 11, 15], [4, 12, 19, 23, 127, 235]))\n",
    "print(FindPair([1, 3, 15, 11, 2], [23, 127, 235, 19, 8]))"
   ]
  },
  {
   "cell_type": "markdown",
   "metadata": {},
   "source": [
    "#### 7) \n",
    "\n",
    "For an input, $(x, y)$, let $d\\equiv x-y$.  Not that if $x>y$, $d >0$, if $x<y$, $d <0$, and if $x=y$, $d =0$. I can turn this difference into the appropriate 0 or 1 with $(1/2)(d/|d|+1)$.  In the case that $x=y$, I will get a divide by zero error.  I handle this with a try, except clause."
   ]
  },
  {
   "cell_type": "code",
   "execution_count": 194,
   "metadata": {},
   "outputs": [
    {
     "name": "stdout",
     "output_type": "stream",
     "text": [
      "5\n",
      "5\n",
      "5\n"
     ]
    }
   ],
   "source": [
    "def MaxWithoutComps(tup):\n",
    "    diff = tup[1]-tup[0]\n",
    "    \n",
    "    try:\n",
    "        ind = int((1/2)*(diff/abs(diff)+1))\n",
    "        return tup[ind]\n",
    "    except:\n",
    "        return tup[0]\n",
    "    \n",
    "    return \n",
    "\n",
    "\n",
    "  \n",
    "print(MinWithoutComps((3, 5)))\n",
    "print(MinWithoutComps((5, 3)))\n",
    "print(MinWithoutComps((5, 5)))"
   ]
  },
  {
   "cell_type": "markdown",
   "metadata": {},
   "source": [
    "#### 8)\n",
    "\n",
    "To print out the numbers, note that in each segment of the number, the pronunciation is explicitly pronouncing a 3 digit number or less (the numbers 1 through 999), then either a \"Trillion\", \"Billion\", \"Million\" or \"Thousand\".  For example, the number, 123,456,789, is pronounced as \"One Hundred Twenty Three\", then \"Million\", then \"Four Hundred Fifty Six\", then \"Thousand\", then \"Seven Hundred Eighty Nine\".\n",
    "\n",
    "Therfore I must implement a function that correctly pronounces the numbers 1 - 999.  Pronouncing the entire number is then a matter of iterating through the number from left to right in chunks of three, pronouncing the 3 digit number with this function and then pronouncing the corresponding magnitude (e.g., \"Thousand\").  I implement this recursively below with some dictionaries.  "
   ]
  },
  {
   "cell_type": "code",
   "execution_count": 115,
   "metadata": {},
   "outputs": [
    {
     "name": "stdout",
     "output_type": "stream",
     "text": [
      "One-Hundred-Twenty-Three\n",
      "Twenty-Seven\n",
      "Eleven\n",
      "One\n",
      "One-Thousand-\n",
      "One-Thousand-Twenty-Three\n",
      "Nineteen-Thousand-Twenty-Five\n",
      "One-Hundred-Twenty-Three-Million-One-Thousand-One-Hundred-Twenty-Five\n",
      "One-Hundred-Twenty-Three-Million-One-Thousand-One-Hundred-Twenty-Five\n",
      "Nine-Hundred-Nine-Billion-Twelve-Million-One-Hundred-Twenty-Three-Thousand-Four-Hundred-Fifty-Six\n"
     ]
    }
   ],
   "source": [
    "Mag = {12: 'Trillion', 9: 'Billion', 6: 'Million', 3: 'Thousand'}\n",
    "\n",
    "TensDigs = {'2': 'Twenty', '3': 'Thirty', '4':'Fourty', '5':'Fifty', '6':'Sixty', '7':'Seventy', '8':'Eighty',  \n",
    "            '9':'Ninety'}\n",
    "\n",
    "One_through_nineteen = {'1':'One', '2':'Two', '3':'Three', '4':'Four', '5':'Five', '6':'Six', '7':'Seven', \n",
    "                        '8':'Eight', '9':'Nine', '10':'Ten', '11':'Eleven', '12':'Twelve', '13':'Thirteen', \n",
    "                        '14':'Fourteen', '15':'Fifteen', '16': 'SixTeen', '17':'Seventeen', '18':'Eighteen', \n",
    "                        '19':'Nineteen'}\n",
    "\n",
    "def PrintNum(n):\n",
    "    if len(n) == 3:\n",
    "        return Print100s(n)\n",
    "    \n",
    "    if len(n) % 3 == 0:\n",
    "        return Print100s(n[0:3])+'-'+Mag[len(n)-3]+'-'+PrintNum(n[3:])\n",
    "    \n",
    "    if len(n) % 3 == 1:\n",
    "        return Print100s('00'+n[0])+'-'+Mag[len(n)-1]+'-'+PrintNum(n[1:])\n",
    "    \n",
    "    if len(n) % 3 == 2:\n",
    "        return Print100s('0'+n[0:2])+'-'+Mag[len(n)-2]+'-'+PrintNum(n[2:])\n",
    "    \n",
    "def Print100s(n):\n",
    "    \n",
    "    if n == '000': \n",
    "        return ''\n",
    "    \n",
    "    if n[0] == '0' and n[1] == '0':\n",
    "        return One_through_nineteen[n[2]]\n",
    "    \n",
    "    if n[0] == '0':\n",
    "        if n[1] == '1':\n",
    "            return One_through_nineteen[n[1:]]\n",
    "        else:\n",
    "            if n[2] == '0':\n",
    "                return TensDigs[n[1]]\n",
    "            else:\n",
    "                return TensDigs[n[1]]+'-'+One_through_nineteen[n[2]]\n",
    "    \n",
    "    return One_through_nineteen[n[0]] + '-Hundred-' + Print100s('0'+n[1:])\n",
    "\n",
    "print(PrintNum('123'))\n",
    "print(PrintNum('027'))\n",
    "print(PrintNum('011'))\n",
    "print(PrintNum('001'))\n",
    "\n",
    "print(PrintNum('1000'))\n",
    "print(PrintNum('1023'))\n",
    "print(PrintNum('19025'))\n",
    "print(PrintNum('123001125'))\n",
    "print(PrintNum('123001125'))\n",
    "print(PrintNum('909012123456'))"
   ]
  },
  {
   "cell_type": "markdown",
   "metadata": {},
   "source": [
    "#### 9)\n",
    "\n",
    "To multiply 2 numbers, I divide the cases into 3:\n",
    "\n",
    "1) If at least one argumnent is 0, return 0 immediately.\n",
    "\n",
    "2) If exactly one argument is less than zero (say, x), add this argument up y times.\n",
    "\n",
    "3) Otherwise, take the absolute value of both arguments and add up the larger one (say, abs(x)) abs(y) times.\n",
    "\n",
    "To subtract, I simply perform x + Multiply(-1, y).\n",
    "\n",
    "To divide, I must find the value $k$ (an integer) such that $x = ky$.  To do this, I take the absolute value of both arguments and increment $k$ starting from 1 until this equality is found.  To get the sign right, if exactly one of the arguments is less than 0, I multiply this $k$ with a minus 1. "
   ]
  },
  {
   "cell_type": "code",
   "execution_count": 66,
   "metadata": {},
   "outputs": [
    {
     "name": "stdout",
     "output_type": "stream",
     "text": [
      "0\n",
      "-10\n",
      "10\n",
      "-10\n"
     ]
    }
   ],
   "source": [
    "def Multiply(x, y):\n",
    "    if x == 0 or y == 0:\n",
    "        return 0\n",
    "    \n",
    "    if (x < 0 and y > 0) or (x > 0 and y < 0):\n",
    "        res = 0\n",
    "        for _ in range(1, max(x, y)+1):\n",
    "            res += min(x, y)\n",
    "    else:\n",
    "        res = 0\n",
    "        for _ in range(1, min(abs(x), abs(y))+1):\n",
    "            res += max(abs(x), abs(y))\n",
    "            \n",
    "    return res\n",
    "    \n",
    "print(Multiply(5, 0))\n",
    "print(Multiply(-5, 2))\n",
    "print(Multiply(-5, -2))\n",
    "print(Multiply(5, -2))"
   ]
  },
  {
   "cell_type": "code",
   "execution_count": 81,
   "metadata": {},
   "outputs": [
    {
     "name": "stdout",
     "output_type": "stream",
     "text": [
      "5\n",
      "-7\n",
      "-3\n",
      "7\n",
      "5\n",
      "-5\n",
      "-5\n",
      "5\n",
      "0\n",
      "1\n"
     ]
    }
   ],
   "source": [
    "def Subtract(x, y):\n",
    "    return x + Multiply(-1, y)\n",
    "\n",
    "\n",
    "def Divide(x, y):\n",
    "    if x == 0:\n",
    "        return 0\n",
    "    \n",
    "    xx = abs(x)\n",
    "    yy = abs(y)\n",
    "\n",
    "    ### find value after division\n",
    "    k = 1 \n",
    "    while xx != k*yy:\n",
    "        k += 1\n",
    "\n",
    "    if (x < 0 and y < 0) or (x > 0 and y > 0):\n",
    "        return k\n",
    "    else:\n",
    "        return Multiply(k, -1)\n",
    "\n",
    "    \n",
    "print(Subtract(5, 0))\n",
    "print(Subtract(-5, 2))\n",
    "print(Subtract(-5, -2))\n",
    "print(Subtract(5, -2))\n",
    "\n",
    "print(Divide(100, 20))\n",
    "print(Divide(-100, 20))\n",
    "print(Divide(100, -20))\n",
    "print(Divide(-100, -20))\n",
    "print(Divide(0, 5))\n",
    "print(Divide(5, 5))"
   ]
  },
  {
   "cell_type": "markdown",
   "metadata": {},
   "source": [
    "#### 10)\n",
    "\n",
    "To do this problem, I could obviously do a nested loop where I iterate through a year array, then iterate through the persons array to see if that person was alive in that year.  If so, add one to the count for that year.  I would then need to do.  A linear scan to get the max year.  This method would take $O(Y|L|)$, where $Y$ is the span of years and $|L|$ is the size of the input list. \n",
    "\n",
    "A faster method is to scan through the input $O(|L|)$ and keep a count of the number of births each year in another array.  I can then scan through this array to get the cumulative number of births $O(Y)$.  I do the same for the deaths and then subtract the 2 cumulative arrays.  Finally I do a linear scan through to find the year with the max population.  Overall, this will take $O(Y+|L|)$ time and $O(Y)$ space."
   ]
  },
  {
   "cell_type": "code",
   "execution_count": 113,
   "metadata": {},
   "outputs": [
    {
     "data": {
      "text/plain": [
       "(1938, 7)"
      ]
     },
     "execution_count": 113,
     "metadata": {},
     "output_type": "execute_result"
    }
   ],
   "source": [
    "def CountPop(L):\n",
    "    \n",
    "    ### get cumulative birth counts\n",
    "    births = [0]*101\n",
    "    \n",
    "    #get birth counts for each year\n",
    "    for i in range (len(L)):\n",
    "        yr = L[i][0]\n",
    "        births[yr - 1900] += 1\n",
    "    \n",
    "    for i in range (1, len(births)):\n",
    "        births[i] = births[i] + births[i-1]\n",
    "    \n",
    "    \n",
    "    ### get cumulative death counts\n",
    "    deaths = [0]*101\n",
    "    \n",
    "    # get death counts for each year\n",
    "    for i in range (len(L)):\n",
    "        yr = L[i][1]\n",
    "        if yr + 1 <= 2000:\n",
    "            deaths[yr + 1 - 1900] += 1\n",
    "    \n",
    "    for i in range (1, len(deaths)):\n",
    "        deaths[i] = deaths[i] + deaths[i-1]\n",
    "        \n",
    "    \n",
    "    ### subtract the 2\n",
    "    for i in range (1, len(deaths)):\n",
    "        births[i] = births[i] - deaths[i]\n",
    "        \n",
    "        \n",
    "    curr_max = births[0]\n",
    "    curr_max_year = 1900\n",
    "    for i in range(1, len(births)):\n",
    "        if births[i] > curr_max:\n",
    "            curr_max = births[i]\n",
    "            curr_max_year = i+1900\n",
    "            \n",
    "    return (curr_max_year, curr_max)\n",
    "\n",
    "L = [(1920, 1939), (1911, 1944), (1920, 1955), (1938, 1939), (1937, 1940), (1910, 1999), (1921, 1955)]\n",
    "\n",
    "CountPop(L)"
   ]
  },
  {
   "cell_type": "markdown",
   "metadata": {},
   "source": [
    "#### 11)\n",
    "\n",
    "To compute all possible board lengths, I iterate the number of small boards $n_s$ from 0 to $k$ (so that the number of long boards goes from $k$ to 0).  At each iteration, I compute the length of the diving board ($s\\cdot n_s+l\\cdot(k-n_s)$) and store the length in a hash table. Storing the length in a hash table might be necessary if two pairs of $(n_s, n_l)$ give the same length.  I return the hash table as a list.  The time complexity is $O(k)$ and the space complexity is O($k$)."
   ]
  },
  {
   "cell_type": "code",
   "execution_count": 96,
   "metadata": {},
   "outputs": [
    {
     "data": {
      "text/plain": [
       "[60, 58, 56, 54, 52, 50, 48, 46, 44, 42, 40]"
      ]
     },
     "execution_count": 96,
     "metadata": {},
     "output_type": "execute_result"
    }
   ],
   "source": [
    "from math import floor\n",
    "\n",
    "def Lengths(k, s, l):\n",
    "    \n",
    "    lengths = {}\n",
    "    for ns in range(0, k+1):\n",
    "        lengths[s*ns + l*(k-ns)] = True\n",
    "    \n",
    "    return list(lengths)\n",
    "\n",
    "Lengths(10, 4, 6)"
   ]
  },
  {
   "cell_type": "markdown",
   "metadata": {},
   "source": [
    "#### 13)\n",
    "\n",
    "I'm not quite sure what this problem means, so I assume that we are looking for either a vertical line where square 1 is to the left of it and square 2 is to the right, or a horizontal line where square 1 is below the line and square 2 is above.  If the squares are not seperable in either directions, I print \"not seperable\"."
   ]
  },
  {
   "cell_type": "code",
   "execution_count": 204,
   "metadata": {},
   "outputs": [],
   "source": [
    "### assume data comes in the form of:\n",
    "##[(x1_1, y1_1)(x2_1, y2_1), (x1_2, y1_2), (x2_2, y2_2)]\n",
    "## where 1st 2 points correspond to diagonal points in square 1 and \n",
    "### 2nd 2 points correspond to diagonal points in square 2 \n",
    "\n",
    "def GetLine(squares):\n",
    "\n",
    "    u1 = max(squares[0][1], squares[1][1])\n",
    "    d1 = min(squares[0][1], squares[1][1])\n",
    "\n",
    "    u2 = max(squares[2][1], squares[3][1])\n",
    "    d2 = min(squares[2][1], squares[3][1])\n",
    "\n",
    "    r1 = max(squares[0][0], squares[1][0])\n",
    "    l1 = min(squares[0][0], squares[1][0])\n",
    "\n",
    "    r2 = max(squares[2][0], squares[3][0])\n",
    "    l2 = min(squares[2][0], squares[3][0])\n",
    "\n",
    "    if (u1 < d2 and u2 > d1):\n",
    "        y = (d2 - u1)/2\n",
    "        print('seperating line: Horizontal line at y = ', y)\n",
    "\n",
    "    elif (u1 > d2 and u2 < d1):\n",
    "        y = (d1 - u2)/2\n",
    "        print('seperating line: Horizontal line at y = ', y)\n",
    "\n",
    "    elif (r1 < l2 and r2 > l1):\n",
    "        x = (l2-r1)/2\n",
    "        print('seperating line: Vertical line at x = ', x)\n",
    "\n",
    "    elif (r1 > l2 and r2 < l1):\n",
    "        x = (l1-r2)/2\n",
    "        print('seperating line: Vertical line at x = ', x)\n",
    "\n",
    "    else:\n",
    "        print(\"not seperable\")"
   ]
  },
  {
   "cell_type": "markdown",
   "metadata": {},
   "source": [
    "#### 14)\n",
    "\n",
    "To solve this problem I first compute the slopes and intercepts for all lines passing through all pairs of points.  I store a count of these in a hash table.  I can then iterate through this hash table to find the max count of points.  The algorithm will take $O(n^2)$ and $O(n^2)$ space.\n",
    "\n",
    "I assume that the data comes as an array with each element containing the position of point $i$ in a tuple, $(x_i, y_i)$."
   ]
  },
  {
   "cell_type": "code",
   "execution_count": null,
   "metadata": {},
   "outputs": [],
   "source": [
    "from math import inf\n",
    "\n",
    "def BestLine(D):\n",
    "    \n",
    "    ### hash all lines\n",
    "    h = {}\n",
    "    for i in range(len(D)-1):\n",
    "        for j in range(i, len(D)):\n",
    "            m = (D[i][1]-D[j][1])/(D[i][0]-D[j][0])\n",
    "            b = D[i][1] - m*D[i][0]\n",
    "            if (m, b) in h:\n",
    "                h[(m, b)] += 1\n",
    "            else:\n",
    "                h[(m, b)] += 0\n",
    "                \n",
    "    ### get most popular line\n",
    "    curr_max_line = None\n",
    "    curr_max = -inf\n",
    "    for line in h:\n",
    "        if h[line] > curr_max:\n",
    "            curr_max = h[line]\n",
    "            curr_max_line = line\n",
    "    \n",
    "    return curr_max_line\n",
    "            \n",
    "        "
   ]
  },
  {
   "cell_type": "markdown",
   "metadata": {},
   "source": [
    "#### 15)\n",
    "\n",
    "This problem is somewhat straightforward.  I first iterate through to get all hits and counts of colors in both strings if not a hit.  I then determine the pseudo count number and return the result."
   ]
  },
  {
   "cell_type": "code",
   "execution_count": 203,
   "metadata": {},
   "outputs": [
    {
     "name": "stdout",
     "output_type": "stream",
     "text": [
      "(1, 1)\n",
      "(4, 0)\n",
      "(0, 4)\n"
     ]
    }
   ],
   "source": [
    "def MasterMind(guess, solution):\n",
    "    \n",
    "    def color_to_ind(c):\n",
    "        if c == 'R':\n",
    "            return 0\n",
    "        if c == 'G':\n",
    "            return 1\n",
    "        if c == 'B':\n",
    "            return 2\n",
    "        if c == 'Y':\n",
    "            return 3\n",
    "  \n",
    "    sol_arr = [0, 0, 0, 0]\n",
    "    guess_arr = [0, 0, 0, 0]\n",
    "    hit_count = 0\n",
    "    for i in [0, 1, 2, 3]:\n",
    "        if guess[i] == solution[i]:\n",
    "            hit_count += 1\n",
    "            continue\n",
    "        else:\n",
    "            guess_arr[color_to_ind(guess[i])] += 1\n",
    "            sol_arr[color_to_ind(solution[i])] += 1\n",
    "    \n",
    "    psuedo_count = 0 \n",
    "    for i in [0, 1, 2, 3]:\n",
    "        if guess_arr[i] > 0 and sol_arr[i] > 0:\n",
    "            psuedo_count += min(guess_arr[i], sol_arr[i])\n",
    "    \n",
    "    return (hit_count, psuedo_count)\n",
    "            \n",
    "            \n",
    "print(MasterMind('GGRR', 'RGBY'))\n",
    "print(MasterMind('GGRR', 'GGRR'))\n",
    "print(MasterMind('GBRY', 'YRBG'))"
   ]
  },
  {
   "cell_type": "markdown",
   "metadata": {},
   "source": [
    "#### 16)\n",
    "\n",
    "To solve this problem, I can first copy the array to a new array and sort this array.  I then iterate with two pointers, one on the original array and one on the sorted array from left to right.  The first time these 2 pointers disagree is the start of the segment.  I do the same thing iterating from right to left to get the end of the segment.  This algorithm will take $O(n\\log n)$ time and $O(n)$ auxilliary space."
   ]
  },
  {
   "cell_type": "code",
   "execution_count": 195,
   "metadata": {},
   "outputs": [
    {
     "data": {
      "text/plain": [
       "(3, 9)"
      ]
     },
     "execution_count": 195,
     "metadata": {},
     "output_type": "execute_result"
    }
   ],
   "source": [
    "def SubSort(A):\n",
    "    B = A.copy()\n",
    "    B.sort()\n",
    "    \n",
    "    ### return a tuple of Nones if already completely sorted\n",
    "    m, n, = None, None\n",
    "    \n",
    "    for i in range(len(A)):\n",
    "        if A[i] != B[i]:\n",
    "            m = i\n",
    "            break\n",
    "    \n",
    "    k = len(A) - 1\n",
    "    for _ in range(len(A)):\n",
    "        if A[k] != B[k]:\n",
    "            n = k\n",
    "            break\n",
    "        k -= 1\n",
    "        \n",
    "    return (m, n)\n",
    "\n",
    "A = [1, 2, 4, 7, 10, 11, 7, 12, 6, 7, 16, 18, 19]\n",
    "SubSort(A)"
   ]
  },
  {
   "cell_type": "markdown",
   "metadata": {},
   "source": [
    "#### 17)\n",
    "\n",
    "There are a few ways to approach this problem.  The fastest is to use dynamic programing.  Let $LS(i)$ be the longest sequence that ends exactly at $i$ (and starts at some point earlier which maximizes this sum).  Note that $LS(i)$ satisfies the recurrence:\n",
    "\n",
    "\\begin{equation}\n",
    "  LS(i)=\\begin{cases}\n",
    "    A[i] & \\text{for $i=0$}\\\\\n",
    "    \\max \\{A[i], A[i]+ LS(i-1)\\} & \\text{otherwise}.\n",
    "  \\end{cases}\n",
    "\\end{equation}\n",
    "\n",
    "To find the maximal sum sequence, I can therefore run this function for all values of $i$ ($0, \\ldots len(A)-1$), fill in a memo table and find the max in the memo table.  This will take $O(n)$ time (since there are at most $n$ distinct sub-problems and since finding the max also only takes a linear scan).  It will also take $O(n)$ space for the memo table.  I implement this program in a top down approach below."
   ]
  },
  {
   "cell_type": "code",
   "execution_count": null,
   "metadata": {},
   "outputs": [],
   "source": [
    "def LS(i, A, memo):\n",
    "    \n",
    "    ### check memo\n",
    "    if i in memo:\n",
    "        return memo[i]\n",
    "    \n",
    "    ### base\n",
    "    if i == 0:\n",
    "        memo[0] = A[0]\n",
    "        return A[0]\n",
    "\n",
    "    ### recursion and memoize\n",
    "    res = max(A[i], A[i]+LS(i-1, A, memo))\n",
    "    memo[i] = res\n",
    "    \n",
    "    return res\n",
    "\n",
    "def LargestSeq(A):\n",
    "    memo={}\n",
    "    \n",
    "    ### fill memo table\n",
    "    for i in range(len(A)):\n",
    "        LS(i, A, memo)\n",
    "        \n",
    "    ### get max of memo table\n",
    "    curr_max = -inf\n",
    "    for results in memo:\n",
    "        if memo[results] > curr_max:\n",
    "            curr_max = memo[results]\n",
    "\n",
    "    return curr_max\n",
    "        \n",
    "LargestSeq([2, -8, 3, -2, 4, -10])"
   ]
  },
  {
   "cell_type": "markdown",
   "metadata": {},
   "source": [
    "This algorithm can also be implemented iteratively and with only using $O(1)$ by keeping a running current maximum.  This code is much more compact and will run much faster due to not having the overhead of recursion."
   ]
  },
  {
   "cell_type": "code",
   "execution_count": 335,
   "metadata": {},
   "outputs": [
    {
     "data": {
      "text/plain": [
       "5"
      ]
     },
     "execution_count": 335,
     "metadata": {},
     "output_type": "execute_result"
    }
   ],
   "source": [
    "def LargestSeq2(A):\n",
    "    \n",
    "    curr_max = current = A[0]\n",
    "    \n",
    "    for i in range(1, len(A)):\n",
    "        current = max(A[i], A[i] + current)\n",
    "        curr_max = max(curr_max, current)\n",
    "\n",
    "    return curr_max\n",
    "        \n",
    "                \n",
    "LargestSeq2([2, -8, 3, -2, 4, -10])       "
   ]
  },
  {
   "cell_type": "markdown",
   "metadata": {},
   "source": [
    "#### 18)"
   ]
  },
  {
   "cell_type": "code",
   "execution_count": 388,
   "metadata": {},
   "outputs": [
    {
     "data": {
      "text/plain": [
       "True"
      ]
     },
     "execution_count": 388,
     "metadata": {},
     "output_type": "execute_result"
    }
   ],
   "source": [
    "def Matches(val, pat):\n",
    "    \n",
    "    na = nb = 0\n",
    "    for char in pat:\n",
    "        if char == 'a': na += 1\n",
    "        else: nb += 1\n",
    "            \n",
    "    is_valid = False\n",
    "    for len_a in range(1, len(val)+1):\n",
    "        len_b = (len(val)-na*len_a)//nb\n",
    "        \n",
    "        val_ind = len_a \n",
    "        pat_ind = 1\n",
    "        \n",
    "        a = val[0:val_ind]\n",
    "        b = None\n",
    "        \n",
    "        \n",
    "        while True:\n",
    "            if pat[pat_ind] == 'a':\n",
    "                if val[val_ind:val_ind + len_a] == a:\n",
    "                    pat_ind += 1\n",
    "                    val_ind += len_a\n",
    "                    continue\n",
    "                else:\n",
    "                    break\n",
    "            elif pat[i] == 'b':\n",
    "                if b == None:\n",
    "                    b = val[val_ind:val_ind + len_b]\n",
    "                    pat_ind += 1\n",
    "                    val_ind += len_b\n",
    "                    continue\n",
    "                else:\n",
    "                    if val[val_ind:val_ind + len_b] == b:\n",
    "                        pat_ind += 1\n",
    "                        val_ind += len_b\n",
    "                        continue\n",
    "                    else:\n",
    "                        break\n",
    "    \n",
    "        is_valid = True\n",
    "        break\n",
    "    \n",
    "    return is_valid\n",
    "                    \n",
    "Matches('catcatgocatgo', 'aabab')"
   ]
  },
  {
   "cell_type": "markdown",
   "metadata": {},
   "source": [
    "#### 19)\n",
    "\n",
    "Note that give an $(i,j)$ location of a $0$, I can find the size of the whole pond containing this zero recursively by first marking $Mat[i][j]$ with an 'X' to denote that I've already looked here and by computing \n",
    "\n",
    "\\begin{equation}\n",
    "1 + PS(i, j-1) + PS(i, j+1) + PS(i-1, j) + PS(i+1, j)+ PS(i-1, j-1) + PS(i-1, j+1)+ PS(i+1, j-1)+ PS(i+1, j+1),\n",
    "\\end{equation}\n",
    "(where $PS(\\cdot)$ stands for pond size).\n",
    "\n",
    "I only include $(k, l)$ pairs in this sum such that the pair is in the matrix bounds $(0 \\le k \\le len(Mat)-1)~\\mathrm{AND}~(0 \\le l \\le len(Mat[0])-1)$ and such that $Mat[k][l] = 0$ (i.e $Mat[k][l]$ is part of the pond and it hasn't been explored yet).\n",
    "\n",
    "To print out all pond sizes I can iterate over all cells in the matrix and invoke this recursive function if the matrix value at that cell is equal to 0."
   ]
  },
  {
   "cell_type": "code",
   "execution_count": 347,
   "metadata": {},
   "outputs": [
    {
     "name": "stdout",
     "output_type": "stream",
     "text": [
      "2\n",
      "4\n",
      "1\n"
     ]
    }
   ],
   "source": [
    "def PondSizeRec(i, j, Mat):\n",
    "    \n",
    "    Mat[i][j] = 'X'\n",
    "    res = 1\n",
    "    \n",
    "    for tup in [(i, j-1), (i, j+1), (i-1, j), (i+1, j), (i-1, j-1), (i-1, j+1), (i+1, j-1), (i+1, j+1)]:\n",
    "        \n",
    "        if (0 <= tup[0] <= len(Mat)-1) and (0 <= tup[1] <= len(Mat[0])-1) and Mat[tup[0]][tup[1]] == 0:\n",
    "            res += PondSizeRec(tup[0], tup[1], Mat)\n",
    "    \n",
    "    return res\n",
    "    \n",
    "\n",
    "def PondSizes(Mat):\n",
    "    \n",
    "    Matc = Mat.copy()\n",
    "    \n",
    "    for i in range(len(Matc)):\n",
    "        for j in range(len(Matc[0])):\n",
    "            if Mat[i][j] == 0:\n",
    "                print(PondSizeRec(i, j, Matc))\n",
    "                \n",
    "Mat = [[0, 2, 1, 0], [0, 1, 0, 1], [1, 1, 0, 1], [0, 1, 0, 1]]\n",
    "PondSizes(Mat)"
   ]
  },
  {
   "cell_type": "markdown",
   "metadata": {},
   "source": [
    "#### 20)"
   ]
  },
  {
   "cell_type": "markdown",
   "metadata": {},
   "source": [
    "One approach to this problem is to take the original dictionary of words and create a new dictionary, with the keys being the numerical code, and the values being a list of all possible words corresponding to that code.  Creating this dictionary only needs to happen once, and so can be precomputed in the phone factory.  The time complexity of this function $MakeCodeWordDict(D)$ is $O(|D|\\langle w \\rangle)$, where $D$ is the original word dictionary and $\\langle w \\rangle$ is the average word size.  The hash table will take up space $O(|D|\\langle w \\rangle)$, and this can be put on the user's phone for $O(1)$ lookup of all matching words given a numeric code (which I implement in CodeToWords(CodeWordDict, code))."
   ]
  },
  {
   "cell_type": "code",
   "execution_count": 122,
   "metadata": {},
   "outputs": [
    {
     "name": "stdout",
     "output_type": "stream",
     "text": [
      "{'78833': ['stuff'], '8733': ['used', 'tree'], '44': ['hi'], '228': ['cat'], '364': ['dog']}\n",
      "['used', 'tree']\n",
      "['hi']\n"
     ]
    }
   ],
   "source": [
    "def MakeCodeWordDict(D):\n",
    "    \n",
    "    CodeWordDict = {}\n",
    "    \n",
    "    for word in D:\n",
    "        code = [None]*len(word)\n",
    "        for i, char in enumerate(word):\n",
    "            if char in ['a', 'b', 'c']:\n",
    "                code[i] = '2'\n",
    "            elif char in ['d', 'e', 'f']:\n",
    "                code[i] = '3'\n",
    "            elif char in ['g', 'h', 'i']:\n",
    "                code[i] = '4'\n",
    "            elif char in ['j', 'k', 'l']:\n",
    "                code[i] = '5'\n",
    "            elif char in ['m', 'n', 'o']:\n",
    "                code[i] = '6'\n",
    "            elif char in ['p', 'q', 'r', 's']:\n",
    "                code[i] = '7'\n",
    "            elif char in ['t', 'u', 'v']:\n",
    "                code[i] = '8'\n",
    "            else:\n",
    "                code[i] = '9'\n",
    "        code_str = \"\".join(code)\n",
    "        if code_str in CodeWordDict:\n",
    "            CodeWordDict[code_str].append(word)\n",
    "        else:\n",
    "            CodeWordDict[code_str] = [word]\n",
    "    \n",
    "    return CodeWordDict  \n",
    "\n",
    "\n",
    "def CodeToWords(CodeWordDict, code):\n",
    "    \n",
    "    if code in CodeWordDict:\n",
    "        return CodeWordDict[code]\n",
    "    else:\n",
    "        return \"?\"\n",
    "    \n",
    "D = {'tree', 'hi', 'stuff', 'dog', 'cat', 'used'}\n",
    "CWD = MakeCodeWordDict(D)\n",
    "print(CWD)\n",
    "print(CodeToWords(CWD, '8733'))\n",
    "print(CodeToWords(CWD, '44'))"
   ]
  },
  {
   "cell_type": "markdown",
   "metadata": {},
   "source": [
    "#### 21)\n",
    "\n",
    "This problem can be solved in a brute force way in $O(|A||B|)$ time and $O(1)$ by iterating over all pairs, $(i,j)$ from the arrays and seeing if the following equation is satisfied: \n",
    "\\begin{equation}\n",
    "S_A - A[i] +B[j] = S_B - B[j]+A[i],\n",
    "\\end{equation}\n",
    "where $S_A$ and $S_B$ are the sums of the arrays (which have been precomputed).\n",
    "\n",
    "A quicker method, which sacrifises space, is to put the smaller array in a hash table and to iterate through the first array, look to see if the value $b = \\frac{ S_B-S_A}{2}+A[i]$ exists in the hash table or not.  This method takes $O(|A|+|B|)$ time and $O(|B|)$ space."
   ]
  },
  {
   "cell_type": "code",
   "execution_count": 390,
   "metadata": {},
   "outputs": [
    {
     "data": {
      "text/plain": [
       "(4, 6)"
      ]
     },
     "execution_count": 390,
     "metadata": {},
     "output_type": "execute_result"
    }
   ],
   "source": [
    "def FindPair(A,  B):\n",
    "    if len(A) < len(B):\n",
    "        A, B = B, A\n",
    "        \n",
    "    S_A = sum(A)\n",
    "    S_B = sum(B)\n",
    "    \n",
    "    d = {}\n",
    "    for b in B:\n",
    "        d[b] = True\n",
    "    \n",
    "    for a in A:\n",
    "        b = (S_B-S_A)/2 + a\n",
    "        if b in d:\n",
    "            return (a, int(b))\n",
    "    \n",
    "    return 'Not Possible'\n",
    "    \n",
    "FindPair([4,1,2,1,1,2],  [3, 6, 3, 3])"
   ]
  },
  {
   "cell_type": "markdown",
   "metadata": {},
   "source": [
    "#### 22)"
   ]
  },
  {
   "cell_type": "code",
   "execution_count": 384,
   "metadata": {},
   "outputs": [
    {
     "name": "stdout",
     "output_type": "stream",
     "text": [
      "   0  1  2  3  4  5  6  7  8  9  10 11 12 13 14 15 16\n",
      "0   W  W  W  W  W  W  W  W  W  W  W  W  W  W  W  W  W\n",
      "1   W  W  W  W  W  W  W  W  W  W  W  W  W  W  W  W  W\n",
      "2   W  W  W  W  W  W  W  W  W  W  W  W  W  W  W  W  W\n",
      "3   W  W  W  W  W  W  W  W  W  W  W  W  W  W  W  W  W\n",
      "4   W  W  W  W  W  W  W  W  W  W  W  W  W  W  W  W  W\n",
      "5   W  W  W  W  W  W  W  W  W  W  W  W  W  W  W  W  W\n",
      "6   W  W  W  W  W  W  W  W  W  W  W  W  W  W  W  W  W\n",
      "7   W  W  W  W  W  W  W  W  W  W  W  W  W  W  W  W  W\n",
      "8   W  W  W  W  W  W  W  W  B  W  W  W  W  W  W  W  W\n",
      "9   W  W  W  W  W  W  B  W  W  W  W  W  W  W  W  W  W\n",
      "10  W  W  W  W  W  W  W  W  W  W  W  W  W  W  W  W  W\n",
      "11  W  W  W  W  W  W  W  W  W  W  W  W  W  W  W  W  W\n",
      "12  W  W  W  W  W  W  W  W  W  W  W  W  W  W  W  W  W\n",
      "13  W  W  W  W  W  W  W  W  W  W  W  W  W  W  W  W  W\n",
      "14  W  W  W  W  W  W  W  W  W  W  W  W  W  W  W  W  W\n",
      "15  W  W  W  W  W  W  W  W  W  W  W  W  W  W  W  W  W\n",
      "16  W  W  W  W  W  W  W  W  W  W  W  W  W  W  W  W  W\n"
     ]
    }
   ],
   "source": [
    "import pandas as pd\n",
    "\n",
    "def AntSim(k):\n",
    "\n",
    "    Grid = [['W' for _ in range(1, 2*k+2)] for _ in range(1, 2*k+2)]\n",
    "    pos=[k, k]\n",
    "    d = 'r'\n",
    "\n",
    "    for _ in range(k):\n",
    "        \n",
    "        if Grid[pos[0]][pos[1]] == 'W':\n",
    "            Grid[pos[0]][pos[1]] = 'B'\n",
    "            if d == 'r':\n",
    "                pos = [pos[0]+1, pos[1]]\n",
    "                d = 'd'\n",
    "            if d == 'u':\n",
    "                pos = [pos[0], pos[1]+1]\n",
    "                d = 'r'\n",
    "            if d == 'd':\n",
    "                pos = [pos[0], pos[1]-1]\n",
    "                d = 'l'\n",
    "            if d == 'l':\n",
    "                pos = [pos[0]-1, pos[1]]\n",
    "                d = 'u'\n",
    "\n",
    "        else: \n",
    "            Grid[pos[0]][pos[1]] = 'W'\n",
    "            if d == 'r':\n",
    "                pos = [pos[0]-1, pos[1]]\n",
    "                d = 'u'\n",
    "            if d == 'u':\n",
    "                pos = [pos[0], pos[1]-1]\n",
    "                d = 'l'\n",
    "            if d == 'l':\n",
    "                pos = [pos[0]+1, pos[1]]\n",
    "                d = 'd'\n",
    "            if d == 'd':\n",
    "                pos = [pos[0], pos[1]+1]\n",
    "                d = 'r'\n",
    "   \n",
    "    print(pd.DataFrame(Grid))\n",
    "    return None\n",
    "\n",
    "AntSim(8)"
   ]
  },
  {
   "cell_type": "markdown",
   "metadata": {},
   "source": [
    "#### 23)\n",
    "\n",
    "This is a fairly straightforward solution.  In order to make a rand7() PRNG from a rand5() PRNG, there are several things I can do.  The most simple I can think of is to simplly roll the 5 sided die twice.  The sample space for this consists of 25 tuples.  I can then assign the numbers 0 to 6 to 3 tuples each, and return the appropriate 0 - 6 number depending on the tuble obtained.  If a tuple is rolled that does not have a corresponding 0 to 6 mapping (there will be 4 of them), I simply roll again."
   ]
  },
  {
   "cell_type": "code",
   "execution_count": 323,
   "metadata": {},
   "outputs": [
    {
     "name": "stdout",
     "output_type": "stream",
     "text": [
      "0\n",
      "6\n",
      "0\n",
      "6\n",
      "[0.14093, 0.14296, 0.14391, 0.14322, 0.14379, 0.14274, 0.14245]\n"
     ]
    }
   ],
   "source": [
    "import numpy as np\n",
    "\n",
    "def rand7():\n",
    "\n",
    "    while True:\n",
    "        rand_tup = tuple(np.random.randint(0, 5, 2)) \n",
    "\n",
    "        if rand_tup in [(0, 0), (0, 1), (0, 2)]:\n",
    "            return 0\n",
    "        elif rand_tup in [(0, 3), (0, 4), (1, 0)]:\n",
    "            return 1\n",
    "        elif rand_tup in [(1, 1), (1, 2), (1, 3)]:\n",
    "            return 2\n",
    "        elif rand_tup in [(1, 4), (2, 0), (2, 1)]:\n",
    "            return 3\n",
    "        elif rand_tup in [(2, 2), (2, 3), (2, 4)]:\n",
    "            return 4\n",
    "        elif rand_tup in [(3, 0), (3, 1), (3, 2)]:\n",
    "            return 5\n",
    "        elif rand_tup in [(3, 3), (3, 4), (4, 0)]:\n",
    "            return 6\n",
    "        \n",
    "print(rand7())\n",
    "print(rand7())\n",
    "print(rand7())\n",
    "print(rand7())\n",
    "\n",
    "counts = [0]*7\n",
    "for _ in range(100000):\n",
    "    counts[rand7()] += 1\n",
    "    \n",
    "### print empirical distribution to see if all probabilities are approximately 1/7 ~ .1429\n",
    "print([x/100000 for x in counts])"
   ]
  },
  {
   "cell_type": "markdown",
   "metadata": {},
   "source": [
    "#### 24)\n",
    "\n",
    "A brute for $O(n^2)$ algorithm would be to through all $i<j$ pairs to find a pair that adds up to the desired sum.  This would also take $O(1)$ space.\n",
    "\n",
    "A second, better solution, would be to sort the array inplace $O(n\\log n)$, and then iterate through $A$.  In the loop, I try to find the number corresponding to $A[i]$ which adds up to the desired sum with a binary search within $A[i+1:len(A)-1]$.  Overall this approach would take $O(n \\log n)$ with $O(1)$ space.\n",
    "\n",
    "The fastest method is to use a hash table for $O(1)$ lookup.  I iterate through the array and look for the corresponding partner in the hash table.  The implementation below assumes no duplicates and works in $O(n)$ time and $O(1)$ space."
   ]
  },
  {
   "cell_type": "code",
   "execution_count": 402,
   "metadata": {},
   "outputs": [
    {
     "name": "stdout",
     "output_type": "stream",
     "text": [
      "2 5\n",
      "3 4\n"
     ]
    }
   ],
   "source": [
    "def PairSum(A, s):\n",
    "    \n",
    "    d = {}\n",
    "    for el in A:\n",
    "        d[el] = True\n",
    "        \n",
    "    for el in A:\n",
    "        if s - el in d:\n",
    "            print(el, s - el)\n",
    "            del d[s - el]\n",
    "            del d[el]\n",
    "            \n",
    "PairSum([1, 2, 3, 4, 5], 7)"
   ]
  },
  {
   "cell_type": "markdown",
   "metadata": {},
   "source": [
    "The following implementation is slightly more complicated and allows for duplicates.  It keeps a count of all values in the hash table, and decrements the counts if in both values if a pair is found.  If the count becomes 0, we can no longer use them."
   ]
  },
  {
   "cell_type": "code",
   "execution_count": 414,
   "metadata": {},
   "outputs": [
    {
     "name": "stdout",
     "output_type": "stream",
     "text": [
      "2 5\n",
      "3 4\n",
      "-------\n",
      "1 6\n",
      "2 5\n",
      "3 4\n",
      "3.5 3.5\n"
     ]
    }
   ],
   "source": [
    "def PairSum2(A, s):\n",
    "    \n",
    "    d = {}\n",
    "    for el in A:\n",
    "        if el in d:\n",
    "            d[el] += 1\n",
    "        else:\n",
    "            d[el] = 1\n",
    "        \n",
    "    for el in A:\n",
    "        z = s - el\n",
    "        if (z in d):\n",
    "            if z != el and d[z] >= 1 and d[el] >= 1:\n",
    "                print(el, z)\n",
    "                d[z] -= 1\n",
    "                d[el] -= 1\n",
    "            if z == el and d[z] >= 2:\n",
    "                print(el, z)\n",
    "                d[z] -= 2\n",
    "            \n",
    "PairSum2([1, 2, 3, 4, 5], 7)\n",
    "print('-------')\n",
    "PairSum2([1, 2, 3, 4, 5, 3.5, 3.5, 3.5, 6, 6], 7)                   "
   ]
  }
 ],
 "metadata": {
  "kernelspec": {
   "display_name": "Python 3",
   "language": "python",
   "name": "python3"
  },
  "language_info": {
   "codemirror_mode": {
    "name": "ipython",
    "version": 3
   },
   "file_extension": ".py",
   "mimetype": "text/x-python",
   "name": "python",
   "nbconvert_exporter": "python",
   "pygments_lexer": "ipython3",
   "version": "3.6.5"
  }
 },
 "nbformat": 4,
 "nbformat_minor": 2
}
