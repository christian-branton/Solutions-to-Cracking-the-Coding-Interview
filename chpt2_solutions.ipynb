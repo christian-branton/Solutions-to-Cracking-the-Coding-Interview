{
 "cells": [
  {
   "cell_type": "markdown",
   "metadata": {},
   "source": [
    "#### 2.1) \n",
    "I first implement a Node class, then a linked list class with a few basic methods"
   ]
  },
  {
   "cell_type": "code",
   "execution_count": 2,
   "metadata": {},
   "outputs": [
    {
     "name": "stdout",
     "output_type": "stream",
     "text": [
      "[True, 'dog', 5, 1]\n"
     ]
    }
   ],
   "source": [
    "class Node:\n",
    "    \n",
    "    def __init__(self, data):\n",
    "        self.data = data\n",
    "        self.next = None\n",
    "        \n",
    "    def SetData(self, new_data):\n",
    "        self.data = new_data\n",
    "\n",
    "    def GetData(self):\n",
    "        return self.data\n",
    "\n",
    "    def SetNext(self, next_node):\n",
    "        self.next = next_node\n",
    "\n",
    "    def GetNext(self):\n",
    "        return self.next\n",
    "        \n",
    "\n",
    "class LinkedList:\n",
    "    \n",
    "    def __init__(self):\n",
    "        self.head = None\n",
    "        self.length=0\n",
    "        \n",
    "    def add(self, val): # add a new node to the head of the list\n",
    "        new_node = Node(val)\n",
    "        new_node.SetNext(self.head)\n",
    "        self.head = new_node \n",
    "        \n",
    "        self.length += 1\n",
    "        \n",
    "    def print_vals(self):\n",
    "        node = self.head\n",
    "        arr = []\n",
    "        for i in range(self.length):\n",
    "            arr.append(node.GetData())\n",
    "            node = node.GetNext()\n",
    "            \n",
    "        print(arr)\n",
    "        \n",
    "my_list = LinkedList()\n",
    "my_list.add(1)\n",
    "my_list.add(5)\n",
    "my_list.add('dog')\n",
    "my_list.add(True)\n",
    "my_list.print_vals()     "
   ]
  },
  {
   "cell_type": "markdown",
   "metadata": {},
   "source": [
    "The question in the book is a little ambiguous as to how to deal with the duplicated values.  I write a function that keeps the first instance of a value, but removes all subsequent instances (when going from the head to the tail in the linked list)"
   ]
  },
  {
   "cell_type": "code",
   "execution_count": 4,
   "metadata": {},
   "outputs": [
    {
     "name": "stdout",
     "output_type": "stream",
     "text": [
      "['dog', 2, True, 'dog', 5, 5, 6]\n",
      "['dog', 2, True, 5, 6]\n"
     ]
    }
   ],
   "source": [
    "class LinkedList(LinkedList):\n",
    "\n",
    "    def remove_dups(self):\n",
    "        \n",
    "        if self.length > 1:\n",
    "           \n",
    "            previous = self.head\n",
    "            current = self.head.GetNext()\n",
    "            D = {self.head.GetData()}\n",
    "            count_deleted = 0\n",
    "            while current != None:\n",
    "                if current.GetData() in D:\n",
    "                    count_deleted += 1\n",
    "                    previous.SetNext(current.GetNext())\n",
    "                    current = previous.GetNext()\n",
    "                    \n",
    "                else:\n",
    "                    D.add(current.GetData())\n",
    "                    previous = current\n",
    "                    current = current.GetNext()\n",
    "                    \n",
    "        ### update length\n",
    "        self.length = self.length - count_deleted\n",
    "        \n",
    "            \n",
    "        \n",
    "### instantiate list and add some values\n",
    "my_list = LinkedList()\n",
    "my_list.add(6)\n",
    "my_list.add(5)\n",
    "my_list.add(5)\n",
    "my_list.add('dog')\n",
    "my_list.add(True)\n",
    "my_list.add(2)\n",
    "my_list.add('dog')\n",
    "my_list.print_vals()  \n",
    "\n",
    "### remove duplicates\n",
    "my_list.remove_dups()\n",
    "\n",
    "### see if it worked.\n",
    "my_list.print_vals()  "
   ]
  },
  {
   "cell_type": "markdown",
   "metadata": {},
   "source": [
    "To implement this method without using extra memory, we can use 1 extra pointer, which I call fast.  Originally, we have current and previous pointed to the head and fast pointed to the second node.  I then iterate fast and previous forward (with previous always 1 step behind fast), and if the value of fast equals the value of current, I delete fast (previous.SetNext(fast.GetNext()), fast = previous.GetNext()).  When fast becomes Null, I have reached the end of the list.  At this point I iterate current by 1, set previous to current and set fast to current.GetNext() and repeat the same procedure.\n",
    "\n",
    "Since this method requires 2 nested loops, it is $O(n^2)$"
   ]
  },
  {
   "cell_type": "markdown",
   "metadata": {},
   "source": [
    "#### 2.2)\n",
    "I Implement a method to return the kth to last element (assuming it exists.)  To answer this question I need to find the "
   ]
  },
  {
   "cell_type": "code",
   "execution_count": 5,
   "metadata": {},
   "outputs": [
    {
     "name": "stdout",
     "output_type": "stream",
     "text": [
      "['dog', 2, True, 'dog', 5, 5, 6]\n",
      "dog\n",
      "6\n"
     ]
    }
   ],
   "source": [
    "class LinkedList(LinkedList):\n",
    "\n",
    "    def find_kth_to_last(self, k):\n",
    "\n",
    "        last_index = self.length-1\n",
    "        index_to_find = last_index - k\n",
    "\n",
    "        ### iterate to index\n",
    "        current = self.head\n",
    "\n",
    "        for _ in range(index_to_find):\n",
    "            current = current.GetNext()\n",
    "\n",
    "        return current.GetData()\n",
    "\n",
    "        \n",
    "        \n",
    "### instantiate list and add some values\n",
    "my_list = LinkedList()\n",
    "my_list.add(6)\n",
    "my_list.add(5)\n",
    "my_list.add(5)\n",
    "my_list.add('dog')\n",
    "my_list.add(True)\n",
    "my_list.add(2)\n",
    "my_list.add('dog')\n",
    "\n",
    "my_list.print_vals()  \n",
    "\n",
    "print(my_list.find_kth_to_last(3))\n",
    "print(my_list.find_kth_to_last(0))"
   ]
  },
  {
   "cell_type": "markdown",
   "metadata": {},
   "source": [
    "2.3)  We are to delete a node in the middle of the list, only given access to that node (i.e., we cannot iterate from the head of the list).  This can be done by copying the data from the next node to the current node, then deleting the next node."
   ]
  },
  {
   "cell_type": "code",
   "execution_count": 9,
   "metadata": {},
   "outputs": [
    {
     "name": "stdout",
     "output_type": "stream",
     "text": [
      "['dog', 2, True, 'dog', 5, 5, 6]\n",
      "['dog', 2, 'dog', 5, 5, 6]\n"
     ]
    }
   ],
   "source": [
    "class LinkedList(LinkedList):\n",
    "\n",
    "    def delete_given_node(self, node):\n",
    "        \n",
    "        # copy data\n",
    "        node.SetData(node.GetNext().GetData())\n",
    "        \n",
    "        #delete next node\n",
    "        node.SetNext(node.GetNext().GetNext())\n",
    "        \n",
    "        # update length\n",
    "        self.length -= 1\n",
    "        \n",
    "        \n",
    "### instantiate list and add some values\n",
    "my_list = LinkedList()\n",
    "my_list.add(6)\n",
    "my_list.add(5)\n",
    "my_list.add(5)\n",
    "my_list.add('dog')\n",
    "my_list.add(True)\n",
    "my_list.add(2)\n",
    "my_list.add('dog')\n",
    "\n",
    "my_list.print_vals()  \n",
    "\n",
    "node = my_list.head.GetNext().GetNext()\n",
    "\n",
    "my_list.delete_given_node(node)\n",
    "my_list.print_vals()  \n",
    "         "
   ]
  },
  {
   "cell_type": "markdown",
   "metadata": {},
   "source": [
    "#### 2.4)  \n",
    "\n",
    "This question is very similar to the partition routine used in Quick Sort, so I recommend reviewing this algorithm before attempting the answer.\n",
    "\n",
    "I define p1 and p2 to be pointers to nodes within the linked list.  In the algorithm, I maintain the following invariant: p1 points to the edge of the < boundary (inclusive) and p2 points to the rightmost unexplored node (refer to the illustration in the cell below).  At this point in the algorithm, there are 2 possibilities:\n",
    "\n",
    "* If p2 >= pivot then:\n",
    "    - increment p2\n",
    "* Else:\n",
    "    - swap p1.GetNext() with p2\n",
    "    - increment p1 and increment p2\n",
    "\n",
    "The algorithm terminates when p2 = Null.  Initialize the algorithm is a little tricky.  I set p2 = self.head and run a while loop that incremements p2 and terminates when p2 < pivot or p2 = None.  If the while loop terminates and p2 = None, this means that the whole list is >= pivot, so I return immediately.  Otherwise I swap p2 with self.head, incremenent p2 and set p1 to self.head\n",
    "\n",
    "This routine can be implemented in $O(n)$ time and $O(1)$ space since all swaps are done inplace."
   ]
  },
  {
   "cell_type": "raw",
   "metadata": {},
   "source": [
    "                                   lt -> lt -> lt -> gt -> gt -> ? -> ? -> ?                               \n",
    "                                               p1                p2"
   ]
  },
  {
   "cell_type": "code",
   "execution_count": 19,
   "metadata": {},
   "outputs": [
    {
     "name": "stdout",
     "output_type": "stream",
     "text": [
      "[10, 5, 1, 2, 5, 2, 1]\n",
      "[1, 2, 2, 1, 5, 10, 5]\n",
      "[1, 1, 2, 2, 5, 10, 5]\n",
      "[1, 1, 2, 2, 5, 5, 10]\n"
     ]
    }
   ],
   "source": [
    "class LinkedList(LinkedList):\n",
    "\n",
    "    def Partition(self, pivot):\n",
    "        \n",
    "        ### initialize while loop\n",
    "        p2 = self.head\n",
    "        while (p2.GetData() >= pivot) and (p2 != None):\n",
    "            p2 = p2.GetNext()\n",
    "        \n",
    "        if p2 == None: return None\n",
    "        else:\n",
    "            # swap\n",
    "            tmp = p2.GetData()\n",
    "            p2.SetData(self.head.GetData())\n",
    "            self.head.SetData(tmp)\n",
    "            \n",
    "            #increment\n",
    "            p1 = self.head\n",
    "            p2 = p2.GetNext()\n",
    "            \n",
    "        ### maintenance of while loop\n",
    "        while p2 != None:\n",
    "            if p2.GetData() >= pivot:\n",
    "                p2 = p2.GetNext()\n",
    "            else:\n",
    "                #swap\n",
    "                tmp = p2.GetData()\n",
    "                p2.SetData(p1.GetNext().GetData())\n",
    "                p1.GetNext().SetData(tmp)\n",
    "                #incrememnt\n",
    "                p1 = p1.GetNext()\n",
    "                p2 = p2.GetNext()\n",
    "                \n",
    "        return None\n",
    "        \n",
    "\n",
    "\n",
    "    \n",
    "    \n",
    "### instantiate list and add some values\n",
    "my_list = LinkedList()\n",
    "my_list.add(1)\n",
    "my_list.add(2)\n",
    "my_list.add(5)\n",
    "my_list.add(2)\n",
    "my_list.add(1)\n",
    "my_list.add(5)\n",
    "my_list.add(10)\n",
    "\n",
    "my_list.print_vals() \n",
    "\n",
    "my_list.Partition(5)\n",
    "my_list.print_vals() \n",
    "\n",
    "my_list.Partition(2)\n",
    "my_list.print_vals() \n",
    "\n",
    "my_list.Partition(10)\n",
    "my_list.print_vals() \n",
    "\n",
    " \n",
    "\n"
   ]
  },
  {
   "cell_type": "markdown",
   "metadata": {},
   "source": [
    "#### 2.5) \n",
    "I solve this problem with 2 different methods.  The first method is has a better time and space complexity.  In the first method I iterate through both lists continuously to obtain the number the lists contain (in forward order) with my getnum() function.  I add the numbers and reverse the order of this result with my ReverseNum() function.  Finally I add the digits, 1-by-1 to a new list.\n",
    "\n",
    "The space complexity of this method is $O(1)$ (not including the output linked list) since I only define new variables with constant space complexity.  As far as the time complexity, let $m = \\max \\{|\\ell 1|, |\\ell 2| \\}$.  Traversing the 2 lists to get their numbers and adding them takes $O(|\\ell 1|) + O(|\\ell 2|) = O(m)$.  Note $|\\ell 1|$ also represents the number of digits in the first number and the same for $|\\ell 2|$.  Also note that, if we add 2 (positive) numbers, the number of digits in the result is either the same as the number of digits in the larger number, or at most 1 more than the number of digits in the larger number.  Thus the number of digits in the sum of the 2 lists is either $m$ or $m+1$. \n",
    "\n",
    "In the ReverseNum() function, in the while loop, the number of digits gets decreased by 1 at each iteration in the while loop (because of the // operator) and thus, since we give this function a number with $O(m)$ digits, this function takes $O(m)$.\n",
    "\n",
    "Finally, adding the digits of the sum 1-by-1 to an output linked list takes $O(m)$.  Thus the overall time complexity is $O(m)$."
   ]
  },
  {
   "cell_type": "code",
   "execution_count": 23,
   "metadata": {},
   "outputs": [],
   "source": [
    "def getnum(l):\n",
    "    p = l.head\n",
    "    val = 0\n",
    "    k = 0\n",
    "    \n",
    "    while p != None:\n",
    "        val += p.GetData()*10**k\n",
    "        k += 1\n",
    "        p = p.GetNext()\n",
    "    \n",
    "    return val\n",
    "    \n",
    "def ReverseNum(n):\n",
    "    res=0\n",
    "    while n > 0:\n",
    "        res = res*10 + (n%10)\n",
    "        n //= 10\n",
    "    return res\n",
    "\n"
   ]
  },
  {
   "cell_type": "code",
   "execution_count": 26,
   "metadata": {},
   "outputs": [
    {
     "name": "stdout",
     "output_type": "stream",
     "text": [
      "[7, 1, 6]\n",
      "[5, 9, 2]\n",
      "[2, 1, 9]\n",
      "[1, 5, 1, 0, 3]\n"
     ]
    }
   ],
   "source": [
    "def GetSum(l1, l2):\n",
    "    v1 = getnum(l1)\n",
    "    v2 = getnum(l2)\n",
    "    \n",
    "    n = ReverseNum(v1+v2)\n",
    "    \n",
    "    new_list = LinkedList()\n",
    "    while n > 0:\n",
    "        new_list.add(n%10)\n",
    "        n //= 10\n",
    "    return new_list\n",
    "\n",
    "LL1 = LinkedList()\n",
    "LL1.add(6)\n",
    "LL1.add(1)\n",
    "LL1.add(7)\n",
    "LL1.print_vals()\n",
    "\n",
    "LL2 = LinkedList()\n",
    "LL2.add(2)\n",
    "LL2.add(9)\n",
    "LL2.add(5)\n",
    "LL2.print_vals()\n",
    "\n",
    "res = GetSum(LL1, LL2)\n",
    "res.print_vals()\n",
    "\n",
    "LL2 = LinkedList()\n",
    "LL2.add(2)\n",
    "LL2.add(9)\n",
    "LL2.add(5)\n",
    "LL2.add(3)\n",
    "LL2.add(4)\n",
    "\n",
    "res = GetSum(LL1, LL2)\n",
    "res.print_vals()"
   ]
  },
  {
   "cell_type": "markdown",
   "metadata": {},
   "source": [
    "My approach for the second part of this question is very similar to my approach for the first part and has the same time and space complexities.  "
   ]
  },
  {
   "cell_type": "code",
   "execution_count": 29,
   "metadata": {},
   "outputs": [
    {
     "name": "stdout",
     "output_type": "stream",
     "text": [
      "[6, 1, 7]\n",
      "[2, 9, 5]\n",
      "[9, 1, 2]\n",
      "[4, 4, 2, 0, 9]\n"
     ]
    }
   ],
   "source": [
    "def getnumforward(l):\n",
    "    p = l.head\n",
    "    val = 0\n",
    "    \n",
    "    while p != None:\n",
    "        val = val*10 + p.GetData()\n",
    "        p = p.GetNext()\n",
    "    \n",
    "    return val\n",
    "\n",
    "def GetSumForward(l1, l2):\n",
    "    v1 = getnumforward(l1)\n",
    "    v2 = getnumforward(l2)\n",
    "    n=v1 + v2\n",
    "    \n",
    "    new_list = LinkedList()\n",
    "    while n > 0:\n",
    "        new_list.add(n%10)\n",
    "        n //= 10\n",
    "    return new_list\n",
    "\n",
    "LL1 = LinkedList()\n",
    "LL1.add(7)\n",
    "LL1.add(1)\n",
    "LL1.add(6)\n",
    "LL1.print_vals()\n",
    "\n",
    "LL2 = LinkedList()\n",
    "LL2.add(5)\n",
    "LL2.add(9)\n",
    "LL2.add(2)\n",
    "LL2.print_vals()\n",
    "\n",
    "res = GetSumForward(LL1, LL2)\n",
    "res.print_vals()\n",
    "\n",
    "LL2 = LinkedList()\n",
    "LL2.add(2)\n",
    "LL2.add(9)\n",
    "LL2.add(5)\n",
    "LL2.add(3)\n",
    "LL2.add(4)\n",
    "\n",
    "res = GetSumForward(LL1, LL2)\n",
    "res.print_vals()"
   ]
  },
  {
   "cell_type": "markdown",
   "metadata": {},
   "source": [
    "Method 2:  To solve this problem, I first write a method that returns the value in the $i^{th}$ position in the list."
   ]
  },
  {
   "cell_type": "code",
   "execution_count": 92,
   "metadata": {},
   "outputs": [
    {
     "name": "stdout",
     "output_type": "stream",
     "text": [
      "[10, 5, 1, 2, 5, 2, 1]\n",
      "10\n",
      "5\n",
      "1\n",
      "2\n",
      "5\n",
      "2\n",
      "1\n",
      "None\n",
      "None\n"
     ]
    }
   ],
   "source": [
    "class LinkedList(LinkedList):\n",
    "\n",
    "    def get(self, indx):\n",
    "        current = self.head\n",
    "        pos = 0\n",
    "\n",
    "        while pos != indx:\n",
    "            current = current.GetNext()\n",
    "                ### if you've reached the end of the list, return None\n",
    "            if current == None: \n",
    "                return None\n",
    "            pos += 1\n",
    "\n",
    "        val = current.GetData()\n",
    "\n",
    "        return val\n",
    "    \n",
    "### instantiate list and add some values\n",
    "my_list = LinkedList()\n",
    "my_list.add(1)\n",
    "my_list.add(2)\n",
    "my_list.add(5)\n",
    "my_list.add(2)\n",
    "my_list.add(1)\n",
    "my_list.add(5)\n",
    "my_list.add(10)\n",
    "my_list.print_vals()\n",
    "\n",
    "print(my_list.get(0))\n",
    "print(my_list.get(1))\n",
    "print(my_list.get(2))\n",
    "print(my_list.get(3))\n",
    "print(my_list.get(4))\n",
    "print(my_list.get(5))\n",
    "print(my_list.get(6))\n",
    "print(my_list.get(7))\n",
    "print(my_list.get(8))"
   ]
  },
  {
   "cell_type": "markdown",
   "metadata": {},
   "source": [
    "I now write a function that takes in 2 lists of the desired form, iterates through them and adds the appropriate numbers and returns the result in a linked list"
   ]
  },
  {
   "cell_type": "code",
   "execution_count": 109,
   "metadata": {},
   "outputs": [
    {
     "name": "stdout",
     "output_type": "stream",
     "text": [
      "[7, 1, 6]\n",
      "[5, 9, 2]\n",
      "[2, 1, 9]\n",
      "[1, 5, 1, 0, 3]\n"
     ]
    }
   ],
   "source": [
    "def add_nums(LL1, LL2):\n",
    "    \n",
    "    carry = 0\n",
    "    i = 0\n",
    "    v1 = LL1.get(i)\n",
    "    v2 = LL2.get(i)\n",
    "    \n",
    "    res_arr = []\n",
    "    while (v1 != None) or (v2 != None):\n",
    "        if v1 == None: \n",
    "            v1=0\n",
    "        if v2 == None: \n",
    "            v1=0\n",
    "\n",
    "        ### do addition\n",
    "        add_nums = v1+v2+carry\n",
    "        carry = add_nums//10\n",
    "        res = add_nums % 10\n",
    "        \n",
    "        ## add to result list\n",
    "        res_arr.append(res)\n",
    "    \n",
    "        i += 1\n",
    "        v1 = LL1.get(i)\n",
    "        v2 = LL2.get(i)\n",
    "   \n",
    "    ### put results in a linkedlist in reverse order\n",
    "    LLresult = LinkedList()  \n",
    "    for i in range(1, len(res_arr)+1):\n",
    "        LLresult.add(res_arr[-i])\n",
    "   \n",
    "\n",
    "    return LLresult\n",
    "        \n",
    "\n",
    "LL1 = LinkedList()\n",
    "LL1.add(6)\n",
    "LL1.add(1)\n",
    "LL1.add(7)\n",
    "LL1.print_vals()\n",
    "\n",
    "LL2 = LinkedList()\n",
    "LL2.add(2)\n",
    "LL2.add(9)\n",
    "LL2.add(5)\n",
    "LL2.print_vals()\n",
    "\n",
    "res = add_nums(LL1, LL2)\n",
    "res.print_vals()\n",
    "\n",
    "LL2 = LinkedList()\n",
    "LL2.add(2)\n",
    "LL2.add(9)\n",
    "LL2.add(5)\n",
    "LL2.add(3)\n",
    "LL2.add(4)\n",
    "\n",
    "res = add_nums(LL1, LL2)\n",
    "res.print_vals()\n"
   ]
  },
  {
   "cell_type": "markdown",
   "metadata": {},
   "source": [
    "To do the 2nd part of the question I follow a slightly different procedure, and make things a little simplier by using strings"
   ]
  },
  {
   "cell_type": "code",
   "execution_count": null,
   "metadata": {},
   "outputs": [],
   "source": [
    "def add_nums_forward(LL1, LL2):\n",
    "    \n",
    "    i = 0\n",
    "    v1 = LL1.get(i)\n",
    "    s1 = \"\"\n",
    "    while (v1 != None):\n",
    "        s1 += str(v1)\n",
    "        \n",
    "        i+=1\n",
    "        v1 = LL1.get(i)\n",
    "    if s1 == \"\":\n",
    "        n1 = 0\n",
    "    else:\n",
    "        n1 = int(s1)\n",
    "        \n",
    "    i = 0\n",
    "    v2 = LL2.get(i)\n",
    "    s2 = \"\"\n",
    "    while (v2 != None):\n",
    "        s2 += str(v2)\n",
    "        \n",
    "        i+=1\n",
    "        v2 = LL2.get(i)\n",
    "    if s2 == \"\":\n",
    "        n2 = 0\n",
    "    else:\n",
    "        n2 = int(s2)\n",
    "        \n",
    "    num = n1+n2\n",
    "    num = str(num)\n",
    "    ll = LinkedList()\n",
    "    for i in range(1, len(num)+1):\n",
    "        ll.add(int(num[-i]))\n",
    "        \n",
    "    return ll\n",
    "        \n",
    "LL1 = LinkedList()\n",
    "LL1.add(7)\n",
    "LL1.add(1)\n",
    "LL1.add(6)\n",
    "LL1.print_vals()\n",
    "\n",
    "LL2 = LinkedList()\n",
    "LL2.add(5)\n",
    "LL2.add(9)\n",
    "LL2.add(2)\n",
    "LL2.print_vals()\n",
    "\n",
    "llres = add_nums_forward(LL1, LL2)\n",
    "llres.print_vals()"
   ]
  },
  {
   "cell_type": "markdown",
   "metadata": {},
   "source": [
    "#### 2.6) \n",
    "\n",
    "Solution 1: \n",
    "\n",
    "Iterate through the linked list and put all values in an array.  Determine if the array is a palindrome (easier, since in an array I can iterate backwards).  $O(n)$ time and $O(n)$ space."
   ]
  },
  {
   "cell_type": "code",
   "execution_count": 55,
   "metadata": {},
   "outputs": [
    {
     "name": "stdout",
     "output_type": "stream",
     "text": [
      "['k', 'a', 'y', 'a', 'k']\n",
      "True\n",
      "['k']\n",
      "True\n",
      "['n', 'o', 't', 'p', 'a', 'l']\n",
      "False\n"
     ]
    }
   ],
   "source": [
    "def IsPal1(l):\n",
    "    arr = [None]*l.length\n",
    "    p=l.head\n",
    "    arr[0] = p.GetData()\n",
    "    \n",
    "    for i in range(1, l.length):\n",
    "        p = p.GetNext()\n",
    "        arr[i] = p.GetData()\n",
    "        \n",
    "    i,j=0,len(arr)-1\n",
    "    while j-i>0:\n",
    "        if arr[i] != arr[j]:\n",
    "            return False\n",
    "        i += 1\n",
    "        j -= 1\n",
    "    return True\n",
    "\n",
    "my_list = LinkedList()\n",
    "my_list.add(\"k\")\n",
    "my_list.add(\"a\")\n",
    "my_list.add(\"y\")\n",
    "my_list.add(\"a\")\n",
    "my_list.add(\"k\")\n",
    "my_list.print_vals() \n",
    "print(IsPal1(my_list))\n",
    "\n",
    "my_list = LinkedList()\n",
    "my_list.add(\"k\")\n",
    "my_list.print_vals() \n",
    "print(IsPal1(my_list))\n",
    "\n",
    "my_list = LinkedList()\n",
    "my_list.add(\"l\")\n",
    "my_list.add(\"a\")\n",
    "my_list.add(\"p\")\n",
    "my_list.add(\"t\")\n",
    "my_list.add(\"o\")\n",
    "my_list.add(\"n\")\n",
    "my_list.print_vals() \n",
    "print(IsPal1(my_list))"
   ]
  },
  {
   "cell_type": "markdown",
   "metadata": {},
   "source": [
    "Solution 2:\n",
    "    \n",
    "Reverse the whole linked list and compare the first half of the original list to the first half of the reversed list.\n",
    "\n",
    "The time complexity is $O(n)$ for the reversal and comparisons and the space complexity is $O(n)$ to store the reversed list.\n",
    "\n",
    "To implement this solution I will need to write a function to reverse a linked list."
   ]
  },
  {
   "cell_type": "code",
   "execution_count": 54,
   "metadata": {},
   "outputs": [
    {
     "name": "stdout",
     "output_type": "stream",
     "text": [
      "['D', 'o', 'u', 'g', 'l', 'a', 's']\n",
      "['s', 'a', 'l', 'g', 'u', 'o', 'D']\n",
      "['D', 'o', 'u', 'g', 'l', 'a', 's']\n",
      "['s', 'a', 'l', 'g', 'u', 'o', 'D']\n",
      "['s', 'a', 'l', 'g', 'u', 'o', 'D']\n"
     ]
    }
   ],
   "source": [
    "import copy\n",
    "\n",
    "def ReverseLL(ll, inplace = True):\n",
    "    \n",
    "    if inplace:\n",
    "        l = ll\n",
    "    else:\n",
    "        l = copy.deepcopy(ll)\n",
    "\n",
    "    if l.length <= 1: return l\n",
    "    if l.length == 2:\n",
    "        n1 = l.head\n",
    "        n2=n1.GetNext()\n",
    "        n1.SetNext(None)\n",
    "        n2.SetNext(n1)\n",
    "        l.head = n2\n",
    "        \n",
    "    prev=l.head\n",
    "    curr=prev.GetNext()\n",
    "    nextt=curr.GetNext()\n",
    "    \n",
    "    while nextt != None:\n",
    "        curr.SetNext(prev)\n",
    "        prev=curr\n",
    "        curr=nextt\n",
    "        nextt=nextt.GetNext()\n",
    "    curr.SetNext(prev)\n",
    "    l.head=curr\n",
    "    \n",
    "    return l\n",
    "\n",
    "### test reversing function\n",
    "my_list = LinkedList()\n",
    "my_list.add(\"s\")\n",
    "my_list.add(\"a\")\n",
    "my_list.add(\"l\")\n",
    "my_list.add(\"g\")\n",
    "my_list.add(\"u\")\n",
    "my_list.add(\"o\")\n",
    "my_list.add(\"D\")\n",
    "my_list.print_vals()\n",
    "\n",
    "\n",
    "ReverseLL(my_list, inplace = False).print_vals()\n",
    "my_list.print_vals()\n",
    "\n",
    "ReverseLL(my_list, inplace = True).print_vals()\n",
    "my_list.print_vals()"
   ]
  },
  {
   "cell_type": "code",
   "execution_count": 58,
   "metadata": {},
   "outputs": [
    {
     "name": "stdout",
     "output_type": "stream",
     "text": [
      "['k', 'a', 'y', 'a', 'k']\n",
      "True\n",
      "['k']\n",
      "True\n",
      "['n', 'o', 't', 'p', 'a', 'l']\n",
      "False\n"
     ]
    }
   ],
   "source": [
    "def IsPal2(l):\n",
    "      \n",
    "    l_reversed = ReverseLL(l, inplace = False)\n",
    "    \n",
    "    mid = l.length//2 \n",
    "    \n",
    "    curr = 1\n",
    "    p1 = l.head\n",
    "    p2 = l_reversed.head\n",
    "    \n",
    "    while curr <= mid:\n",
    "        if p1.GetData() != p2.GetData(): \n",
    "            return False\n",
    "    \n",
    "        p1 = p1.GetNext()\n",
    "        p2 = p2.GetNext()\n",
    "        \n",
    "        curr += 1\n",
    "    return True\n",
    "\n",
    "my_list = LinkedList()\n",
    "my_list.add(\"k\")\n",
    "my_list.add(\"a\")\n",
    "my_list.add(\"y\")\n",
    "my_list.add(\"a\")\n",
    "my_list.add(\"k\")\n",
    "my_list.print_vals() \n",
    "print(IsPal2(my_list))\n",
    "\n",
    "my_list = LinkedList()\n",
    "my_list.add(\"k\")\n",
    "my_list.print_vals() \n",
    "print(IsPal2(my_list))\n",
    "\n",
    "my_list = LinkedList()\n",
    "my_list.add(\"l\")\n",
    "my_list.add(\"a\")\n",
    "my_list.add(\"p\")\n",
    "my_list.add(\"t\")\n",
    "my_list.add(\"o\")\n",
    "my_list.add(\"n\")\n",
    "my_list.print_vals() \n",
    "print(IsPal2(my_list))"
   ]
  },
  {
   "cell_type": "markdown",
   "metadata": {},
   "source": [
    "#### 2.7) \n",
    "This implementation iterates through list 1 throwing all references in a hash table, then iterates through list 2, checking if each node is in the hash table.  This will take, at worst, $O(max(n, m))$.  The book solution presents a solution which is slightly more clever and does not use a hash table."
   ]
  },
  {
   "cell_type": "code",
   "execution_count": 30,
   "metadata": {},
   "outputs": [],
   "source": [
    "def intersect(LL1, LL2):\n",
    "    refs = {}\n",
    "    current = LL1.head\n",
    "    while current != None:\n",
    "        refs.add(current)\n",
    "        current = current.GetNext()\n",
    "        \n",
    "    current = LL2.head\n",
    "    while current != None:\n",
    "        if current in refs:\n",
    "            return (True, current)\n",
    "\n",
    "    return False\n",
    "        "
   ]
  },
  {
   "cell_type": "markdown",
   "metadata": {},
   "source": [
    "#### 2.8) \n",
    "The approach I take is to iterate through the list, storing each node reference in a hash table.  At each iteration, I check whether the node is already in the hash table.  The first time a node is already in the hash table is the node where the loop starts.  (This can easily be verified by drawing out the linked list). We we must iterate through the entire linked list, storing the reference to each node in the hash table each time, so that this algorithm takes, O(n) time and On) space.  The following method should work."
   ]
  },
  {
   "cell_type": "code",
   "execution_count": 42,
   "metadata": {},
   "outputs": [
    {
     "name": "stdout",
     "output_type": "stream",
     "text": [
      "['D', 'o', 'u', 'g', 'l', 'a', 's']\n"
     ]
    },
    {
     "data": {
      "text/plain": [
       "(<__main__.Node at 0x10cb7d5c0>, 'o')"
      ]
     },
     "execution_count": 42,
     "metadata": {},
     "output_type": "execute_result"
    }
   ],
   "source": [
    "def loop(ll):\n",
    "    refs = {}\n",
    "    current = ll.head\n",
    "    while current != None:\n",
    "        if current in refs:\n",
    "            return (current, current.GetData())\n",
    "        refs[current] = True\n",
    "        current = current.GetNext()\n",
    "        \n",
    "my_list = LinkedList()\n",
    "my_list.add(\"s\")\n",
    "my_list.add(\"a\")\n",
    "my_list.add(\"l\")\n",
    "my_list.add(\"g\")\n",
    "my_list.add(\"u\")\n",
    "my_list.add(\"o\")\n",
    "my_list.add(\"D\")\n",
    "my_list.print_vals()\n",
    "\n",
    "#hook up the 'a' node to the 'o' node\n",
    "my_list.head.GetNext().GetNext().GetNext().GetNext().GetNext().SetNext(my_list.head.GetNext())\n",
    "\n",
    "loop(my_list)"
   ]
  }
 ],
 "metadata": {
  "kernelspec": {
   "display_name": "Python 3",
   "language": "python",
   "name": "python3"
  },
  "language_info": {
   "codemirror_mode": {
    "name": "ipython",
    "version": 3
   },
   "file_extension": ".py",
   "mimetype": "text/x-python",
   "name": "python",
   "nbconvert_exporter": "python",
   "pygments_lexer": "ipython3",
   "version": "3.6.5"
  }
 },
 "nbformat": 4,
 "nbformat_minor": 2
}
